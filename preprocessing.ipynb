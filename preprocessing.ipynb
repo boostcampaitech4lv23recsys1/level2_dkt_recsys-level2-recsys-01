{
 "cells": [
  {
   "cell_type": "markdown",
   "metadata": {},
   "source": [
    "# Todo (Issue)\n",
    "- answer code 누적합 column 제작\n",
    "- 그래프 데이터 만들기\n",
    "- 해당 시험을 몇 번째 푸는지 여부 (11/21 완)\n",
    "   - 해당 시험을 몇 번째 푸는지 여부 (11/21 완)\n",
    "   - 시험 -> 문제, 태그로 변환도 가능하며 이전에 맞췄는지 여부도 포함 (11/21 완)\n",
    "- 문제를 푸는데 걸린시간이 평균 시간보다 오래걸렸는지 여부 추가\n",
    "   - 한 유저가 어떤 문제를 풀때 그 문제를 푸는데 걸린 시간이 그 문제의 평균 시간보다 적게 걸렸는지 혹은 오래 걸렸는지 여부를 column에 추가\n",
    "   - 해당 문항을 맞춘 학생의 평균 시간과 틀린 학생의 평균 시간 2가지를 Feature로 주어 활용하는 방안도 있음\n",
    "- 사용자의 정답률 column 제작 (11/21 완)\n",
    "   - 누적 정답률, 최근 정답률 두 가지를 제작한다. 최근 정답률은 window size를 줘서 최근 N개의 문항에 대한 평균을 구할 수 있도록 (11/21 완, N개 문항은 모델 부분에서 적용)\n",
    "- 문항, 시험지, 태그의 평균 정답률 (11/21 완)\n",
    "   - [EDA] test에서 정답을 예측해야 되는 문제가 train에도 있는지 확인\n",
    "- 문제를 푼 사용자와 사용자가 푼 문항을 MF나 SVD를 통해 user-item matrix 생성해 feature로 사용"
   ]
  },
  {
   "cell_type": "markdown",
   "metadata": {},
   "source": [
    "# Todo (추가)\n",
    "- 장원준 EDA (11/21 완)\n",
    "   - 각 문항 번호 column 추가\n",
    "   - 각 유저별 푼 카테고리 목록 추가\n",
    "- 정준환 EDA\n",
    "   - timestamp이용해 걸린 시간 계산\n",
    "   - 오류 시간은 -1 처리, threshold 걸기(200초)\n",
    "- 이수경 EDA\n",
    "   - timestamp이용해 걸린 시간 계산(elapsed_time)\n",
    "   - 한 유저가 동일한 시험지를 두 번 이상 풀었을 경우를 고려 못 해줌 => 고려 필요\n",
    "   - 한 유저가 동일한 시험지를 연속해서 풀었을 수도 있음 => 확인 필요 => 288번 있음\n",
    "   - 문제 번호는 랜덤이라는 것 주의해서 처리\n",
    "   - 시간 이상치 처리(threshold 200초, 평균 처리 등)\n",
    "   - 7863번 knowledgetag 제외 모두 고유한 category를 가진다는 것 유념\n",
    "- 류명현 EDA\n",
    "   - 시간대별 정답률 다르므로 timestamp를 나누자\n",
    "\n"
   ]
  },
  {
   "cell_type": "code",
   "execution_count": null,
   "metadata": {},
   "outputs": [],
   "source": [
    "import pandas as pd\n",
    "import seaborn as sns\n",
    "import matplotlib.pyplot as plt\n",
    "from tqdm import tqdm"
   ]
  },
  {
   "cell_type": "code",
   "execution_count": null,
   "metadata": {},
   "outputs": [],
   "source": [
    "train = pd.read_csv('data/train_data.csv')\n",
    "test = pd.read_csv('data/test_data.csv')\n",
    "submission = pd.read_csv('data/sample_submission.csv')"
   ]
  },
  {
   "cell_type": "code",
   "execution_count": null,
   "metadata": {},
   "outputs": [],
   "source": [
    "train\n",
    "new_train = train.copy()\n",
    "new_train"
   ]
  },
  {
   "cell_type": "markdown",
   "metadata": {},
   "source": [
    "# 기본 전처리\n",
    "- 새로운 column 추가\n",
    "   - question_number: 문제가 테스트 상에서 몇 번인지\n",
    "   - test_cat: 시험의 대분류 category가 몇인지\n",
    "   - test_id: 시험지 고유의 번호\n",
    "   - test_month: Timestamp에 찍힌 달\n",
    "   - test_day: Timestamp에 찍힌 일\n",
    "   - test_hour: Timestamp에 찍힌 시간\n",
    "- 날짜 데이터 변경\n",
    "   - 2019년 12월 31일 데이터에 대해 2020년 1월 1일로 변경 후 test_year는 버림"
   ]
  },
  {
   "cell_type": "code",
   "execution_count": null,
   "metadata": {},
   "outputs": [],
   "source": [
    "new_train['question_number'] = new_train['assessmentItemID'].apply(lambda x: x[8:10]).map(int) # 문제 순서 번호\n",
    "new_train['test_cat'] = new_train['testId'].apply(lambda x: x[2]) # 시험지 대분류\n",
    "new_train['test_id'] = new_train['assessmentItemID'].apply(lambda x: x[4:7]) # 시험지 고유 번호\n",
    "new_train[\"Timestamp\"] = new_train[\"Timestamp\"].astype(\"str\") # timestamp 처리"
   ]
  },
  {
   "cell_type": "code",
   "execution_count": null,
   "metadata": {},
   "outputs": [],
   "source": [
    "new_train['test_year'] = new_train['Timestamp'].apply(lambda x: x[:4])\n",
    "new_train['test_day'] = new_train['Timestamp'].apply(lambda x: x[8:10])\n",
    "new_train['test_hour'] = new_train['Timestamp'].apply(lambda x: x[11:13])\n",
    "new_train['test_month'] = new_train['Timestamp'].apply(lambda x: x[5:7])"
   ]
  },
  {
   "cell_type": "code",
   "execution_count": null,
   "metadata": {},
   "outputs": [],
   "source": [
    "# timestamp에서 2019년 데이터는 없앰\n",
    "new_train.loc[new_train['Timestamp'].str.contains('2019'), 'test_year'] = '2020'\n",
    "new_train.loc[new_train['Timestamp'].str.contains('2019'), 'test_month'] = '01'\n",
    "new_train.loc[new_train['Timestamp'].str.contains('2019'), 'test_day'] = '01'\n",
    "\n",
    "new_train[new_train['Timestamp'].str.contains('2019')]"
   ]
  },
  {
   "cell_type": "code",
   "execution_count": null,
   "metadata": {},
   "outputs": [],
   "source": [
    "new_train = new_train.drop(['test_year'], axis = 1)\n",
    "new_train"
   ]
  },
  {
   "cell_type": "markdown",
   "metadata": {},
   "source": [
    "# [전처리] 문항, 시험지, 태그의 평균 정답률#14"
   ]
  },
  {
   "cell_type": "markdown",
   "metadata": {},
   "source": [
    "- new_train2 생성"
   ]
  },
  {
   "cell_type": "code",
   "execution_count": null,
   "metadata": {},
   "outputs": [],
   "source": [
    "# 문항 시험지 태그의 평균정답률\n",
    "# 시험지의 평균 정답률\n",
    "test_acc = new_train.groupby(['test_cat', 'test_id'])['answerCode'].mean().reset_index()\n",
    "test_acc.columns = ['test_cat','test_id','test_acc']\n",
    "new_train2 = pd.merge(left = new_train, right = test_acc, on = ['test_cat', 'test_id'], how = 'left')\n",
    "\n",
    "# 문항의 평균 정답률\n",
    "question_acc = new_train.groupby(['test_cat', 'test_id', 'question_number'])['answerCode'].mean().reset_index()\n",
    "question_acc.columns = ['test_cat', 'test_id', 'question_number', 'question_acc']\n",
    "new_train2 = pd.merge(left = new_train2, right = question_acc, on = ['test_cat', 'test_id', 'question_number'], how = 'left')\n",
    "\n",
    "# 태그의 평균 정답률\n",
    "tag_acc = new_train.groupby(['KnowledgeTag'])['answerCode'].mean().reset_index()\n",
    "tag_acc.columns = ['KnowledgeTag', 'tag_acc']\n",
    "new_train2 = pd.merge(left = new_train2, right = tag_acc, on = ['KnowledgeTag'], how = 'left')"
   ]
  },
  {
   "cell_type": "code",
   "execution_count": null,
   "metadata": {},
   "outputs": [],
   "source": [
    "new_train2"
   ]
  },
  {
   "cell_type": "code",
   "execution_count": null,
   "metadata": {},
   "outputs": [],
   "source": [
    "# 시간별 정답률\n",
    "time_acc = new_train.groupby(['test_hour'])['answerCode'].mean().reset_index()\n",
    "time_acc.columns = ['test_hour', 'time_acc']\n",
    "new_train2 = pd.merge(left = new_train2, right = time_acc, on = ['test_hour'], how = 'left')"
   ]
  },
  {
   "cell_type": "code",
   "execution_count": null,
   "metadata": {},
   "outputs": [],
   "source": [
    "# 월별 정답률\n",
    "month_acc = new_train.groupby(['test_month'])['answerCode'].mean().reset_index()\n",
    "month_acc.columns = ['test_month', 'month_acc']\n",
    "new_train2 = pd.merge(left = new_train2, right = month_acc, on = ['test_month'], how = 'left')"
   ]
  },
  {
   "cell_type": "code",
   "execution_count": null,
   "metadata": {},
   "outputs": [],
   "source": [
    "# 누적 정답률\n",
    "user_acc = new_train.groupby('userID')['answerCode'].mean().reset_index()\n",
    "user_acc.columns = ['userID', 'user_acc']\n",
    "new_train2 = pd.merge(left = new_train2, right = user_acc, on = 'userID', how = 'left')"
   ]
  },
  {
   "cell_type": "code",
   "execution_count": null,
   "metadata": {},
   "outputs": [],
   "source": [
    "new_train2"
   ]
  },
  {
   "cell_type": "code",
   "execution_count": null,
   "metadata": {},
   "outputs": [],
   "source": [
    "new_train3 = new_train2.copy()"
   ]
  },
  {
   "cell_type": "markdown",
   "metadata": {},
   "source": [
    "# [전처리] 해당 시험/문제/태그를 몇 번째 푸는지 여부"
   ]
  },
  {
   "cell_type": "code",
   "execution_count": null,
   "metadata": {},
   "outputs": [],
   "source": [
    "# 문제를 몇 번 푸는지?\n",
    "exp_question = new_train3.groupby(['test_cat', 'test_id', 'question_number'])['userID'].value_counts().reset_index(name='exp_question')\n",
    "new_train3 = pd.merge(left = new_train3, right = exp_question, on = ['userID', 'test_cat', 'test_id', 'question_number'], how = 'left')"
   ]
  },
  {
   "cell_type": "code",
   "execution_count": null,
   "metadata": {},
   "outputs": [],
   "source": [
    "new_train3.head(10)"
   ]
  },
  {
   "cell_type": "code",
   "execution_count": null,
   "metadata": {},
   "outputs": [],
   "source": [
    "\n",
    "# 시험을 몇 번 푸는지?\n",
    "\n",
    "fff = new_train3.groupby(['test_cat', 'test_id'])['question_number'].unique().reset_index()\n",
    "fff['len'] = fff['question_number'].apply(len)\n",
    "\n",
    "# new_train3['len'] = new_train3['question_number'].apply(len)\n",
    "# test2len = { key:value for key, value in zip(new_train3['testId'], new_train3['len'])}\n",
    "# train['question_len'] = train['testId'].map(test2len)\n",
    "\n",
    "exp_test = new_train3.groupby(['test_cat', 'test_id'])['userID'].value_counts().reset_index(name='exp_test')\n",
    "new_train3 = pd.merge(left = new_train3, right = exp_test, on = ['userID', 'test_cat', 'test_id'], how = 'left')\n",
    "new_train3 = pd.merge(left = new_train3, right = fff, on = ['test_cat', 'test_id'], how = 'left')\n",
    "new_train3\n"
   ]
  },
  {
   "cell_type": "code",
   "execution_count": null,
   "metadata": {},
   "outputs": [],
   "source": [
    "new_train3"
   ]
  },
  {
   "cell_type": "code",
   "execution_count": null,
   "metadata": {},
   "outputs": [],
   "source": [
    "type(new_train3['len'][0])"
   ]
  },
  {
   "cell_type": "code",
   "execution_count": null,
   "metadata": {},
   "outputs": [],
   "source": [
    "new_train3['exp_test'] = new_train3.apply(lambda x: x['exp_test'] / x['len'], axis = 1)\n",
    "# df['column3'] = df.apply(lambda x: cos_sim(x['column1'], x['column2']), axis=1)\n",
    "new_train3"
   ]
  },
  {
   "cell_type": "code",
   "execution_count": null,
   "metadata": {},
   "outputs": [],
   "source": [
    "new_train3.rename(columns = {'question_number_x':'question_number','question_number_y':'question_nums', 'len':'question_numslen'},inplace=True)"
   ]
  },
  {
   "cell_type": "code",
   "execution_count": null,
   "metadata": {},
   "outputs": [],
   "source": [
    "new_train3['exp_test'] = new_train3['exp_test'].astype(int)"
   ]
  },
  {
   "cell_type": "code",
   "execution_count": null,
   "metadata": {},
   "outputs": [],
   "source": [
    "new_train3"
   ]
  },
  {
   "cell_type": "code",
   "execution_count": null,
   "metadata": {},
   "outputs": [],
   "source": [
    "# 태그를 몇 번 푸는지?\n",
    "exp_tag = new_train3.groupby(['KnowledgeTag'])['userID'].value_counts().reset_index(name='exp_tag')\n",
    "new_train3 = pd.merge(left = new_train3, right = exp_tag, on = ['userID', 'KnowledgeTag'], how = 'left')\n",
    "new_train3"
   ]
  },
  {
   "cell_type": "code",
   "execution_count": null,
   "metadata": {},
   "outputs": [],
   "source": [
    "new_train3.rename(columns = {'time_acc':'hour_acc'},inplace=True) # 실수 복구"
   ]
  },
  {
   "cell_type": "code",
   "execution_count": null,
   "metadata": {},
   "outputs": [],
   "source": [
    "new_train3.columns"
   ]
  },
  {
   "cell_type": "code",
   "execution_count": null,
   "metadata": {},
   "outputs": [],
   "source": [
    "new_train3 = new_train3[['userID', 'assessmentItemID', 'testId', 'answerCode', 'Timestamp', 'KnowledgeTag', 'test_cat',\n",
    "       'test_id', 'question_number', 'question_numslen', 'test_month', 'test_day', 'test_hour',\n",
    "       'user_acc', 'test_acc', 'tag_acc', 'question_acc', 'month_acc',\n",
    "       'hour_acc', 'exp_test', 'exp_tag', 'exp_question']]"
   ]
  },
  {
   "cell_type": "code",
   "execution_count": null,
   "metadata": {},
   "outputs": [],
   "source": [
    "new_train3"
   ]
  },
  {
   "cell_type": "code",
   "execution_count": null,
   "metadata": {},
   "outputs": [],
   "source": [
    "new_train3.columns"
   ]
  },
  {
   "cell_type": "code",
   "execution_count": null,
   "metadata": {},
   "outputs": [],
   "source": [
    "time_train = new_train3.copy()\n",
    "time_train"
   ]
  },
  {
   "cell_type": "code",
   "execution_count": null,
   "metadata": {},
   "outputs": [],
   "source": [
    "# time_train에서 다른 테스트의 question_number가 같은 문제를 동시에 푼 경우 존재 확인\n",
    "check = time_train.groupby(['userID', 'Timestamp', 'question_number'])['answerCode'].count().to_frame()\n",
    "check[check['answerCode'] > 1]"
   ]
  },
  {
   "cell_type": "code",
   "execution_count": null,
   "metadata": {},
   "outputs": [],
   "source": [
    "# assessmentItemID로 확인하면 겹치는 것은 없음 -> 완전히 같은 문제를 동시에 푸는 경우는 없다는 말\n",
    "check2 = time_train.groupby(['userID', 'Timestamp', 'assessmentItemID'])['answerCode'].count().to_frame()\n",
    "check2[check2['answerCode'] > 1]"
   ]
  },
  {
   "cell_type": "code",
   "execution_count": null,
   "metadata": {},
   "outputs": [],
   "source": [
    "time_train['shift'] = time_train.groupby('userID')['answerCode'].shift().fillna(0)\n",
    "time_train['ans_cumsum'] = time_train.groupby('userID')['shift'].cumsum()\n",
    "time_train = time_train.drop('shift', axis=1)\n",
    "\n",
    "time_train[['userID', 'answerCode', 'ans_cumsum']].tail(50)"
   ]
  },
  {
   "cell_type": "code",
   "execution_count": null,
   "metadata": {},
   "outputs": [],
   "source": [
    "time_train.columns"
   ]
  },
  {
   "cell_type": "markdown",
   "metadata": {},
   "source": [
    "# 정리\n",
    "## train\n",
    "- 원본\n",
    "## new_train\n",
    "- 다른 기법 없이 기존 columns만 정리하여 새로운 column 생성\n",
    "- userID\t\n",
    "- answerCode\t\n",
    "- Timestamp\t\n",
    "- KnowledgeTag\t\n",
    "- question_number\t\n",
    "- test_cat\t\n",
    "- test_id\t\n",
    "- test_day\t\n",
    "- test_hour\t\n",
    "- test_month\n",
    "## new_train2\n",
    "- 새로운 기법(완료된 project 참조) 적용해 column 생성\n",
    "- userID\t\n",
    "- answerCode\t\n",
    "- Timestamp\t\n",
    "- KnowledgeTag\t\n",
    "- question_number\t\n",
    "- test_cat\t\n",
    "- test_id\t\n",
    "- test_day\t\n",
    "- test_hour\t\n",
    "- test_month\t\n",
    "- test_acc\t\n",
    "- question_acc\t\n",
    "- tag_acc\t\n",
    "- time_acc\t\n",
    "- month_acc\t\n",
    "- user_acc\n",
    "## new_train3 (11/21 월요일)\n",
    "- 태그, 문제, 테스트 중복 횟수 column 추가~\n",
    "- userID: 유저 아이디\n",
    "- answerCode: 정답 여부 1: 정답 0: 오답\n",
    "- Timestamp: 문제를 풀기 시작한 시간\n",
    "- KnowledgeTag: 문제 유형 태그\n",
    "- test_cat: 시험의 대분류\n",
    "- test_id: 시험의 고유 아이디\n",
    "- question_number: 시험에서의 문제 번호\n",
    "   - test_cat, test_id, question_number는 기존의 assessmentItemID를 분해한 것\n",
    "- question_numslen: 시험에서 몇 개의 번호가 존재하는가 (1,2,3,5가 출제되었다면 question_numslen는 4)\n",
    "- test_month: 시험을 본 달\n",
    "- test_day: 시험을 본 일\n",
    "- test_hour: 시험을 본 시간\n",
    "   - test_month, test_day, test_hour는 Timestamp에서 의미가 있다고 판단되는 feature\n",
    "   - 2019/12/31이 일부 있었으나, 2020/01/01로 바꾸어서 test_year가 의미 없어짐\n",
    "- user_acc: 해당 유저의 전체 정답률\n",
    "- test_acc: 해당 test의 정답률\n",
    "- tag_acc: 해당 tag의 정답률\n",
    "- question_acc: 해당 문제의 정답률\n",
    "- month_acc: 이 달의 전체 유저의 정답률\n",
    "- hour_acc: 이 시간의 전체 유저의 정답률\n",
    "- exp_test: 해당 테스트를 경험한 수 (최소 1 최대 3)\n",
    "- exp_tag: 해당 태그를 경험한 수\n",
    "- exp_question: 해당 문제를 경험한 수(대체로 exp_test를 따라갈 것)\n",
    "## time_train (11/22 화요일)\n",
    "- ans_cumsum: 시간 순서에 따른 유저의 answer code 누적합"
   ]
  },
  {
   "cell_type": "markdown",
   "metadata": {},
   "source": []
  }
 ],
 "metadata": {
  "kernelspec": {
   "display_name": "Python 3.8.15 ('dkt')",
   "language": "python",
   "name": "python3"
  },
  "language_info": {
   "codemirror_mode": {
    "name": "ipython",
    "version": 3
   },
   "file_extension": ".py",
   "mimetype": "text/x-python",
   "name": "python",
   "nbconvert_exporter": "python",
   "pygments_lexer": "ipython3",
   "version": "3.8.13"
  },
  "orig_nbformat": 4,
  "vscode": {
   "interpreter": {
    "hash": "09d4b5de27b89318d6e35b29f9634657110a12e6b33fcea780feda7aad3e9c4b"
   }
  }
 },
 "nbformat": 4,
 "nbformat_minor": 2
}
