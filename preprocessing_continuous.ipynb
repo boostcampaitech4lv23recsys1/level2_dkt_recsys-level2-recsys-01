{
 "cells": [
  {
   "cell_type": "code",
   "execution_count": 2,
   "outputs": [],
   "source": [
    "import pandas as pd"
   ],
   "metadata": {
    "collapsed": false
   }
  },
  {
   "cell_type": "code",
   "execution_count": 3,
   "outputs": [],
   "source": [
    "train = pd.read_csv('data/train_data.csv')\n",
    "test = pd.read_csv('data/test_data.csv')\n",
    "submission = pd.read_csv('data/sample_submission.csv')"
   ],
   "metadata": {
    "collapsed": false
   }
  },
  {
   "cell_type": "code",
   "execution_count": 9,
   "outputs": [],
   "source": [
    "train[\"continuous_user\"] = train.groupby(\"userID\")[\"answerCode\"]\\\n",
    "    .apply(lambda x: x * (x.groupby((x != x.shift()).cumsum()).cumcount() + 1))\n",
    "\n",
    "train[\"continuous_test\"] = train.groupby([\"userID\", \"testId\"])[\"answerCode\"]\\\n",
    "    .apply(lambda x: x * (x.groupby((x != x.shift()).cumsum()).cumcount() + 1))"
   ],
   "metadata": {
    "collapsed": false
   }
  },
  {
   "cell_type": "code",
   "execution_count": 10,
   "outputs": [
    {
     "data": {
      "text/plain": "         userID assessmentItemID      testId  answerCode            Timestamp  \\\n0             0       A060001001  A060000001           1  2020-03-24 00:17:11   \n1             0       A060001002  A060000001           1  2020-03-24 00:17:14   \n2             0       A060001003  A060000001           1  2020-03-24 00:17:22   \n3             0       A060001004  A060000001           1  2020-03-24 00:17:29   \n4             0       A060001005  A060000001           1  2020-03-24 00:17:36   \n...         ...              ...         ...         ...                  ...   \n2266581    7441       A030071005  A030000071           0  2020-06-05 06:50:21   \n2266582    7441       A040165001  A040000165           1  2020-08-21 01:06:39   \n2266583    7441       A040165002  A040000165           1  2020-08-21 01:06:50   \n2266584    7441       A040165003  A040000165           1  2020-08-21 01:07:36   \n2266585    7441       A040165004  A040000165           1  2020-08-21 01:08:49   \n\n         KnowledgeTag  continuous  continuous_user  continuous_test  \n0                7224           1                1                1  \n1                7225           2                2                2  \n2                7225           3                3                3  \n3                7225           4                4                4  \n4                7225           5                5                5  \n...               ...         ...              ...              ...  \n2266581           438           0                0                0  \n2266582          8836           1                1                1  \n2266583          8836           2                2                2  \n2266584          8836           3                3                3  \n2266585          8836           4                4                4  \n\n[2266586 rows x 9 columns]",
      "text/html": "<div>\n<style scoped>\n    .dataframe tbody tr th:only-of-type {\n        vertical-align: middle;\n    }\n\n    .dataframe tbody tr th {\n        vertical-align: top;\n    }\n\n    .dataframe thead th {\n        text-align: right;\n    }\n</style>\n<table border=\"1\" class=\"dataframe\">\n  <thead>\n    <tr style=\"text-align: right;\">\n      <th></th>\n      <th>userID</th>\n      <th>assessmentItemID</th>\n      <th>testId</th>\n      <th>answerCode</th>\n      <th>Timestamp</th>\n      <th>KnowledgeTag</th>\n      <th>continuous</th>\n      <th>continuous_user</th>\n      <th>continuous_test</th>\n    </tr>\n  </thead>\n  <tbody>\n    <tr>\n      <th>0</th>\n      <td>0</td>\n      <td>A060001001</td>\n      <td>A060000001</td>\n      <td>1</td>\n      <td>2020-03-24 00:17:11</td>\n      <td>7224</td>\n      <td>1</td>\n      <td>1</td>\n      <td>1</td>\n    </tr>\n    <tr>\n      <th>1</th>\n      <td>0</td>\n      <td>A060001002</td>\n      <td>A060000001</td>\n      <td>1</td>\n      <td>2020-03-24 00:17:14</td>\n      <td>7225</td>\n      <td>2</td>\n      <td>2</td>\n      <td>2</td>\n    </tr>\n    <tr>\n      <th>2</th>\n      <td>0</td>\n      <td>A060001003</td>\n      <td>A060000001</td>\n      <td>1</td>\n      <td>2020-03-24 00:17:22</td>\n      <td>7225</td>\n      <td>3</td>\n      <td>3</td>\n      <td>3</td>\n    </tr>\n    <tr>\n      <th>3</th>\n      <td>0</td>\n      <td>A060001004</td>\n      <td>A060000001</td>\n      <td>1</td>\n      <td>2020-03-24 00:17:29</td>\n      <td>7225</td>\n      <td>4</td>\n      <td>4</td>\n      <td>4</td>\n    </tr>\n    <tr>\n      <th>4</th>\n      <td>0</td>\n      <td>A060001005</td>\n      <td>A060000001</td>\n      <td>1</td>\n      <td>2020-03-24 00:17:36</td>\n      <td>7225</td>\n      <td>5</td>\n      <td>5</td>\n      <td>5</td>\n    </tr>\n    <tr>\n      <th>...</th>\n      <td>...</td>\n      <td>...</td>\n      <td>...</td>\n      <td>...</td>\n      <td>...</td>\n      <td>...</td>\n      <td>...</td>\n      <td>...</td>\n      <td>...</td>\n    </tr>\n    <tr>\n      <th>2266581</th>\n      <td>7441</td>\n      <td>A030071005</td>\n      <td>A030000071</td>\n      <td>0</td>\n      <td>2020-06-05 06:50:21</td>\n      <td>438</td>\n      <td>0</td>\n      <td>0</td>\n      <td>0</td>\n    </tr>\n    <tr>\n      <th>2266582</th>\n      <td>7441</td>\n      <td>A040165001</td>\n      <td>A040000165</td>\n      <td>1</td>\n      <td>2020-08-21 01:06:39</td>\n      <td>8836</td>\n      <td>1</td>\n      <td>1</td>\n      <td>1</td>\n    </tr>\n    <tr>\n      <th>2266583</th>\n      <td>7441</td>\n      <td>A040165002</td>\n      <td>A040000165</td>\n      <td>1</td>\n      <td>2020-08-21 01:06:50</td>\n      <td>8836</td>\n      <td>2</td>\n      <td>2</td>\n      <td>2</td>\n    </tr>\n    <tr>\n      <th>2266584</th>\n      <td>7441</td>\n      <td>A040165003</td>\n      <td>A040000165</td>\n      <td>1</td>\n      <td>2020-08-21 01:07:36</td>\n      <td>8836</td>\n      <td>3</td>\n      <td>3</td>\n      <td>3</td>\n    </tr>\n    <tr>\n      <th>2266585</th>\n      <td>7441</td>\n      <td>A040165004</td>\n      <td>A040000165</td>\n      <td>1</td>\n      <td>2020-08-21 01:08:49</td>\n      <td>8836</td>\n      <td>4</td>\n      <td>4</td>\n      <td>4</td>\n    </tr>\n  </tbody>\n</table>\n<p>2266586 rows × 9 columns</p>\n</div>"
     },
     "execution_count": 10,
     "metadata": {},
     "output_type": "execute_result"
    }
   ],
   "source": [
    "train"
   ],
   "metadata": {
    "collapsed": false
   }
  }
 ],
 "metadata": {
  "kernelspec": {
   "display_name": "Python 3",
   "language": "python",
   "name": "python3"
  },
  "language_info": {
   "codemirror_mode": {
    "name": "ipython",
    "version": 2
   },
   "file_extension": ".py",
   "mimetype": "text/x-python",
   "name": "python",
   "nbconvert_exporter": "python",
   "pygments_lexer": "ipython2",
   "version": "2.7.6"
  }
 },
 "nbformat": 4,
 "nbformat_minor": 0
}
