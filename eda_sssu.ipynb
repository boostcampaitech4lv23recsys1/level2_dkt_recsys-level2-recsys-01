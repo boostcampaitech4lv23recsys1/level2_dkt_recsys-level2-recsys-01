{
 "cells": [
  {
   "cell_type": "code",
   "execution_count": 1,
   "id": "639714da-3d3d-406b-bc50-cafa15e2c166",
   "metadata": {},
   "outputs": [],
   "source": [
    "import pandas as pd\n",
    "import numpy as np\n",
    "import os\n",
    "import seaborn as sns\n",
    "import matplotlib.pyplot as plt\n",
    "\n",
    "from tqdm import tqdm"
   ]
  },
  {
   "cell_type": "code",
   "execution_count": 2,
   "id": "56e345fd-7638-4058-b8e8-51da4279c47e",
   "metadata": {},
   "outputs": [],
   "source": [
    "train = pd.read_csv('./data/train_data.csv')\n",
    "test = pd.read_csv('./data/test_data.csv')\n",
    "sub = pd.read_csv('./data/sample_submission.csv')\n",
    "\n",
    "train_origin = pd.read_csv('./data/train_data.csv')\n",
    "test_origin = pd.read_csv('./data/test_data.csv')\n",
    "sub_origin = pd.read_csv('./data/sample_submission.csv')"
   ]
  },
  {
   "cell_type": "markdown",
   "id": "17361171",
   "metadata": {},
   "source": [
    "# 1. Feature Instruction\n",
    "- userID 사용자의 고유번호입니다. 총 7,442명의 고유 사용자가 있으며, train/test셋은 이 userID를 기준으로 90/10의 비율로 나누어졌습니다.\n",
    "\n",
    "- assessmentItemID 문항의 고유번호입니다. 총 9,454개의 고유 문항이 있습니다. 이 일련 번호에 대한 규칙은 DKT 2강 EDA에서 다루었으니 강의 들어보시면 좋을 것 같습니다.\n",
    "\n",
    "- testId 시험지의 고유번호입니다. 문항과 시험지의 관계는 아래 그림을 참고하여 이해하시면 됩니다. 총 1,537개의 고유한 시험지가 있습니다.\n",
    "\n",
    "- answerCode 사용자가 해당 문항을 맞췄는지 여부에 대한 이진 데이터이며 0은 사용자가 해당 문항을 틀린 것, 1은 사용자가 해당 문항을 맞춘 것입니다.\n",
    "\n",
    "- Timestamp 사용자가 해당문항을 풀기 시작한 시점의 데이터입니다.\n",
    "\n",
    "- KnowledgeTag 문항 당 하나씩 배정되는 태그로, 일종의 중분류 역할을 합니다. 태그 자체의 정보는 비식별화 되어있지만, 문항을 군집화하는데 사용할 수 있습니다. 912개의 고유 태그가 존재합니다.\n",
    "    - Test data에 대해서도 마찬가지이며, 이 때 Timestamp상 가장 마지막에 푼 문항의 answerCode는 모두 -1로 표시되어 있습니다. **_여러분들의 과제는 이 -1로 처리되어 있는 interaction의 정답 여부를 맞추는 것입니다._**"
   ]
  },
  {
   "cell_type": "markdown",
   "id": "2999e3cb",
   "metadata": {},
   "source": [
    "# 2. 기본 전처리\n",
    "- testId\n",
    "    - 모두 공통이므로 제거:\n",
    "        - 맨 앞 A, 가운데 000, 첫번째 세번재 0\n",
    "    - test_num:\n",
    "        - 마지막 세개 (test ID)\n",
    "    - test_cat:\n",
    "        - 테스트 대분류\n",
    "- assessmentItemID\n",
    "    - questionID\n",
    "        - 모두 공통이므로 제거:\n",
    "            - 맨 앞 A\n",
    "        - test_num 및 test_cat으로 있기 때문에 제거\n",
    "            - test_ID\n",
    "- elapsed time 만들기"
   ]
  },
  {
   "cell_type": "markdown",
   "id": "4c30aa11",
   "metadata": {},
   "source": [
    "### testId"
   ]
  },
  {
   "cell_type": "code",
   "execution_count": 3,
   "id": "86a059c1-65ca-4bb3-b2cc-40c9f1d56614",
   "metadata": {},
   "outputs": [],
   "source": [
    "# train testID column 쪼개기\n",
    "train['test_num'] = train['testId'].apply(lambda x : x[-3:])\n",
    "train['test_cat'] = train['testId'].apply(lambda x : x[2])\n",
    "# train = train.drop(['testId'], axis=1)\n"
   ]
  },
  {
   "cell_type": "markdown",
   "id": "50b78b8b",
   "metadata": {},
   "source": [
    "### assessmentItemID"
   ]
  },
  {
   "cell_type": "code",
   "execution_count": 4,
   "id": "ab0d5e54",
   "metadata": {},
   "outputs": [],
   "source": [
    "# train assessmentID 쪼개기\n",
    "train['questionID'] = train['assessmentItemID'].apply(lambda x : x[-3:])\n",
    "train['question_answer'] = train['questionID'].apply(str) + '_' + train['answerCode'].apply(str)"
   ]
  },
  {
   "cell_type": "code",
   "execution_count": 5,
   "id": "15b27e96",
   "metadata": {},
   "outputs": [],
   "source": [
    "user2question = train.groupby(by=['userID', 'test_num'])['question_answer'].apply(list).to_dict() # user의 시험지 별 푼 문제와 정답 딕셔너리"
   ]
  },
  {
   "cell_type": "markdown",
   "id": "dc2c54fa",
   "metadata": {},
   "source": [
    "### Timestamp -> elapsed time"
   ]
  },
  {
   "cell_type": "code",
   "execution_count": 6,
   "id": "6c134dd9",
   "metadata": {},
   "outputs": [],
   "source": [
    "# elapsed time: 문제 푸는데 소요 된 시간\n",
    "train['Timestamp'] = pd.to_datetime(train['Timestamp'])\n",
    "train['elapsed_time'] = train['Timestamp'].astype(int)\n",
    "\n",
    "tmp = list(train['elapsed_time'].diff() // 10**9)\n",
    "tmp.append(99999)\n",
    "train['elapsed_time'] = tmp[1:]"
   ]
  },
  {
   "cell_type": "code",
   "execution_count": 7,
   "id": "a83c12fd",
   "metadata": {},
   "outputs": [],
   "source": [
    "# user 또는 시험지가 바뀔 때 값이 잘못 들어가서 그 경우를 -1로 바꿔줌\n",
    "# -> 이 경우에는 user가 같은 시험지를 풀었을 때 값을 고려 못 해줌\n",
    "train['Timestamp'] = train['Timestamp'].astype(str)\n",
    "tmp_dict = train.groupby(['userID', 'testId'])['Timestamp'].max().to_frame().reset_index()\n",
    "tmp_dict['rev_time'] = -1\n",
    "tmp_dict = tmp_dict.set_index(['userID', 'testId', 'Timestamp']).to_dict()\n",
    "tmp_dict = tmp_dict['rev_time']\n",
    "train['tmp'] = tuple(zip(train.userID, train.testId, train.Timestamp))\n",
    "train['tmp'] = train['tmp'].map(tmp_dict)\n",
    "train['tmp'] = train['tmp'].fillna(train['elapsed_time'])\n",
    "train['elapsed_time'] = train['tmp']\n",
    "train.drop(['tmp'], axis=1, inplace=True)"
   ]
  },
  {
   "cell_type": "code",
   "execution_count": 8,
   "id": "2ed3ec90",
   "metadata": {},
   "outputs": [
    {
     "data": {
      "text/plain": [
       "-1.0           369284\n",
       " 0.0             3278\n",
       " 1.0            53821\n",
       " 2.0           109998\n",
       " 3.0            75778\n",
       "                ...  \n",
       " 7567850.0          1\n",
       " 7682832.0          1\n",
       " 8898824.0          1\n",
       " 12292722.0         1\n",
       " 14763424.0         1\n",
       "Name: elapsed_time, Length: 14118, dtype: int64"
      ]
     },
     "execution_count": 8,
     "metadata": {},
     "output_type": "execute_result"
    }
   ],
   "source": [
    "train['elapsed_time'].value_counts().sort_index() # 총 369284개가 -1"
   ]
  },
  {
   "cell_type": "markdown",
   "id": "9e790603",
   "metadata": {},
   "source": [
    "- 한 유저가 동일한 시험지를 두 번 이상 풀었을 경우를 고려 못 해줌 => 고려 필요\n",
    "- 한 유저가 동일한 시험지를 연속해서 풀었을 수도 있음 => 확인 필요 => 288번 있음"
   ]
  },
  {
   "cell_type": "code",
   "execution_count": 9,
   "id": "aac923eb",
   "metadata": {},
   "outputs": [
    {
     "data": {
      "text/html": [
       "<div>\n",
       "<style scoped>\n",
       "    .dataframe tbody tr th:only-of-type {\n",
       "        vertical-align: middle;\n",
       "    }\n",
       "\n",
       "    .dataframe tbody tr th {\n",
       "        vertical-align: top;\n",
       "    }\n",
       "\n",
       "    .dataframe thead th {\n",
       "        text-align: right;\n",
       "    }\n",
       "</style>\n",
       "<table border=\"1\" class=\"dataframe\">\n",
       "  <thead>\n",
       "    <tr style=\"text-align: right;\">\n",
       "      <th></th>\n",
       "      <th>userID</th>\n",
       "      <th>assessmentItemID</th>\n",
       "      <th>testId</th>\n",
       "      <th>answerCode</th>\n",
       "      <th>Timestamp</th>\n",
       "      <th>KnowledgeTag</th>\n",
       "      <th>test_num</th>\n",
       "      <th>test_cat</th>\n",
       "      <th>questionID</th>\n",
       "      <th>question_answer</th>\n",
       "      <th>elapsed_time</th>\n",
       "    </tr>\n",
       "  </thead>\n",
       "  <tbody>\n",
       "    <tr>\n",
       "      <th>2058390</th>\n",
       "      <td>4492</td>\n",
       "      <td>A060152001</td>\n",
       "      <td>A060000152</td>\n",
       "      <td>1</td>\n",
       "      <td>2020-04-08 11:37:36</td>\n",
       "      <td>1458</td>\n",
       "      <td>152</td>\n",
       "      <td>6</td>\n",
       "      <td>001</td>\n",
       "      <td>001_1</td>\n",
       "      <td>32.0</td>\n",
       "    </tr>\n",
       "    <tr>\n",
       "      <th>2058391</th>\n",
       "      <td>4492</td>\n",
       "      <td>A060152002</td>\n",
       "      <td>A060000152</td>\n",
       "      <td>0</td>\n",
       "      <td>2020-04-08 11:38:08</td>\n",
       "      <td>1458</td>\n",
       "      <td>152</td>\n",
       "      <td>6</td>\n",
       "      <td>002</td>\n",
       "      <td>002_0</td>\n",
       "      <td>4.0</td>\n",
       "    </tr>\n",
       "    <tr>\n",
       "      <th>2058392</th>\n",
       "      <td>4492</td>\n",
       "      <td>A060152003</td>\n",
       "      <td>A060000152</td>\n",
       "      <td>0</td>\n",
       "      <td>2020-04-08 11:38:12</td>\n",
       "      <td>1458</td>\n",
       "      <td>152</td>\n",
       "      <td>6</td>\n",
       "      <td>003</td>\n",
       "      <td>003_0</td>\n",
       "      <td>4.0</td>\n",
       "    </tr>\n",
       "    <tr>\n",
       "      <th>2058393</th>\n",
       "      <td>4492</td>\n",
       "      <td>A060152004</td>\n",
       "      <td>A060000152</td>\n",
       "      <td>0</td>\n",
       "      <td>2020-04-08 11:38:16</td>\n",
       "      <td>1458</td>\n",
       "      <td>152</td>\n",
       "      <td>6</td>\n",
       "      <td>004</td>\n",
       "      <td>004_0</td>\n",
       "      <td>3.0</td>\n",
       "    </tr>\n",
       "    <tr>\n",
       "      <th>2058394</th>\n",
       "      <td>4492</td>\n",
       "      <td>A060152005</td>\n",
       "      <td>A060000152</td>\n",
       "      <td>0</td>\n",
       "      <td>2020-04-08 11:38:19</td>\n",
       "      <td>1458</td>\n",
       "      <td>152</td>\n",
       "      <td>6</td>\n",
       "      <td>005</td>\n",
       "      <td>005_0</td>\n",
       "      <td>3.0</td>\n",
       "    </tr>\n",
       "    <tr>\n",
       "      <th>2058395</th>\n",
       "      <td>4492</td>\n",
       "      <td>A060152006</td>\n",
       "      <td>A060000152</td>\n",
       "      <td>0</td>\n",
       "      <td>2020-04-08 11:38:22</td>\n",
       "      <td>1458</td>\n",
       "      <td>152</td>\n",
       "      <td>6</td>\n",
       "      <td>006</td>\n",
       "      <td>006_0</td>\n",
       "      <td>4.0</td>\n",
       "    </tr>\n",
       "    <tr>\n",
       "      <th>2058396</th>\n",
       "      <td>4492</td>\n",
       "      <td>A060152007</td>\n",
       "      <td>A060000152</td>\n",
       "      <td>0</td>\n",
       "      <td>2020-04-08 11:38:26</td>\n",
       "      <td>1458</td>\n",
       "      <td>152</td>\n",
       "      <td>6</td>\n",
       "      <td>007</td>\n",
       "      <td>007_0</td>\n",
       "      <td>14763424.0</td>\n",
       "    </tr>\n",
       "    <tr>\n",
       "      <th>2058418</th>\n",
       "      <td>4492</td>\n",
       "      <td>A060152001</td>\n",
       "      <td>A060000152</td>\n",
       "      <td>1</td>\n",
       "      <td>2020-10-07 10:29:54</td>\n",
       "      <td>1458</td>\n",
       "      <td>152</td>\n",
       "      <td>6</td>\n",
       "      <td>001</td>\n",
       "      <td>001_1</td>\n",
       "      <td>541.0</td>\n",
       "    </tr>\n",
       "    <tr>\n",
       "      <th>2058419</th>\n",
       "      <td>4492</td>\n",
       "      <td>A060152002</td>\n",
       "      <td>A060000152</td>\n",
       "      <td>1</td>\n",
       "      <td>2020-10-07 10:38:55</td>\n",
       "      <td>1458</td>\n",
       "      <td>152</td>\n",
       "      <td>6</td>\n",
       "      <td>002</td>\n",
       "      <td>002_1</td>\n",
       "      <td>126.0</td>\n",
       "    </tr>\n",
       "    <tr>\n",
       "      <th>2058420</th>\n",
       "      <td>4492</td>\n",
       "      <td>A060152003</td>\n",
       "      <td>A060000152</td>\n",
       "      <td>1</td>\n",
       "      <td>2020-10-07 10:41:01</td>\n",
       "      <td>1458</td>\n",
       "      <td>152</td>\n",
       "      <td>6</td>\n",
       "      <td>003</td>\n",
       "      <td>003_1</td>\n",
       "      <td>9.0</td>\n",
       "    </tr>\n",
       "    <tr>\n",
       "      <th>2058421</th>\n",
       "      <td>4492</td>\n",
       "      <td>A060152004</td>\n",
       "      <td>A060000152</td>\n",
       "      <td>0</td>\n",
       "      <td>2020-10-07 10:41:10</td>\n",
       "      <td>1458</td>\n",
       "      <td>152</td>\n",
       "      <td>6</td>\n",
       "      <td>004</td>\n",
       "      <td>004_0</td>\n",
       "      <td>50.0</td>\n",
       "    </tr>\n",
       "    <tr>\n",
       "      <th>2058422</th>\n",
       "      <td>4492</td>\n",
       "      <td>A060152005</td>\n",
       "      <td>A060000152</td>\n",
       "      <td>1</td>\n",
       "      <td>2020-10-07 10:42:00</td>\n",
       "      <td>1458</td>\n",
       "      <td>152</td>\n",
       "      <td>6</td>\n",
       "      <td>005</td>\n",
       "      <td>005_1</td>\n",
       "      <td>84.0</td>\n",
       "    </tr>\n",
       "    <tr>\n",
       "      <th>2058423</th>\n",
       "      <td>4492</td>\n",
       "      <td>A060152007</td>\n",
       "      <td>A060000152</td>\n",
       "      <td>1</td>\n",
       "      <td>2020-10-07 10:43:24</td>\n",
       "      <td>1458</td>\n",
       "      <td>152</td>\n",
       "      <td>6</td>\n",
       "      <td>007</td>\n",
       "      <td>007_1</td>\n",
       "      <td>36.0</td>\n",
       "    </tr>\n",
       "    <tr>\n",
       "      <th>2058424</th>\n",
       "      <td>4492</td>\n",
       "      <td>A060152006</td>\n",
       "      <td>A060000152</td>\n",
       "      <td>0</td>\n",
       "      <td>2020-10-07 10:44:00</td>\n",
       "      <td>1458</td>\n",
       "      <td>152</td>\n",
       "      <td>6</td>\n",
       "      <td>006</td>\n",
       "      <td>006_0</td>\n",
       "      <td>-1.0</td>\n",
       "    </tr>\n",
       "  </tbody>\n",
       "</table>\n",
       "</div>"
      ],
      "text/plain": [
       "         userID assessmentItemID      testId  answerCode            Timestamp  \\\n",
       "2058390    4492       A060152001  A060000152           1  2020-04-08 11:37:36   \n",
       "2058391    4492       A060152002  A060000152           0  2020-04-08 11:38:08   \n",
       "2058392    4492       A060152003  A060000152           0  2020-04-08 11:38:12   \n",
       "2058393    4492       A060152004  A060000152           0  2020-04-08 11:38:16   \n",
       "2058394    4492       A060152005  A060000152           0  2020-04-08 11:38:19   \n",
       "2058395    4492       A060152006  A060000152           0  2020-04-08 11:38:22   \n",
       "2058396    4492       A060152007  A060000152           0  2020-04-08 11:38:26   \n",
       "2058418    4492       A060152001  A060000152           1  2020-10-07 10:29:54   \n",
       "2058419    4492       A060152002  A060000152           1  2020-10-07 10:38:55   \n",
       "2058420    4492       A060152003  A060000152           1  2020-10-07 10:41:01   \n",
       "2058421    4492       A060152004  A060000152           0  2020-10-07 10:41:10   \n",
       "2058422    4492       A060152005  A060000152           1  2020-10-07 10:42:00   \n",
       "2058423    4492       A060152007  A060000152           1  2020-10-07 10:43:24   \n",
       "2058424    4492       A060152006  A060000152           0  2020-10-07 10:44:00   \n",
       "\n",
       "         KnowledgeTag test_num test_cat questionID question_answer  \\\n",
       "2058390          1458      152        6        001           001_1   \n",
       "2058391          1458      152        6        002           002_0   \n",
       "2058392          1458      152        6        003           003_0   \n",
       "2058393          1458      152        6        004           004_0   \n",
       "2058394          1458      152        6        005           005_0   \n",
       "2058395          1458      152        6        006           006_0   \n",
       "2058396          1458      152        6        007           007_0   \n",
       "2058418          1458      152        6        001           001_1   \n",
       "2058419          1458      152        6        002           002_1   \n",
       "2058420          1458      152        6        003           003_1   \n",
       "2058421          1458      152        6        004           004_0   \n",
       "2058422          1458      152        6        005           005_1   \n",
       "2058423          1458      152        6        007           007_1   \n",
       "2058424          1458      152        6        006           006_0   \n",
       "\n",
       "         elapsed_time  \n",
       "2058390          32.0  \n",
       "2058391           4.0  \n",
       "2058392           4.0  \n",
       "2058393           3.0  \n",
       "2058394           3.0  \n",
       "2058395           4.0  \n",
       "2058396    14763424.0  \n",
       "2058418         541.0  \n",
       "2058419         126.0  \n",
       "2058420           9.0  \n",
       "2058421          50.0  \n",
       "2058422          84.0  \n",
       "2058423          36.0  \n",
       "2058424          -1.0  "
      ]
     },
     "execution_count": 9,
     "metadata": {},
     "output_type": "execute_result"
    }
   ],
   "source": [
    "train.sort_values('elapsed_time', ascending=False).head(20)\n",
    "train[(train['userID'] == 4492 )& (train['testId']=='A060000152')]"
   ]
  },
  {
   "cell_type": "markdown",
   "id": "1f87684f",
   "metadata": {},
   "source": [
    "- 연속해서 동일한 시험지를 푼 경우가 있는지 확인 => 있음 (아래 for문 -> 288명)"
   ]
  },
  {
   "cell_type": "code",
   "execution_count": 11,
   "id": "a4a70b08",
   "metadata": {},
   "outputs": [
    {
     "data": {
      "text/html": [
       "<div>\n",
       "<style scoped>\n",
       "    .dataframe tbody tr th:only-of-type {\n",
       "        vertical-align: middle;\n",
       "    }\n",
       "\n",
       "    .dataframe tbody tr th {\n",
       "        vertical-align: top;\n",
       "    }\n",
       "\n",
       "    .dataframe thead th {\n",
       "        text-align: right;\n",
       "    }\n",
       "</style>\n",
       "<table border=\"1\" class=\"dataframe\">\n",
       "  <thead>\n",
       "    <tr style=\"text-align: right;\">\n",
       "      <th></th>\n",
       "      <th>testId</th>\n",
       "      <th>questionID</th>\n",
       "      <th>len</th>\n",
       "    </tr>\n",
       "  </thead>\n",
       "  <tbody>\n",
       "    <tr>\n",
       "      <th>14</th>\n",
       "      <td>A010000015</td>\n",
       "      <td>[001, 003, 004, 005]</td>\n",
       "      <td>4</td>\n",
       "    </tr>\n",
       "    <tr>\n",
       "      <th>19</th>\n",
       "      <td>A010000020</td>\n",
       "      <td>[001, 002, 004, 003]</td>\n",
       "      <td>4</td>\n",
       "    </tr>\n",
       "    <tr>\n",
       "      <th>22</th>\n",
       "      <td>A010000023</td>\n",
       "      <td>[001, 002, 003, 004]</td>\n",
       "      <td>4</td>\n",
       "    </tr>\n",
       "    <tr>\n",
       "      <th>31</th>\n",
       "      <td>A010000032</td>\n",
       "      <td>[002, 003, 004, 001]</td>\n",
       "      <td>4</td>\n",
       "    </tr>\n",
       "    <tr>\n",
       "      <th>32</th>\n",
       "      <td>A010000033</td>\n",
       "      <td>[001, 002, 003, 004]</td>\n",
       "      <td>4</td>\n",
       "    </tr>\n",
       "    <tr>\n",
       "      <th>...</th>\n",
       "      <td>...</td>\n",
       "      <td>...</td>\n",
       "      <td>...</td>\n",
       "    </tr>\n",
       "    <tr>\n",
       "      <th>1043</th>\n",
       "      <td>A060000069</td>\n",
       "      <td>[001, 002, 003, 004]</td>\n",
       "      <td>4</td>\n",
       "    </tr>\n",
       "    <tr>\n",
       "      <th>1058</th>\n",
       "      <td>A060000084</td>\n",
       "      <td>[001, 002, 003, 004]</td>\n",
       "      <td>4</td>\n",
       "    </tr>\n",
       "    <tr>\n",
       "      <th>1067</th>\n",
       "      <td>A060000093</td>\n",
       "      <td>[001, 002, 003, 004]</td>\n",
       "      <td>4</td>\n",
       "    </tr>\n",
       "    <tr>\n",
       "      <th>1150</th>\n",
       "      <td>A060000176</td>\n",
       "      <td>[002, 003, 004, 007]</td>\n",
       "      <td>4</td>\n",
       "    </tr>\n",
       "    <tr>\n",
       "      <th>1158</th>\n",
       "      <td>A060000184</td>\n",
       "      <td>[001, 002, 003, 004]</td>\n",
       "      <td>4</td>\n",
       "    </tr>\n",
       "  </tbody>\n",
       "</table>\n",
       "<p>63 rows × 3 columns</p>\n",
       "</div>"
      ],
      "text/plain": [
       "          testId            questionID  len\n",
       "14    A010000015  [001, 003, 004, 005]    4\n",
       "19    A010000020  [001, 002, 004, 003]    4\n",
       "22    A010000023  [001, 002, 003, 004]    4\n",
       "31    A010000032  [002, 003, 004, 001]    4\n",
       "32    A010000033  [001, 002, 003, 004]    4\n",
       "...          ...                   ...  ...\n",
       "1043  A060000069  [001, 002, 003, 004]    4\n",
       "1058  A060000084  [001, 002, 003, 004]    4\n",
       "1067  A060000093  [001, 002, 003, 004]    4\n",
       "1150  A060000176  [002, 003, 004, 007]    4\n",
       "1158  A060000184  [001, 002, 003, 004]    4\n",
       "\n",
       "[63 rows x 3 columns]"
      ]
     },
     "execution_count": 11,
     "metadata": {},
     "output_type": "execute_result"
    }
   ],
   "source": [
    "# 그 전에 모든 시험지에 1번이 있는지 확인 필요 -> 1번이 한번 나왔는데 또 나오면 그 타임스템프와 그 앞 타임스템프를 저장할 계획\n",
    "train.groupby(['testId'])['questionID'].value_counts().head(20) # 흠 일단은 다 있는듯 한데 확인은 따로 해봐야 할 것 같음\n",
    "train.groupby(['testId'])['questionID'].nunique().value_counts() # 문제 2개만 있는 애들 존재\n",
    "\n",
    "# 문제는 1번 부터 시작하는가?\n",
    "exam = train.groupby(['testId'])['questionID'].unique().reset_index()\n",
    "exam[exam['questionID'].apply(len)==2] #001, 002\n",
    "train.groupby(['testId'])['questionID'].sum().apply(lambda x : x[:3]).value_counts() # ㄴㄴ\n",
    "train.groupby(['testId'])['questionID'].sum().apply(lambda x : x[:6]).value_counts() # 그럼 최소한 오름차순인가? ㄴㄴ 8->7, 6->5, 7->5 등 다양함\n",
    "\n",
    "exam['len'] = exam['questionID'].apply(len)\n",
    "exam[exam['len']==4] # 걍 처음만 아닌게 아니라 끝에 1이 들어간 경우도 있고 아주 엉망 진창임"
   ]
  },
  {
   "cell_type": "code",
   "execution_count": 12,
   "id": "67618e66",
   "metadata": {},
   "outputs": [
    {
     "name": "stderr",
     "output_type": "stream",
     "text": [
      "100%|██████████| 2266585/2266585 [00:40<00:00, 56148.71it/s]\n"
     ]
    },
    {
     "data": {
      "text/html": [
       "<div>\n",
       "<style scoped>\n",
       "    .dataframe tbody tr th:only-of-type {\n",
       "        vertical-align: middle;\n",
       "    }\n",
       "\n",
       "    .dataframe tbody tr th {\n",
       "        vertical-align: top;\n",
       "    }\n",
       "\n",
       "    .dataframe thead th {\n",
       "        text-align: right;\n",
       "    }\n",
       "</style>\n",
       "<table border=\"1\" class=\"dataframe\">\n",
       "  <thead>\n",
       "    <tr style=\"text-align: right;\">\n",
       "      <th></th>\n",
       "      <th>userID</th>\n",
       "      <th>testId</th>\n",
       "      <th>question_len</th>\n",
       "      <th>assessmentItemID</th>\n",
       "      <th>result</th>\n",
       "    </tr>\n",
       "  </thead>\n",
       "  <tbody>\n",
       "    <tr>\n",
       "      <th>0</th>\n",
       "      <td>1</td>\n",
       "      <td>A040000155</td>\n",
       "      <td>6</td>\n",
       "      <td>12</td>\n",
       "      <td>True</td>\n",
       "    </tr>\n",
       "    <tr>\n",
       "      <th>1</th>\n",
       "      <td>1</td>\n",
       "      <td>A040000156</td>\n",
       "      <td>6</td>\n",
       "      <td>12</td>\n",
       "      <td>True</td>\n",
       "    </tr>\n",
       "    <tr>\n",
       "      <th>2</th>\n",
       "      <td>1</td>\n",
       "      <td>A040000157</td>\n",
       "      <td>6</td>\n",
       "      <td>12</td>\n",
       "      <td>True</td>\n",
       "    </tr>\n",
       "    <tr>\n",
       "      <th>3</th>\n",
       "      <td>1</td>\n",
       "      <td>A040000158</td>\n",
       "      <td>6</td>\n",
       "      <td>12</td>\n",
       "      <td>True</td>\n",
       "    </tr>\n",
       "    <tr>\n",
       "      <th>4</th>\n",
       "      <td>1</td>\n",
       "      <td>A040000160</td>\n",
       "      <td>5</td>\n",
       "      <td>10</td>\n",
       "      <td>True</td>\n",
       "    </tr>\n",
       "    <tr>\n",
       "      <th>...</th>\n",
       "      <td>...</td>\n",
       "      <td>...</td>\n",
       "      <td>...</td>\n",
       "      <td>...</td>\n",
       "      <td>...</td>\n",
       "    </tr>\n",
       "    <tr>\n",
       "      <th>7316</th>\n",
       "      <td>6698</td>\n",
       "      <td>A050000187</td>\n",
       "      <td>7</td>\n",
       "      <td>14</td>\n",
       "      <td>True</td>\n",
       "    </tr>\n",
       "    <tr>\n",
       "      <th>7317</th>\n",
       "      <td>6858</td>\n",
       "      <td>A010000095</td>\n",
       "      <td>5</td>\n",
       "      <td>10</td>\n",
       "      <td>True</td>\n",
       "    </tr>\n",
       "    <tr>\n",
       "      <th>7318</th>\n",
       "      <td>6858</td>\n",
       "      <td>A010000191</td>\n",
       "      <td>5</td>\n",
       "      <td>10</td>\n",
       "      <td>True</td>\n",
       "    </tr>\n",
       "    <tr>\n",
       "      <th>7319</th>\n",
       "      <td>6977</td>\n",
       "      <td>A040000167</td>\n",
       "      <td>5</td>\n",
       "      <td>10</td>\n",
       "      <td>True</td>\n",
       "    </tr>\n",
       "    <tr>\n",
       "      <th>7320</th>\n",
       "      <td>7329</td>\n",
       "      <td>A040000198</td>\n",
       "      <td>4</td>\n",
       "      <td>8</td>\n",
       "      <td>True</td>\n",
       "    </tr>\n",
       "  </tbody>\n",
       "</table>\n",
       "<p>7321 rows × 5 columns</p>\n",
       "</div>"
      ],
      "text/plain": [
       "      userID      testId  question_len  assessmentItemID  result\n",
       "0          1  A040000155             6                12    True\n",
       "1          1  A040000156             6                12    True\n",
       "2          1  A040000157             6                12    True\n",
       "3          1  A040000158             6                12    True\n",
       "4          1  A040000160             5                10    True\n",
       "...      ...         ...           ...               ...     ...\n",
       "7316    6698  A050000187             7                14    True\n",
       "7317    6858  A010000095             5                10    True\n",
       "7318    6858  A010000191             5                10    True\n",
       "7319    6977  A040000167             5                10    True\n",
       "7320    7329  A040000198             4                 8    True\n",
       "\n",
       "[7321 rows x 5 columns]"
      ]
     },
     "execution_count": 12,
     "metadata": {},
     "output_type": "execute_result"
    }
   ],
   "source": [
    "test2len = { key:value for key, value in zip(exam['testId'], exam['len'])}\n",
    "train['question_len'] = train['testId'].map(test2len) # test별 question 개수 칼럼 붙여줌\n",
    "\n",
    "# 연속해서 동일한 시험지를 푼 경우 확인 => (len(same_test)==289)\n",
    "tmp = 1\n",
    "same_test = []\n",
    "for i in tqdm(range(1,len(train))):\n",
    "    cur_test = train['testId'][i]\n",
    "    prev_test = train['testId'][i-1]\n",
    "    if cur_test == prev_test:\n",
    "        tmp += 1\n",
    "        if tmp > train['question_len'][i]:\n",
    "            same_test.extend([i-1])\n",
    "            tmp = 1\n",
    "    else:\n",
    "        tmp = 1\n",
    "\n",
    "# 위 코드를 for문 안 쓰고 해보려고 했으나.. 이렇게 하면 걍 모든 두번 이상 푼 애들이 다 모여버림 인덱스도 못 따옴 => 엥?? 이게 원래 하려던거 아닌가?\n",
    "checking_double_test = train.groupby(['userID', 'testId', 'question_len'])['assessmentItemID'].count().reset_index().set_index(['userID', 'testId'])\n",
    "checking_double_test['result'] = checking_double_test['question_len'] < checking_double_test['assessmentItemID']\n",
    "checking_double_test = checking_double_test[checking_double_test['result']==True].reset_index()\n",
    "checking_double_test\n"
   ]
  },
  {
   "cell_type": "code",
   "execution_count": 13,
   "id": "a5401bf3",
   "metadata": {},
   "outputs": [
    {
     "data": {
      "text/html": [
       "<div>\n",
       "<style scoped>\n",
       "    .dataframe tbody tr th:only-of-type {\n",
       "        vertical-align: middle;\n",
       "    }\n",
       "\n",
       "    .dataframe tbody tr th {\n",
       "        vertical-align: top;\n",
       "    }\n",
       "\n",
       "    .dataframe thead th {\n",
       "        text-align: right;\n",
       "    }\n",
       "</style>\n",
       "<table border=\"1\" class=\"dataframe\">\n",
       "  <thead>\n",
       "    <tr style=\"text-align: right;\">\n",
       "      <th></th>\n",
       "      <th>userID</th>\n",
       "      <th>testId</th>\n",
       "      <th>question_len</th>\n",
       "      <th>assessmentItemID</th>\n",
       "      <th>result</th>\n",
       "      <th>double</th>\n",
       "    </tr>\n",
       "  </thead>\n",
       "  <tbody>\n",
       "  </tbody>\n",
       "</table>\n",
       "</div>"
      ],
      "text/plain": [
       "Empty DataFrame\n",
       "Columns: [userID, testId, question_len, assessmentItemID, result, double]\n",
       "Index: []"
      ]
     },
     "execution_count": 13,
     "metadata": {},
     "output_type": "execute_result"
    }
   ],
   "source": [
    "# 전부 2배 혹은 3배임 => 두 번 이상 푼 애들은 시험지에 제공되는 모든 문제  다  풂\n",
    "checking_double_test['double'] = (checking_double_test['question_len'] * 2 == checking_double_test['assessmentItemID']) | (checking_double_test['question_len'] * 3 == checking_double_test['assessmentItemID'])\n",
    "checking_double_test[checking_double_test['double'] == False]"
   ]
  },
  {
   "cell_type": "code",
   "execution_count": 14,
   "id": "bc054510",
   "metadata": {},
   "outputs": [],
   "source": [
    "train['tmp'] = tuple(zip(train['userID'], train['testId'])) # userID랑 testId 쌍의 column 생성\n",
    "user2test= checking_double_test.groupby(by=['userID', 'testId'])['question_len'].sum().to_dict() # (userID, testId):question_len 형태의 dictionary\n",
    "train['tmp_q'] = train['tmp'].map(user2test)\n"
   ]
  },
  {
   "cell_type": "code",
   "execution_count": 15,
   "id": "8f609adf",
   "metadata": {},
   "outputs": [
    {
     "data": {
      "text/html": [
       "<div>\n",
       "<style scoped>\n",
       "    .dataframe tbody tr th:only-of-type {\n",
       "        vertical-align: middle;\n",
       "    }\n",
       "\n",
       "    .dataframe tbody tr th {\n",
       "        vertical-align: top;\n",
       "    }\n",
       "\n",
       "    .dataframe thead th {\n",
       "        text-align: right;\n",
       "    }\n",
       "</style>\n",
       "<table border=\"1\" class=\"dataframe\">\n",
       "  <thead>\n",
       "    <tr style=\"text-align: right;\">\n",
       "      <th></th>\n",
       "      <th>index</th>\n",
       "      <th>userID</th>\n",
       "      <th>assessmentItemID</th>\n",
       "      <th>testId</th>\n",
       "      <th>answerCode</th>\n",
       "      <th>Timestamp</th>\n",
       "      <th>KnowledgeTag</th>\n",
       "      <th>test_num</th>\n",
       "      <th>test_cat</th>\n",
       "      <th>questionID</th>\n",
       "      <th>question_answer</th>\n",
       "      <th>elapsed_time</th>\n",
       "      <th>question_len</th>\n",
       "      <th>tmp</th>\n",
       "      <th>tmp_q</th>\n",
       "    </tr>\n",
       "  </thead>\n",
       "  <tbody>\n",
       "    <tr>\n",
       "      <th>0</th>\n",
       "      <td>1166</td>\n",
       "      <td>1</td>\n",
       "      <td>A040155001</td>\n",
       "      <td>A040000155</td>\n",
       "      <td>1</td>\n",
       "      <td>2020-06-21 22:57:14</td>\n",
       "      <td>2111</td>\n",
       "      <td>155</td>\n",
       "      <td>4</td>\n",
       "      <td>001</td>\n",
       "      <td>001_1</td>\n",
       "      <td>41.0</td>\n",
       "      <td>6</td>\n",
       "      <td>(1, A040000155)</td>\n",
       "      <td>6.0</td>\n",
       "    </tr>\n",
       "    <tr>\n",
       "      <th>1</th>\n",
       "      <td>1167</td>\n",
       "      <td>1</td>\n",
       "      <td>A040155002</td>\n",
       "      <td>A040000155</td>\n",
       "      <td>1</td>\n",
       "      <td>2020-06-21 22:57:55</td>\n",
       "      <td>2111</td>\n",
       "      <td>155</td>\n",
       "      <td>4</td>\n",
       "      <td>002</td>\n",
       "      <td>002_1</td>\n",
       "      <td>38.0</td>\n",
       "      <td>6</td>\n",
       "      <td>(1, A040000155)</td>\n",
       "      <td>6.0</td>\n",
       "    </tr>\n",
       "    <tr>\n",
       "      <th>2</th>\n",
       "      <td>1168</td>\n",
       "      <td>1</td>\n",
       "      <td>A040155003</td>\n",
       "      <td>A040000155</td>\n",
       "      <td>0</td>\n",
       "      <td>2020-06-21 22:58:33</td>\n",
       "      <td>2111</td>\n",
       "      <td>155</td>\n",
       "      <td>4</td>\n",
       "      <td>003</td>\n",
       "      <td>003_0</td>\n",
       "      <td>16.0</td>\n",
       "      <td>6</td>\n",
       "      <td>(1, A040000155)</td>\n",
       "      <td>6.0</td>\n",
       "    </tr>\n",
       "    <tr>\n",
       "      <th>3</th>\n",
       "      <td>1169</td>\n",
       "      <td>1</td>\n",
       "      <td>A040155004</td>\n",
       "      <td>A040000155</td>\n",
       "      <td>1</td>\n",
       "      <td>2020-06-21 22:58:49</td>\n",
       "      <td>2111</td>\n",
       "      <td>155</td>\n",
       "      <td>4</td>\n",
       "      <td>004</td>\n",
       "      <td>004_1</td>\n",
       "      <td>81.0</td>\n",
       "      <td>6</td>\n",
       "      <td>(1, A040000155)</td>\n",
       "      <td>6.0</td>\n",
       "    </tr>\n",
       "    <tr>\n",
       "      <th>4</th>\n",
       "      <td>1170</td>\n",
       "      <td>1</td>\n",
       "      <td>A040155005</td>\n",
       "      <td>A040000155</td>\n",
       "      <td>0</td>\n",
       "      <td>2020-06-21 23:00:10</td>\n",
       "      <td>2111</td>\n",
       "      <td>155</td>\n",
       "      <td>4</td>\n",
       "      <td>005</td>\n",
       "      <td>005_0</td>\n",
       "      <td>94.0</td>\n",
       "      <td>6</td>\n",
       "      <td>(1, A040000155)</td>\n",
       "      <td>6.0</td>\n",
       "    </tr>\n",
       "    <tr>\n",
       "      <th>...</th>\n",
       "      <td>...</td>\n",
       "      <td>...</td>\n",
       "      <td>...</td>\n",
       "      <td>...</td>\n",
       "      <td>...</td>\n",
       "      <td>...</td>\n",
       "      <td>...</td>\n",
       "      <td>...</td>\n",
       "      <td>...</td>\n",
       "      <td>...</td>\n",
       "      <td>...</td>\n",
       "      <td>...</td>\n",
       "      <td>...</td>\n",
       "      <td>...</td>\n",
       "      <td>...</td>\n",
       "    </tr>\n",
       "    <tr>\n",
       "      <th>91067</th>\n",
       "      <td>2264852</td>\n",
       "      <td>7329</td>\n",
       "      <td>A040198004</td>\n",
       "      <td>A040000198</td>\n",
       "      <td>1</td>\n",
       "      <td>2020-01-02 12:51:04</td>\n",
       "      <td>2133</td>\n",
       "      <td>198</td>\n",
       "      <td>4</td>\n",
       "      <td>004</td>\n",
       "      <td>004_1</td>\n",
       "      <td>227150.0</td>\n",
       "      <td>4</td>\n",
       "      <td>(7329, A040000198)</td>\n",
       "      <td>4.0</td>\n",
       "    </tr>\n",
       "    <tr>\n",
       "      <th>91068</th>\n",
       "      <td>2264863</td>\n",
       "      <td>7329</td>\n",
       "      <td>A040198001</td>\n",
       "      <td>A040000198</td>\n",
       "      <td>1</td>\n",
       "      <td>2020-10-12 12:08:49</td>\n",
       "      <td>2133</td>\n",
       "      <td>198</td>\n",
       "      <td>4</td>\n",
       "      <td>001</td>\n",
       "      <td>001_1</td>\n",
       "      <td>4.0</td>\n",
       "      <td>4</td>\n",
       "      <td>(7329, A040000198)</td>\n",
       "      <td>4.0</td>\n",
       "    </tr>\n",
       "    <tr>\n",
       "      <th>91069</th>\n",
       "      <td>2264864</td>\n",
       "      <td>7329</td>\n",
       "      <td>A040198002</td>\n",
       "      <td>A040000198</td>\n",
       "      <td>1</td>\n",
       "      <td>2020-10-12 12:08:53</td>\n",
       "      <td>2133</td>\n",
       "      <td>198</td>\n",
       "      <td>4</td>\n",
       "      <td>002</td>\n",
       "      <td>002_1</td>\n",
       "      <td>9.0</td>\n",
       "      <td>4</td>\n",
       "      <td>(7329, A040000198)</td>\n",
       "      <td>4.0</td>\n",
       "    </tr>\n",
       "    <tr>\n",
       "      <th>91070</th>\n",
       "      <td>2264865</td>\n",
       "      <td>7329</td>\n",
       "      <td>A040198003</td>\n",
       "      <td>A040000198</td>\n",
       "      <td>1</td>\n",
       "      <td>2020-10-12 12:09:02</td>\n",
       "      <td>2133</td>\n",
       "      <td>198</td>\n",
       "      <td>4</td>\n",
       "      <td>003</td>\n",
       "      <td>003_1</td>\n",
       "      <td>6.0</td>\n",
       "      <td>4</td>\n",
       "      <td>(7329, A040000198)</td>\n",
       "      <td>4.0</td>\n",
       "    </tr>\n",
       "    <tr>\n",
       "      <th>91071</th>\n",
       "      <td>2264866</td>\n",
       "      <td>7329</td>\n",
       "      <td>A040198004</td>\n",
       "      <td>A040000198</td>\n",
       "      <td>1</td>\n",
       "      <td>2020-10-12 12:09:08</td>\n",
       "      <td>2133</td>\n",
       "      <td>198</td>\n",
       "      <td>4</td>\n",
       "      <td>004</td>\n",
       "      <td>004_1</td>\n",
       "      <td>-1.0</td>\n",
       "      <td>4</td>\n",
       "      <td>(7329, A040000198)</td>\n",
       "      <td>4.0</td>\n",
       "    </tr>\n",
       "  </tbody>\n",
       "</table>\n",
       "<p>91072 rows × 15 columns</p>\n",
       "</div>"
      ],
      "text/plain": [
       "         index  userID assessmentItemID      testId  answerCode  \\\n",
       "0         1166       1       A040155001  A040000155           1   \n",
       "1         1167       1       A040155002  A040000155           1   \n",
       "2         1168       1       A040155003  A040000155           0   \n",
       "3         1169       1       A040155004  A040000155           1   \n",
       "4         1170       1       A040155005  A040000155           0   \n",
       "...        ...     ...              ...         ...         ...   \n",
       "91067  2264852    7329       A040198004  A040000198           1   \n",
       "91068  2264863    7329       A040198001  A040000198           1   \n",
       "91069  2264864    7329       A040198002  A040000198           1   \n",
       "91070  2264865    7329       A040198003  A040000198           1   \n",
       "91071  2264866    7329       A040198004  A040000198           1   \n",
       "\n",
       "                 Timestamp  KnowledgeTag test_num test_cat questionID  \\\n",
       "0      2020-06-21 22:57:14          2111      155        4        001   \n",
       "1      2020-06-21 22:57:55          2111      155        4        002   \n",
       "2      2020-06-21 22:58:33          2111      155        4        003   \n",
       "3      2020-06-21 22:58:49          2111      155        4        004   \n",
       "4      2020-06-21 23:00:10          2111      155        4        005   \n",
       "...                    ...           ...      ...      ...        ...   \n",
       "91067  2020-01-02 12:51:04          2133      198        4        004   \n",
       "91068  2020-10-12 12:08:49          2133      198        4        001   \n",
       "91069  2020-10-12 12:08:53          2133      198        4        002   \n",
       "91070  2020-10-12 12:09:02          2133      198        4        003   \n",
       "91071  2020-10-12 12:09:08          2133      198        4        004   \n",
       "\n",
       "      question_answer  elapsed_time  question_len                 tmp  tmp_q  \n",
       "0               001_1          41.0             6     (1, A040000155)    6.0  \n",
       "1               002_1          38.0             6     (1, A040000155)    6.0  \n",
       "2               003_0          16.0             6     (1, A040000155)    6.0  \n",
       "3               004_1          81.0             6     (1, A040000155)    6.0  \n",
       "4               005_0          94.0             6     (1, A040000155)    6.0  \n",
       "...               ...           ...           ...                 ...    ...  \n",
       "91067           004_1      227150.0             4  (7329, A040000198)    4.0  \n",
       "91068           001_1           4.0             4  (7329, A040000198)    4.0  \n",
       "91069           002_1           9.0             4  (7329, A040000198)    4.0  \n",
       "91070           003_1           6.0             4  (7329, A040000198)    4.0  \n",
       "91071           004_1          -1.0             4  (7329, A040000198)    4.0  \n",
       "\n",
       "[91072 rows x 15 columns]"
      ]
     },
     "execution_count": 15,
     "metadata": {},
     "output_type": "execute_result"
    }
   ],
   "source": [
    "# question_cnt = list(checking_double_test['question_len'].cumsum()-1)\n",
    "# # question_cnt = train.groupby('tmp')['tmp_q'].mean().apply(lambda x : str(x).replace('nan', '0')).astype(float).astype(int).cumsum().unique().tolist()\n",
    "# question_cnt = question_cnt[1:]\n",
    "# question_cnt = [ value-1 for value in question_cnt]\n",
    "#  checking_double_test의 testId순서랑 train의 TestId 순서가 달라서 이렇게 하면 안 됨\n",
    "\n",
    "question_cnt_tmp = train[train['tmp_q'].notnull()].reset_index()\n",
    "question_cnt_tmp"
   ]
  },
  {
   "cell_type": "code",
   "execution_count": 19,
   "id": "3da27a9b",
   "metadata": {},
   "outputs": [
    {
     "data": {
      "text/html": [
       "<div>\n",
       "<style scoped>\n",
       "    .dataframe tbody tr th:only-of-type {\n",
       "        vertical-align: middle;\n",
       "    }\n",
       "\n",
       "    .dataframe tbody tr th {\n",
       "        vertical-align: top;\n",
       "    }\n",
       "\n",
       "    .dataframe thead th {\n",
       "        text-align: right;\n",
       "    }\n",
       "</style>\n",
       "<table border=\"1\" class=\"dataframe\">\n",
       "  <thead>\n",
       "    <tr style=\"text-align: right;\">\n",
       "      <th></th>\n",
       "      <th>index</th>\n",
       "      <th>elapsed_time</th>\n",
       "    </tr>\n",
       "  </thead>\n",
       "  <tbody>\n",
       "    <tr>\n",
       "      <th>5</th>\n",
       "      <td>1171</td>\n",
       "      <td>166645.0</td>\n",
       "    </tr>\n",
       "    <tr>\n",
       "      <th>11</th>\n",
       "      <td>1177</td>\n",
       "      <td>27703.0</td>\n",
       "    </tr>\n",
       "    <tr>\n",
       "      <th>17</th>\n",
       "      <td>1202</td>\n",
       "      <td>119527.0</td>\n",
       "    </tr>\n",
       "    <tr>\n",
       "      <th>23</th>\n",
       "      <td>1224</td>\n",
       "      <td>135548.0</td>\n",
       "    </tr>\n",
       "    <tr>\n",
       "      <th>28</th>\n",
       "      <td>1239</td>\n",
       "      <td>115055.0</td>\n",
       "    </tr>\n",
       "    <tr>\n",
       "      <th>...</th>\n",
       "      <td>...</td>\n",
       "      <td>...</td>\n",
       "    </tr>\n",
       "    <tr>\n",
       "      <th>45092</th>\n",
       "      <td>775650</td>\n",
       "      <td>4.0</td>\n",
       "    </tr>\n",
       "    <tr>\n",
       "      <th>45100</th>\n",
       "      <td>775707</td>\n",
       "      <td>35.0</td>\n",
       "    </tr>\n",
       "    <tr>\n",
       "      <th>45108</th>\n",
       "      <td>775719</td>\n",
       "      <td>4.0</td>\n",
       "    </tr>\n",
       "    <tr>\n",
       "      <th>45116</th>\n",
       "      <td>775727</td>\n",
       "      <td>5.0</td>\n",
       "    </tr>\n",
       "    <tr>\n",
       "      <th>45122</th>\n",
       "      <td>775738</td>\n",
       "      <td>7.0</td>\n",
       "    </tr>\n",
       "  </tbody>\n",
       "</table>\n",
       "<p>7119 rows × 2 columns</p>\n",
       "</div>"
      ],
      "text/plain": [
       "        index  elapsed_time\n",
       "5        1171      166645.0\n",
       "11       1177       27703.0\n",
       "17       1202      119527.0\n",
       "23       1224      135548.0\n",
       "28       1239      115055.0\n",
       "...       ...           ...\n",
       "45092  775650           4.0\n",
       "45100  775707          35.0\n",
       "45108  775719           4.0\n",
       "45116  775727           5.0\n",
       "45122  775738           7.0\n",
       "\n",
       "[7119 rows x 2 columns]"
      ]
     },
     "execution_count": 19,
     "metadata": {},
     "output_type": "execute_result"
    }
   ],
   "source": [
    "question_cnt_tmp = train[train['tmp_q'].notnull()].reset_index()\n",
    "question_cnt = [6]\n",
    "while sum(question_cnt) < list(checking_double_test['question_len'].cumsum())[-1]:\n",
    "    question_cnt.append(question_cnt_tmp['tmp_q'][sum(question_cnt)])\n",
    "question_cnt = (pd.Series(question_cnt).cumsum()-1).astype(int)\n",
    "\n",
    "train[train['tmp_q'].isna()==False][['elapsed_time']].reset_index().iloc[question_cnt] # 뭐지 왜 중간 부터 인덱싱이 안 맞지"
   ]
  },
  {
   "cell_type": "markdown",
   "id": "d3bb7081",
   "metadata": {},
   "source": [
    "- 왠지는 모르겠는데 인덱싱이 안 맞아서 해결이 안 됨\n",
    "- 전처리 친구들에게 맡긴다...~"
   ]
  },
  {
   "cell_type": "code",
   "execution_count": 314,
   "id": "bdacb071",
   "metadata": {},
   "outputs": [],
   "source": [
    "train.loc[same_test, 'elapsed_time'] = -1 # 이거는 한 테스트를 연속으로 푼 애들 -1로 바꾸는거"
   ]
  },
  {
   "cell_type": "markdown",
   "id": "1080fdef",
   "metadata": {},
   "source": [
    "# 3. EDA"
   ]
  },
  {
   "cell_type": "markdown",
   "id": "3d9a739e",
   "metadata": {},
   "source": [
    "### 한 테스트를 보는데 얼마의 시간이 소요되는지 확인 (median)"
   ]
  },
  {
   "cell_type": "code",
   "execution_count": 22,
   "id": "882bcfb5",
   "metadata": {},
   "outputs": [
    {
     "data": {
      "text/plain": [
       "Timedelta('0 days 00:14:36')"
      ]
     },
     "execution_count": 22,
     "metadata": {},
     "output_type": "execute_result"
    }
   ],
   "source": [
    "# 평균적으로 한 테스트를 보는데 얼마의 시간이 소요되는지 확인\n",
    "train['Timestamp'] = pd.to_datetime(train['Timestamp'])\n",
    "train.groupby(by=['userID', 'testId'])['Timestamp'].apply(lambda x : max(x) - min(x))\n",
    "\n",
    "tmp = train.groupby(by=['userID', 'testId'])['Timestamp'].apply(lambda x : max(x) - min(x)).to_frame().groupby('testId').median()\n",
    "tmp['Timestamp'].max() #15분 이상 걸린 애들 다 -1로 밀어도 될듯 (한 시험 전체를 푸는데 max 14분인데 한 문제를 푸는데 15분 이상이 걸렸다는건 이상치임)"
   ]
  },
  {
   "cell_type": "markdown",
   "id": "9d112d23",
   "metadata": {},
   "source": [
    "- 한 테스트를 보는데 15분 정도 소요됨 => 한 문제에 15분 이상 걸린 애들은 -1로 밀어도 되지 않을까? 하는 생각\n",
    "- 근데 밀려고 했으나 진짜로 15분 정도 썼다면? 한 문제에? -> threshold를 지정해서 밀던가 아니면 한 테스트가 아니라 문제 하나를 푸는데 소요한 mediandmf qhkqhwk"
   ]
  },
  {
   "cell_type": "markdown",
   "id": "117ee38b",
   "metadata": {},
   "source": [
    "### 한 문제당 15분 이상 소요한 애들의 정답 비율"
   ]
  },
  {
   "cell_type": "code",
   "execution_count": 16,
   "id": "5a47d60e",
   "metadata": {},
   "outputs": [
    {
     "data": {
      "text/plain": [
       "1    19240\n",
       "0     8351\n",
       "Name: answerCode, dtype: int64"
      ]
     },
     "execution_count": 16,
     "metadata": {},
     "output_type": "execute_result"
    }
   ],
   "source": [
    "# 한 문제 15분 이상 걸린 애들의 정답 비율\n",
    "train[train['elapsed_time'] > 900]['answerCode'].value_counts()"
   ]
  },
  {
   "cell_type": "markdown",
   "id": "73e3a035",
   "metadata": {},
   "source": [
    "### 한 문제를 푸는데 얼마의 시간이 소요되는지 (median) -> 27 초"
   ]
  },
  {
   "cell_type": "code",
   "execution_count": 27,
   "id": "df22d45b",
   "metadata": {},
   "outputs": [
    {
     "data": {
      "text/plain": [
       "27.0"
      ]
     },
     "execution_count": 27,
     "metadata": {},
     "output_type": "execute_result"
    }
   ],
   "source": [
    "# 문제별 소요 시간 median\n",
    "tmp = train.groupby(['userID', 'assessmentItemID'])['elapsed_time'].max().to_frame().groupby('assessmentItemID').median().reset_index()\n",
    "tmp = tmp['elapsed_time']\n",
    "tmp = [ value for value in tmp if value != -1.0]\n",
    "np.median(tmp)\n"
   ]
  },
  {
   "cell_type": "markdown",
   "id": "2ae2d6f1",
   "metadata": {},
   "source": [
    "- 문제 푼 시간이 오래 걸린 애들은 전처리가 필요하겠다\n",
    "- 어떻게 할 것인가?\n",
    "    1. 동일한 문제를 푼 다른 애들의 평균 값과 해당 유저의 평균 소요 시간을 반영한 가중평균\n",
    "    2. 특정한 값 (ex. 200)으로 Threshold주고 그 값으로 밀자"
   ]
  },
  {
   "cell_type": "code",
   "execution_count": 18,
   "id": "8d793a3d",
   "metadata": {},
   "outputs": [],
   "source": [
    "# # 문제 푼 시간이 오래 걸리면 99999로 바꿈 -> 동일한 문제를 푼 다른 애들의 평균 값과 해당 유저의 평균 값을 반영한 값 or 200으로 threshold\n",
    "# time_outlier = 200\n",
    "# train.loc[train[train['elapsed_time']>time_outlier].index, 'elapsed_time'] = 99999\n",
    "# # VER1. 200으로 threshold\n",
    "# train.loc[train[train['elapsed_time']>99999].index, 'elapsed_time'] = time_outlier\n",
    "# # VER2. 알아서 하세요.. 문제 평균값이랑 유저 평균 값 고려해서 하는건..."
   ]
  },
  {
   "cell_type": "markdown",
   "id": "d569a63f",
   "metadata": {},
   "source": [
    "### 한 유저가 같은 시험지를 두 번 이상 푼 적 있나?"
   ]
  },
  {
   "cell_type": "code",
   "execution_count": 31,
   "id": "3bcbcfbb",
   "metadata": {},
   "outputs": [
    {
     "data": {
      "text/plain": [
       "1    2175514\n",
       "2      44285\n",
       "3        834\n",
       "Name: testId, dtype: int64"
      ]
     },
     "execution_count": 31,
     "metadata": {},
     "output_type": "execute_result"
    }
   ],
   "source": [
    "train.groupby(['userID', 'assessmentItemID'])['testId'].count().value_counts() # 같은 시험지를 3번 까지 푼 애들도 있음"
   ]
  },
  {
   "cell_type": "markdown",
   "id": "ecb2a65f",
   "metadata": {},
   "source": [
    "### knowledgetag는 시험지 별로 균일하게 분포하는가? -> 아니요"
   ]
  },
  {
   "cell_type": "code",
   "execution_count": 33,
   "id": "cf997c32",
   "metadata": {},
   "outputs": [
    {
     "data": {
      "text/html": [
       "<div>\n",
       "<style scoped>\n",
       "    .dataframe tbody tr th:only-of-type {\n",
       "        vertical-align: middle;\n",
       "    }\n",
       "\n",
       "    .dataframe tbody tr th {\n",
       "        vertical-align: top;\n",
       "    }\n",
       "\n",
       "    .dataframe thead th {\n",
       "        text-align: right;\n",
       "    }\n",
       "</style>\n",
       "<table border=\"1\" class=\"dataframe\">\n",
       "  <thead>\n",
       "    <tr style=\"text-align: right;\">\n",
       "      <th></th>\n",
       "      <th></th>\n",
       "      <th>KnowledgeTag</th>\n",
       "    </tr>\n",
       "    <tr>\n",
       "      <th>testId</th>\n",
       "      <th>KnowledgeTag</th>\n",
       "      <th></th>\n",
       "    </tr>\n",
       "  </thead>\n",
       "  <tbody>\n",
       "    <tr>\n",
       "      <th>A010000001</th>\n",
       "      <th>5844</th>\n",
       "      <td>1585</td>\n",
       "    </tr>\n",
       "    <tr>\n",
       "      <th rowspan=\"2\" valign=\"top\">A010000002</th>\n",
       "      <th>5844</th>\n",
       "      <td>930</td>\n",
       "    </tr>\n",
       "    <tr>\n",
       "      <th>6803</th>\n",
       "      <td>620</td>\n",
       "    </tr>\n",
       "    <tr>\n",
       "      <th rowspan=\"2\" valign=\"top\">A010000003</th>\n",
       "      <th>6804</th>\n",
       "      <td>646</td>\n",
       "    </tr>\n",
       "    <tr>\n",
       "      <th>6806</th>\n",
       "      <td>646</td>\n",
       "    </tr>\n",
       "    <tr>\n",
       "      <th>...</th>\n",
       "      <th>...</th>\n",
       "      <td>...</td>\n",
       "    </tr>\n",
       "    <tr>\n",
       "      <th rowspan=\"2\" valign=\"top\">A090000073</th>\n",
       "      <th>10196</th>\n",
       "      <td>90</td>\n",
       "    </tr>\n",
       "    <tr>\n",
       "      <th>4243</th>\n",
       "      <td>45</td>\n",
       "    </tr>\n",
       "    <tr>\n",
       "      <th rowspan=\"3\" valign=\"top\">A090000074</th>\n",
       "      <th>4243</th>\n",
       "      <td>135</td>\n",
       "    </tr>\n",
       "    <tr>\n",
       "      <th>2648</th>\n",
       "      <td>90</td>\n",
       "    </tr>\n",
       "    <tr>\n",
       "      <th>10196</th>\n",
       "      <td>45</td>\n",
       "    </tr>\n",
       "  </tbody>\n",
       "</table>\n",
       "<p>2677 rows × 1 columns</p>\n",
       "</div>"
      ],
      "text/plain": [
       "                         KnowledgeTag\n",
       "testId     KnowledgeTag              \n",
       "A010000001 5844                  1585\n",
       "A010000002 5844                   930\n",
       "           6803                   620\n",
       "A010000003 6804                   646\n",
       "           6806                   646\n",
       "...                               ...\n",
       "A090000073 10196                   90\n",
       "           4243                    45\n",
       "A090000074 4243                   135\n",
       "           2648                    90\n",
       "           10196                   45\n",
       "\n",
       "[2677 rows x 1 columns]"
      ]
     },
     "execution_count": 33,
     "metadata": {},
     "output_type": "execute_result"
    }
   ],
   "source": [
    "# tag는 시험지 별로 균일하게 분포 하는가? => 아닌 것 같음 한 시험지가 한 태그로 다 밀려 있는 경우도 있음\n",
    "train.groupby(\"testId\")[\"KnowledgeTag\"].value_counts().to_frame()"
   ]
  },
  {
   "cell_type": "markdown",
   "id": "81d0e35c",
   "metadata": {},
   "source": [
    "### knowledgetag의 개수는 시험지의 카테고리 별로 균일하게 분포하는가? -> 아니요"
   ]
  },
  {
   "cell_type": "code",
   "execution_count": 86,
   "id": "090cd664",
   "metadata": {},
   "outputs": [
    {
     "data": {
      "text/plain": [
       "<AxesSubplot: >"
      ]
     },
     "execution_count": 86,
     "metadata": {},
     "output_type": "execute_result"
    },
    {
     "data": {
      "image/png": "[encoded data removed]",
      "text/plain": [
       "<Figure size 640x480 with 1 Axes>"
      ]
     },
     "metadata": {},
     "output_type": "display_data"
    }
   ],
   "source": [
    "tmp = train.groupby(\"test_cat\")[\"KnowledgeTag\"].value_counts().rename('KnolwedgeTagCnt').reset_index()\n",
    "tmp = dict(zip(tmp.test_cat, tmp.KnowledgeTag))\n",
    "\n",
    "sns.barplot(x = list(tmp.keys()), y = list(tmp.values()))"
   ]
  },
  {
   "cell_type": "markdown",
   "id": "6aa792ec",
   "metadata": {},
   "source": [
    "### 그렇다면 카테고리별 시험지 자체의 개수는? -> 9번 카테고리 빼고 꽤나 균일하게 분포함"
   ]
  },
  {
   "cell_type": "code",
   "execution_count": 90,
   "id": "fd7f9e49",
   "metadata": {},
   "outputs": [
    {
     "data": {
      "text/plain": [
       "<AxesSubplot: xlabel='test_cat'>"
      ]
     },
     "execution_count": 90,
     "metadata": {},
     "output_type": "execute_result"
    },
    {
     "data": {
      "image/png": "[encoded data removed]",
      "text/plain": [
       "<Figure size 640x480 with 1 Axes>"
      ]
     },
     "metadata": {},
     "output_type": "display_data"
    }
   ],
   "source": [
    "tmp = train.groupby('test_cat')['KnowledgeTag'].count()\n",
    "sns.barplot(x = tmp.index, y = tmp.values)"
   ]
  },
  {
   "cell_type": "markdown",
   "id": "f3c9ae9b",
   "metadata": {},
   "source": [
    "### 개수 대비 knowledge tag의 분포 => 이건 이렇게 계산하면 안 될 거 같은데.... 나 바보라 모르겠어ㅜㅜ"
   ]
  },
  {
   "cell_type": "code",
   "execution_count": 95,
   "id": "3fe51fe8",
   "metadata": {},
   "outputs": [
    {
     "data": {
      "text/plain": [
       "{'1': 39.982659808963994,\n",
       " '2': 34.87483753574214,\n",
       " '3': 146.0064,\n",
       " '4': 23.719875776397515,\n",
       " '5': 26.69115369725126,\n",
       " '6': 429.9739837398374,\n",
       " '7': 35.53513238289206,\n",
       " '8': 34.573473684210526,\n",
       " '9': 45.68886337543054}"
      ]
     },
     "execution_count": 95,
     "metadata": {},
     "output_type": "execute_result"
    }
   ],
   "source": [
    "tmp = train.groupby(\"test_cat\")[\"KnowledgeTag\"].value_counts().rename('KnolwedgeTagCnt').reset_index()\n",
    "tmp = dict(zip(tmp.test_cat, tmp.KnowledgeTag))\n",
    "cnt = train.groupby('test_cat')['KnowledgeTag'].count()\n",
    "tmp = { key:cnt/value for (key, value), cnt in zip(tmp.items(), cnt)} ; tmp"
   ]
  },
  {
   "cell_type": "markdown",
   "id": "ba480874",
   "metadata": {},
   "source": [
    "### knowledgetag는 고유한 category를 갖는가?"
   ]
  },
  {
   "cell_type": "code",
   "execution_count": 105,
   "id": "d6045422",
   "metadata": {},
   "outputs": [],
   "source": [
    "tmp1, tmp2, tmp3, tmp4, tmp5, tmp6, tmp7, tmp8, tmp9 = train.groupby(\"test_cat\")[\"KnowledgeTag\"].unique().apply(set)\n",
    "tmp = [tmp1, tmp2, tmp3, tmp4, tmp5, tmp6, tmp7, tmp8, tmp9]"
   ]
  },
  {
   "cell_type": "code",
   "execution_count": 109,
   "id": "474a3874",
   "metadata": {},
   "outputs": [
    {
     "name": "stdout",
     "output_type": "stream",
     "text": [
      "7 8\n",
      "{7863}\n",
      "8 7\n",
      "{7863}\n"
     ]
    }
   ],
   "source": [
    "for i, a in enumerate(tmp):\n",
    "    for j, b in enumerate(tmp):\n",
    "        if a == b:\n",
    "            continue\n",
    "        if a.intersection(b) != set():\n",
    "            print(i+1, j+1)\n",
    "            print(a.intersection(b))"
   ]
  },
  {
   "cell_type": "markdown",
   "id": "12fb2573",
   "metadata": {},
   "source": [
    "- 7863번 knowledgetag 제외 모두 고유한 category를 가짐"
   ]
  },
  {
   "cell_type": "markdown",
   "id": "189b7e87",
   "metadata": {},
   "source": [
    "### test cat의 분포 및 cat에 따른 정답율?"
   ]
  },
  {
   "cell_type": "code",
   "execution_count": 96,
   "id": "dc324f42",
   "metadata": {},
   "outputs": [
    {
     "data": {
      "image/png": "[encoded data removed]",
      "text/plain": [
       "<Figure size 640x480 with 2 Axes>"
      ]
     },
     "metadata": {},
     "output_type": "display_data"
    }
   ],
   "source": [
    "# test의 cat의 분포 및 정답률 그래프\n",
    "fig,ax1 = plt.subplots()\n",
    "ax1.bar(range(1,10), train.value_counts('test_cat').sort_index())\n",
    "ax2 = ax1.twinx()\n",
    "ax2.plot(range(1,10), train.groupby('test_cat')['answerCode'].mean(), c = 'red')\n",
    "plt.show()"
   ]
  },
  {
   "cell_type": "code",
   "execution_count": null,
   "id": "3b2bfb9a",
   "metadata": {},
   "outputs": [],
   "source": []
  }
 ],
 "metadata": {
  "kernelspec": {
   "display_name": "base",
   "language": "python",
   "name": "python3"
  },
  "language_info": {
   "codemirror_mode": {
    "name": "ipython",
    "version": 3
   },
   "file_extension": ".py",
   "mimetype": "text/x-python",
   "name": "python",
   "nbconvert_exporter": "python",
   "pygments_lexer": "ipython3",
   "version": "3.8.5"
  },
  "vscode": {
   "interpreter": {
    "hash": "d4d1e4263499bec80672ea0156c357c1ee493ec2b1c70f0acce89fc37c4a6abe"
   }
  }
 },
 "nbformat": 4,
 "nbformat_minor": 5
}
