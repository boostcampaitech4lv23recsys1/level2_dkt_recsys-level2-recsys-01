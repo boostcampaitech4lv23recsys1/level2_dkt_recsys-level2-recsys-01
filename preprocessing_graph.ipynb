{
 "cells": [
  {
   "cell_type": "code",
   "execution_count": 2,
   "metadata": {
    "collapsed": true
   },
   "outputs": [],
   "source": [
    "import pandas as pd\n",
    "import numpy as np"
   ]
  },
  {
   "cell_type": "code",
   "execution_count": 5,
   "outputs": [],
   "source": [
    "df = pd.DataFrame(np.random.randn(100, 4))"
   ],
   "metadata": {
    "collapsed": false
   }
  },
  {
   "cell_type": "code",
   "execution_count": 6,
   "outputs": [],
   "source": [
    "sdf = df.astype(pd.SparseDtype(\"float\", np.nan))"
   ],
   "metadata": {
    "collapsed": false
   }
  },
  {
   "cell_type": "code",
   "execution_count": 7,
   "outputs": [
    {
     "data": {
      "text/plain": "           0         1         2         3\n0   1.084779 -1.448696 -0.111953 -1.177173\n1   0.936740 -1.436302 -1.929753  0.078962\n2  -1.395443  1.404561 -0.024623  0.341066\n3   1.009172 -0.549194 -1.161813  0.638864\n4   0.070907 -0.067039 -1.587011 -0.691147\n..       ...       ...       ...       ...\n95 -1.005186  0.170267  1.052046 -1.080627\n96 -1.006910 -0.264485 -0.009370  1.002116\n97  0.945350  0.843395 -1.630501  0.632882\n98  0.488782 -0.317607 -0.378728 -0.116858\n99  1.177325 -0.045304  0.085313 -1.940357\n\n[100 rows x 4 columns]",
      "text/html": "<div>\n<style scoped>\n    .dataframe tbody tr th:only-of-type {\n        vertical-align: middle;\n    }\n\n    .dataframe tbody tr th {\n        vertical-align: top;\n    }\n\n    .dataframe thead th {\n        text-align: right;\n    }\n</style>\n<table border=\"1\" class=\"dataframe\">\n  <thead>\n    <tr style=\"text-align: right;\">\n      <th></th>\n      <th>0</th>\n      <th>1</th>\n      <th>2</th>\n      <th>3</th>\n    </tr>\n  </thead>\n  <tbody>\n    <tr>\n      <th>0</th>\n      <td>1.084779</td>\n      <td>-1.448696</td>\n      <td>-0.111953</td>\n      <td>-1.177173</td>\n    </tr>\n    <tr>\n      <th>1</th>\n      <td>0.936740</td>\n      <td>-1.436302</td>\n      <td>-1.929753</td>\n      <td>0.078962</td>\n    </tr>\n    <tr>\n      <th>2</th>\n      <td>-1.395443</td>\n      <td>1.404561</td>\n      <td>-0.024623</td>\n      <td>0.341066</td>\n    </tr>\n    <tr>\n      <th>3</th>\n      <td>1.009172</td>\n      <td>-0.549194</td>\n      <td>-1.161813</td>\n      <td>0.638864</td>\n    </tr>\n    <tr>\n      <th>4</th>\n      <td>0.070907</td>\n      <td>-0.067039</td>\n      <td>-1.587011</td>\n      <td>-0.691147</td>\n    </tr>\n    <tr>\n      <th>...</th>\n      <td>...</td>\n      <td>...</td>\n      <td>...</td>\n      <td>...</td>\n    </tr>\n    <tr>\n      <th>95</th>\n      <td>-1.005186</td>\n      <td>0.170267</td>\n      <td>1.052046</td>\n      <td>-1.080627</td>\n    </tr>\n    <tr>\n      <th>96</th>\n      <td>-1.006910</td>\n      <td>-0.264485</td>\n      <td>-0.009370</td>\n      <td>1.002116</td>\n    </tr>\n    <tr>\n      <th>97</th>\n      <td>0.945350</td>\n      <td>0.843395</td>\n      <td>-1.630501</td>\n      <td>0.632882</td>\n    </tr>\n    <tr>\n      <th>98</th>\n      <td>0.488782</td>\n      <td>-0.317607</td>\n      <td>-0.378728</td>\n      <td>-0.116858</td>\n    </tr>\n    <tr>\n      <th>99</th>\n      <td>1.177325</td>\n      <td>-0.045304</td>\n      <td>0.085313</td>\n      <td>-1.940357</td>\n    </tr>\n  </tbody>\n</table>\n<p>100 rows × 4 columns</p>\n</div>"
     },
     "execution_count": 7,
     "metadata": {},
     "output_type": "execute_result"
    }
   ],
   "source": [
    "sdf"
   ],
   "metadata": {
    "collapsed": false
   }
  },
  {
   "cell_type": "code",
   "execution_count": 9,
   "outputs": [],
   "source": [
    "train = pd.read_csv('data/train_data.csv')"
   ],
   "metadata": {
    "collapsed": false
   }
  },
  {
   "cell_type": "code",
   "execution_count": 15,
   "outputs": [],
   "source": [
    "train = train.drop_duplicates([\"userID\", \"assessmentItemID\"])\n",
    "graph = train.set_index([\"userID\", \"assessmentItemID\"]).answerCode.unstack(fill_value=0)"
   ],
   "metadata": {
    "collapsed": false
   }
  },
  {
   "cell_type": "code",
   "execution_count": null,
   "outputs": [],
   "source": [],
   "metadata": {
    "collapsed": false
   }
  }
 ],
 "metadata": {
  "kernelspec": {
   "display_name": "Python 3",
   "language": "python",
   "name": "python3"
  },
  "language_info": {
   "codemirror_mode": {
    "name": "ipython",
    "version": 2
   },
   "file_extension": ".py",
   "mimetype": "text/x-python",
   "name": "python",
   "nbconvert_exporter": "python",
   "pygments_lexer": "ipython2",
   "version": "2.7.6"
  }
 },
 "nbformat": 4,
 "nbformat_minor": 0
}
