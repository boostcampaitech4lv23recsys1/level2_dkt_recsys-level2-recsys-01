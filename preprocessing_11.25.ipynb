{
 "cells": [
  {
   "cell_type": "code",
   "execution_count": 54,
   "id": "1da2aa6b-a2a8-4537-a8b7-f387606e4ee2",
   "metadata": {},
   "outputs": [],
   "source": [
    "import pandas as pd\n",
    "import numpy as np"
   ]
  },
  {
   "cell_type": "code",
   "execution_count": 55,
   "id": "b8cea93a-8363-4203-b3e0-7008c1c1035e",
   "metadata": {},
   "outputs": [
    {
     "data": {
      "text/plain": [
       "'/opt/ml/input'"
      ]
     },
     "execution_count": 55,
     "metadata": {},
     "output_type": "execute_result"
    }
   ],
   "source": [
    "pwd"
   ]
  },
  {
   "cell_type": "code",
   "execution_count": 56,
   "id": "869a0af7-fcbc-488c-9a29-f86959abe785",
   "metadata": {},
   "outputs": [],
   "source": [
    "train_origin = pd.read_csv('./level2_dkt_recsys-level2-recsys-01/data/train_v1.3.csv')"
   ]
  },
  {
   "cell_type": "code",
   "execution_count": 57,
   "id": "f1eb467a-2944-4311-ac31-1fd82bf3b664",
   "metadata": {},
   "outputs": [],
   "source": [
    "train = train_origin.copy()"
   ]
  },
  {
   "cell_type": "markdown",
   "id": "5d99f65f-a48a-4ee3-b898-79dea51ed6e5",
   "metadata": {},
   "source": [
    "# 0. 해야 하는 일\n",
    "- ML 계열을 위한 knowledge tag cluster feature\n",
    "- 시계열 검정"
   ]
  },
  {
   "cell_type": "markdown",
   "id": "5487598f-77a1-4cfe-9876-22911e311455",
   "metadata": {
    "tags": []
   },
   "source": [
    "# 1. 일단 데이터 꼴 좀 보기"
   ]
  },
  {
   "cell_type": "code",
   "execution_count": 58,
   "id": "f284e82c-8336-4b0a-8464-d49599a198b0",
   "metadata": {},
   "outputs": [
    {
     "name": "stdout",
     "output_type": "stream",
     "text": [
      "<class 'pandas.core.frame.DataFrame'>\n",
      "RangeIndex: 2526700 entries, 0 to 2526699\n",
      "Data columns (total 30 columns):\n",
      " #   Column                Dtype  \n",
      "---  ------                -----  \n",
      " 0   userID                int64  \n",
      " 1   assessmentItemID      object \n",
      " 2   testId                object \n",
      " 3   answerCode            int64  \n",
      " 4   Timestamp             object \n",
      " 5   post_Timestamp        object \n",
      " 6   week_num              int64  \n",
      " 7   time_question_median  float64\n",
      " 8   time_user_median      float64\n",
      " 9   time_user_mean        float64\n",
      " 10  KnowledgeTag          int64  \n",
      " 11  test_cat              int64  \n",
      " 12  test_id               int64  \n",
      " 13  question_number       int64  \n",
      " 14  question_numslen      int64  \n",
      " 15  test_month            int64  \n",
      " 16  test_day              int64  \n",
      " 17  test_hour             int64  \n",
      " 18  user_acc              float64\n",
      " 19  test_acc              float64\n",
      " 20  tag_acc               float64\n",
      " 21  question_acc          float64\n",
      " 22  month_acc             float64\n",
      " 23  hour_acc              float64\n",
      " 24  exp_test              int64  \n",
      " 25  exp_tag               int64  \n",
      " 26  exp_question          int64  \n",
      " 27  ans_cumsum            float64\n",
      " 28  continuous_test       int64  \n",
      " 29  elapsed_time          float64\n",
      "dtypes: float64(11), int64(15), object(4)\n",
      "memory usage: 578.3+ MB\n"
     ]
    }
   ],
   "source": [
    "train.info()"
   ]
  },
  {
   "cell_type": "code",
   "execution_count": 59,
   "id": "b302405e-f6e8-483f-9bfc-2af544f9842c",
   "metadata": {},
   "outputs": [
    {
     "data": {
      "text/html": [
       "<div>\n",
       "<style scoped>\n",
       "    .dataframe tbody tr th:only-of-type {\n",
       "        vertical-align: middle;\n",
       "    }\n",
       "\n",
       "    .dataframe tbody tr th {\n",
       "        vertical-align: top;\n",
       "    }\n",
       "\n",
       "    .dataframe thead th {\n",
       "        text-align: right;\n",
       "    }\n",
       "</style>\n",
       "<table border=\"1\" class=\"dataframe\">\n",
       "  <thead>\n",
       "    <tr style=\"text-align: right;\">\n",
       "      <th></th>\n",
       "      <th>userID</th>\n",
       "      <th>answerCode</th>\n",
       "      <th>week_num</th>\n",
       "      <th>time_question_median</th>\n",
       "      <th>time_user_median</th>\n",
       "      <th>time_user_mean</th>\n",
       "      <th>KnowledgeTag</th>\n",
       "      <th>test_cat</th>\n",
       "      <th>test_id</th>\n",
       "      <th>question_number</th>\n",
       "      <th>...</th>\n",
       "      <th>tag_acc</th>\n",
       "      <th>question_acc</th>\n",
       "      <th>month_acc</th>\n",
       "      <th>hour_acc</th>\n",
       "      <th>exp_test</th>\n",
       "      <th>exp_tag</th>\n",
       "      <th>exp_question</th>\n",
       "      <th>ans_cumsum</th>\n",
       "      <th>continuous_test</th>\n",
       "      <th>elapsed_time</th>\n",
       "    </tr>\n",
       "  </thead>\n",
       "  <tbody>\n",
       "    <tr>\n",
       "      <th>count</th>\n",
       "      <td>2.526700e+06</td>\n",
       "      <td>2.526700e+06</td>\n",
       "      <td>2.526700e+06</td>\n",
       "      <td>2.526700e+06</td>\n",
       "      <td>2.526700e+06</td>\n",
       "      <td>2.526700e+06</td>\n",
       "      <td>2.526700e+06</td>\n",
       "      <td>2.526700e+06</td>\n",
       "      <td>2.526700e+06</td>\n",
       "      <td>2.526700e+06</td>\n",
       "      <td>...</td>\n",
       "      <td>2.526700e+06</td>\n",
       "      <td>2.526700e+06</td>\n",
       "      <td>2.526700e+06</td>\n",
       "      <td>2.526700e+06</td>\n",
       "      <td>2.526700e+06</td>\n",
       "      <td>2.526700e+06</td>\n",
       "      <td>2.526700e+06</td>\n",
       "      <td>2.526700e+06</td>\n",
       "      <td>2.526700e+06</td>\n",
       "      <td>2.526700e+06</td>\n",
       "    </tr>\n",
       "    <tr>\n",
       "      <th>mean</th>\n",
       "      <td>2.083084e+03</td>\n",
       "      <td>6.541513e-01</td>\n",
       "      <td>2.475559e+00</td>\n",
       "      <td>2.520137e+03</td>\n",
       "      <td>8.761495e+02</td>\n",
       "      <td>-2.190728e+03</td>\n",
       "      <td>4.909093e+03</td>\n",
       "      <td>4.705129e+00</td>\n",
       "      <td>8.571259e+01</td>\n",
       "      <td>3.712530e+00</td>\n",
       "      <td>...</td>\n",
       "      <td>6.541513e-01</td>\n",
       "      <td>6.541513e-01</td>\n",
       "      <td>6.541513e-01</td>\n",
       "      <td>6.541513e-01</td>\n",
       "      <td>1.040280e+00</td>\n",
       "      <td>7.928517e+00</td>\n",
       "      <td>1.040280e+00</td>\n",
       "      <td>2.249819e+02</td>\n",
       "      <td>1.061104e+00</td>\n",
       "      <td>4.385367e+01</td>\n",
       "    </tr>\n",
       "    <tr>\n",
       "      <th>std</th>\n",
       "      <td>1.585557e+03</td>\n",
       "      <td>4.762629e-01</td>\n",
       "      <td>1.703838e+00</td>\n",
       "      <td>1.496495e+05</td>\n",
       "      <td>3.851663e+04</td>\n",
       "      <td>5.112004e+04</td>\n",
       "      <td>3.302996e+03</td>\n",
       "      <td>2.431820e+00</td>\n",
       "      <td>5.323507e+01</td>\n",
       "      <td>2.034934e+00</td>\n",
       "      <td>...</td>\n",
       "      <td>1.375419e-01</td>\n",
       "      <td>1.968600e-01</td>\n",
       "      <td>4.059761e-02</td>\n",
       "      <td>3.804173e-02</td>\n",
       "      <td>2.019422e-01</td>\n",
       "      <td>5.450104e+00</td>\n",
       "      <td>2.019422e-01</td>\n",
       "      <td>2.057850e+02</td>\n",
       "      <td>1.599896e+00</td>\n",
       "      <td>7.819599e+01</td>\n",
       "    </tr>\n",
       "    <tr>\n",
       "      <th>min</th>\n",
       "      <td>0.000000e+00</td>\n",
       "      <td>-1.000000e+00</td>\n",
       "      <td>0.000000e+00</td>\n",
       "      <td>-7.261839e+06</td>\n",
       "      <td>2.000000e+00</td>\n",
       "      <td>-6.978134e+05</td>\n",
       "      <td>2.300000e+01</td>\n",
       "      <td>1.000000e+00</td>\n",
       "      <td>1.000000e+00</td>\n",
       "      <td>1.000000e+00</td>\n",
       "      <td>...</td>\n",
       "      <td>1.760000e-01</td>\n",
       "      <td>4.333333e-02</td>\n",
       "      <td>4.933577e-01</td>\n",
       "      <td>5.318898e-01</td>\n",
       "      <td>1.000000e+00</td>\n",
       "      <td>1.000000e+00</td>\n",
       "      <td>1.000000e+00</td>\n",
       "      <td>-1.000000e+00</td>\n",
       "      <td>0.000000e+00</td>\n",
       "      <td>0.000000e+00</td>\n",
       "    </tr>\n",
       "    <tr>\n",
       "      <th>25%</th>\n",
       "      <td>8.000000e+02</td>\n",
       "      <td>0.000000e+00</td>\n",
       "      <td>1.000000e+00</td>\n",
       "      <td>7.000000e+00</td>\n",
       "      <td>2.000000e+01</td>\n",
       "      <td>3.459896e+01</td>\n",
       "      <td>1.934000e+03</td>\n",
       "      <td>3.000000e+00</td>\n",
       "      <td>3.900000e+01</td>\n",
       "      <td>2.000000e+00</td>\n",
       "      <td>...</td>\n",
       "      <td>5.433333e-01</td>\n",
       "      <td>5.000000e-01</td>\n",
       "      <td>6.522250e-01</td>\n",
       "      <td>6.333285e-01</td>\n",
       "      <td>1.000000e+00</td>\n",
       "      <td>5.000000e+00</td>\n",
       "      <td>1.000000e+00</td>\n",
       "      <td>6.700000e+01</td>\n",
       "      <td>0.000000e+00</td>\n",
       "      <td>2.000000e+00</td>\n",
       "    </tr>\n",
       "    <tr>\n",
       "      <th>50%</th>\n",
       "      <td>1.748000e+03</td>\n",
       "      <td>1.000000e+00</td>\n",
       "      <td>2.000000e+00</td>\n",
       "      <td>2.200000e+01</td>\n",
       "      <td>2.850000e+01</td>\n",
       "      <td>6.740964e+01</td>\n",
       "      <td>5.258000e+03</td>\n",
       "      <td>5.000000e+00</td>\n",
       "      <td>8.300000e+01</td>\n",
       "      <td>4.000000e+00</td>\n",
       "      <td>...</td>\n",
       "      <td>6.691111e-01</td>\n",
       "      <td>6.640000e-01</td>\n",
       "      <td>6.663511e-01</td>\n",
       "      <td>6.448756e-01</td>\n",
       "      <td>1.000000e+00</td>\n",
       "      <td>6.000000e+00</td>\n",
       "      <td>1.000000e+00</td>\n",
       "      <td>1.670000e+02</td>\n",
       "      <td>0.000000e+00</td>\n",
       "      <td>1.700000e+01</td>\n",
       "    </tr>\n",
       "    <tr>\n",
       "      <th>75%</th>\n",
       "      <td>3.034000e+03</td>\n",
       "      <td>1.000000e+00</td>\n",
       "      <td>4.000000e+00</td>\n",
       "      <td>3.900000e+01</td>\n",
       "      <td>3.700000e+01</td>\n",
       "      <td>1.144709e+02</td>\n",
       "      <td>7.913000e+03</td>\n",
       "      <td>7.000000e+00</td>\n",
       "      <td>1.290000e+02</td>\n",
       "      <td>5.000000e+00</td>\n",
       "      <td>...</td>\n",
       "      <td>7.708889e-01</td>\n",
       "      <td>8.240000e-01</td>\n",
       "      <td>6.700990e-01</td>\n",
       "      <td>6.828313e-01</td>\n",
       "      <td>1.000000e+00</td>\n",
       "      <td>1.000000e+01</td>\n",
       "      <td>1.000000e+00</td>\n",
       "      <td>3.260000e+02</td>\n",
       "      <td>2.000000e+00</td>\n",
       "      <td>4.900000e+01</td>\n",
       "    </tr>\n",
       "    <tr>\n",
       "      <th>max</th>\n",
       "      <td>7.441000e+03</td>\n",
       "      <td>1.000000e+00</td>\n",
       "      <td>6.000000e+00</td>\n",
       "      <td>6.642435e+06</td>\n",
       "      <td>1.859332e+06</td>\n",
       "      <td>1.887327e+06</td>\n",
       "      <td>1.127100e+04</td>\n",
       "      <td>9.000000e+00</td>\n",
       "      <td>1.980000e+02</td>\n",
       "      <td>1.300000e+01</td>\n",
       "      <td>...</td>\n",
       "      <td>9.728571e-01</td>\n",
       "      <td>9.966667e-01</td>\n",
       "      <td>7.067056e-01</td>\n",
       "      <td>7.143754e-01</td>\n",
       "      <td>3.000000e+00</td>\n",
       "      <td>1.080000e+02</td>\n",
       "      <td>3.000000e+00</td>\n",
       "      <td>1.551000e+03</td>\n",
       "      <td>2.100000e+01</td>\n",
       "      <td>6.490000e+02</td>\n",
       "    </tr>\n",
       "  </tbody>\n",
       "</table>\n",
       "<p>8 rows × 26 columns</p>\n",
       "</div>"
      ],
      "text/plain": [
       "             userID    answerCode      week_num  time_question_median  \\\n",
       "count  2.526700e+06  2.526700e+06  2.526700e+06          2.526700e+06   \n",
       "mean   2.083084e+03  6.541513e-01  2.475559e+00          2.520137e+03   \n",
       "std    1.585557e+03  4.762629e-01  1.703838e+00          1.496495e+05   \n",
       "min    0.000000e+00 -1.000000e+00  0.000000e+00         -7.261839e+06   \n",
       "25%    8.000000e+02  0.000000e+00  1.000000e+00          7.000000e+00   \n",
       "50%    1.748000e+03  1.000000e+00  2.000000e+00          2.200000e+01   \n",
       "75%    3.034000e+03  1.000000e+00  4.000000e+00          3.900000e+01   \n",
       "max    7.441000e+03  1.000000e+00  6.000000e+00          6.642435e+06   \n",
       "\n",
       "       time_user_median  time_user_mean  KnowledgeTag      test_cat  \\\n",
       "count      2.526700e+06    2.526700e+06  2.526700e+06  2.526700e+06   \n",
       "mean       8.761495e+02   -2.190728e+03  4.909093e+03  4.705129e+00   \n",
       "std        3.851663e+04    5.112004e+04  3.302996e+03  2.431820e+00   \n",
       "min        2.000000e+00   -6.978134e+05  2.300000e+01  1.000000e+00   \n",
       "25%        2.000000e+01    3.459896e+01  1.934000e+03  3.000000e+00   \n",
       "50%        2.850000e+01    6.740964e+01  5.258000e+03  5.000000e+00   \n",
       "75%        3.700000e+01    1.144709e+02  7.913000e+03  7.000000e+00   \n",
       "max        1.859332e+06    1.887327e+06  1.127100e+04  9.000000e+00   \n",
       "\n",
       "            test_id  question_number  ...       tag_acc  question_acc  \\\n",
       "count  2.526700e+06     2.526700e+06  ...  2.526700e+06  2.526700e+06   \n",
       "mean   8.571259e+01     3.712530e+00  ...  6.541513e-01  6.541513e-01   \n",
       "std    5.323507e+01     2.034934e+00  ...  1.375419e-01  1.968600e-01   \n",
       "min    1.000000e+00     1.000000e+00  ...  1.760000e-01  4.333333e-02   \n",
       "25%    3.900000e+01     2.000000e+00  ...  5.433333e-01  5.000000e-01   \n",
       "50%    8.300000e+01     4.000000e+00  ...  6.691111e-01  6.640000e-01   \n",
       "75%    1.290000e+02     5.000000e+00  ...  7.708889e-01  8.240000e-01   \n",
       "max    1.980000e+02     1.300000e+01  ...  9.728571e-01  9.966667e-01   \n",
       "\n",
       "          month_acc      hour_acc      exp_test       exp_tag  exp_question  \\\n",
       "count  2.526700e+06  2.526700e+06  2.526700e+06  2.526700e+06  2.526700e+06   \n",
       "mean   6.541513e-01  6.541513e-01  1.040280e+00  7.928517e+00  1.040280e+00   \n",
       "std    4.059761e-02  3.804173e-02  2.019422e-01  5.450104e+00  2.019422e-01   \n",
       "min    4.933577e-01  5.318898e-01  1.000000e+00  1.000000e+00  1.000000e+00   \n",
       "25%    6.522250e-01  6.333285e-01  1.000000e+00  5.000000e+00  1.000000e+00   \n",
       "50%    6.663511e-01  6.448756e-01  1.000000e+00  6.000000e+00  1.000000e+00   \n",
       "75%    6.700990e-01  6.828313e-01  1.000000e+00  1.000000e+01  1.000000e+00   \n",
       "max    7.067056e-01  7.143754e-01  3.000000e+00  1.080000e+02  3.000000e+00   \n",
       "\n",
       "         ans_cumsum  continuous_test  elapsed_time  \n",
       "count  2.526700e+06     2.526700e+06  2.526700e+06  \n",
       "mean   2.249819e+02     1.061104e+00  4.385367e+01  \n",
       "std    2.057850e+02     1.599896e+00  7.819599e+01  \n",
       "min   -1.000000e+00     0.000000e+00  0.000000e+00  \n",
       "25%    6.700000e+01     0.000000e+00  2.000000e+00  \n",
       "50%    1.670000e+02     0.000000e+00  1.700000e+01  \n",
       "75%    3.260000e+02     2.000000e+00  4.900000e+01  \n",
       "max    1.551000e+03     2.100000e+01  6.490000e+02  \n",
       "\n",
       "[8 rows x 26 columns]"
      ]
     },
     "execution_count": 59,
     "metadata": {},
     "output_type": "execute_result"
    }
   ],
   "source": [
    "train.describe()"
   ]
  },
  {
   "cell_type": "markdown",
   "id": "0110e82f-19a7-4dbc-a1fc-fe328026aff0",
   "metadata": {},
   "source": [
    "# 2. 일단 Knowledge tag cluster\n",
    "- 최적의 클러스터링은 군집 간 분산은 최대, 군집 내 분산은 최소로 해야 함\n",
    "- Silhouette Method->1에 가까울수록 good, Elbow Point Method -> 클러스터 내 분산 최소  \n",
    "=> **이거 하려면 다른 변수들 정제 해놔야겠다 다음으로 패스**"
   ]
  },
  {
   "cell_type": "code",
   "execution_count": 171,
   "id": "16debf0c-5338-4f8d-a2f0-a41830990881",
   "metadata": {},
   "outputs": [],
   "source": [
    "# !pip install kmodes"
   ]
  },
  {
   "cell_type": "code",
   "execution_count": null,
   "id": "58780d9e-d86d-48ce-88a9-2ee900d08bc4",
   "metadata": {},
   "outputs": [
    {
     "name": "stderr",
     "output_type": "stream",
     "text": [
      "/tmp/ipykernel_30643/3000261226.py:1: FutureWarning: The default value of numeric_only in DataFrame.corr is deprecated. In a future version, it will default to False. Select only valid columns or specify the value of numeric_only to silence this warning.\n",
      "  train.corr()['KnowledgeTag']\n"
     ]
    },
    {
     "data": {
      "text/plain": [
       "userID                 -0.015152\n",
       "answerCode              0.011809\n",
       "week_num                0.000684\n",
       "time_question_median   -0.027735\n",
       "KnowledgeTag            1.000000\n",
       "test_cat               -0.149558\n",
       "test_id                 0.078739\n",
       "question_number         0.013493\n",
       "question_numslen       -0.007634\n",
       "test_month              0.131800\n",
       "test_day               -0.006563\n",
       "test_hour              -0.009501\n",
       "test_acc                0.004223\n",
       "tag_acc                 0.040890\n",
       "question_acc            0.012589\n",
       "month_acc              -0.150297\n",
       "hour_acc               -0.052807\n",
       "exp_test               -0.003329\n",
       "exp_tag                -0.001546\n",
       "exp_question           -0.003329\n",
       "ans_cumsum             -0.015383\n",
       "continuous_test         0.010516\n",
       "elapsed_time           -0.010258\n",
       "ans_cumavg              0.045417\n",
       "elapsed_time_mean      -0.044516\n",
       "elapsed_time_median    -0.012588\n",
       "time_mean_3            -0.018707\n",
       "Name: KnowledgeTag, dtype: float64"
      ]
     },
     "execution_count": 162,
     "metadata": {},
     "output_type": "execute_result"
    }
   ],
   "source": [
    "train.corr()['KnowledgeTag']"
   ]
  },
  {
   "cell_type": "markdown",
   "id": "b007cab4-11c6-4392-912c-846f866311f4",
   "metadata": {},
   "source": [
    "- Knowledge tag랑 다른 애들이랑 scale이 워낙 다르다보니까 corr이 안 봐진다\n",
    "- 그리고 사실 knowledgetag는 범주자나? polyserial correlation (X가 연속형, Y범주가 3개 이상)"
   ]
  },
  {
   "cell_type": "code",
   "execution_count": 163,
   "id": "ae6ee0c3-7d05-4837-81e4-e13631566b1e",
   "metadata": {},
   "outputs": [],
   "source": [
    "from scipy import stats"
   ]
  },
  {
   "cell_type": "code",
   "execution_count": 165,
   "id": "7fb3af53-fadb-4de1-a714-46240a5be2b9",
   "metadata": {},
   "outputs": [
    {
     "data": {
      "text/plain": [
       "PointbiserialrResult(correlation=0.04089023057839745, pvalue=0.0)"
      ]
     },
     "execution_count": 165,
     "metadata": {},
     "output_type": "execute_result"
    }
   ],
   "source": [
    "stats.pointbiserialr(train['tag_acc'], train['KnowledgeTag'])"
   ]
  },
  {
   "cell_type": "markdown",
   "id": "68167edb-705a-4e90-99c2-1a616d51eae3",
   "metadata": {},
   "source": [
    "# 3. 시간에 따른 유저 별 정답률 avg acc\n",
    "- user_acc column을 대체합니다"
   ]
  },
  {
   "cell_type": "code",
   "execution_count": 104,
   "id": "eb8a5373-ed55-4dfe-b01a-82fd912235b6",
   "metadata": {},
   "outputs": [],
   "source": [
    "train['past_count'] = train.groupby('userID').cumcount()\n",
    "train['ans_cumavg'] = train['ans_cumsum']/train['past_count']"
   ]
  },
  {
   "cell_type": "code",
   "execution_count": 105,
   "id": "22465965-5c55-4a5b-932d-dac563816cf2",
   "metadata": {},
   "outputs": [
    {
     "data": {
      "text/plain": [
       "Index(['userID', 'assessmentItemID', 'testId', 'answerCode', 'Timestamp',\n",
       "       'post_Timestamp', 'week_num', 'time_question_median',\n",
       "       'time_user_median', 'time_user_mean', 'KnowledgeTag', 'test_cat',\n",
       "       'test_id', 'question_number', 'question_numslen', 'test_month',\n",
       "       'test_day', 'test_hour', 'test_acc', 'tag_acc', 'question_acc',\n",
       "       'month_acc', 'hour_acc', 'exp_test', 'exp_tag', 'exp_question',\n",
       "       'ans_cumsum', 'continuous_test', 'elapsed_time', 'past_count',\n",
       "       'average_correct', 'past_q_count', 'shift', 'past_q_correct',\n",
       "       'past_t_count', 'past_t_correct', 'ans_cumavg'],\n",
       "      dtype='object')"
      ]
     },
     "execution_count": 105,
     "metadata": {},
     "output_type": "execute_result"
    }
   ],
   "source": [
    "train.columns"
   ]
  },
  {
   "cell_type": "code",
   "execution_count": 91,
   "id": "c9363239-7bd9-40f3-bf73-9541e0538674",
   "metadata": {},
   "outputs": [],
   "source": [
    "train = train.drop(['user_acc'], axis=1) # 이건 전체 정답률 고려한거라서 날려줌"
   ]
  },
  {
   "cell_type": "markdown",
   "id": "ff945b7b-da92-4b7b-8504-6dded25055e8",
   "metadata": {
    "tags": []
   },
   "source": [
    "# 4. 시간에 따른 문제 별 정답률 avg acc\n",
    "- 유저 단위가 아니라 문제 단위로 문제 별 정답률을 avg acc 만듭니다. (시간의 흐름에 따른)\n",
    "- question_acc column을 대체합니다."
   ]
  },
  {
   "cell_type": "code",
   "execution_count": 100,
   "id": "0bc65533-56d8-411b-9f53-ce6172c9470a",
   "metadata": {},
   "outputs": [],
   "source": [
    "train['past_q_count'] = train.groupby(['userID', 'assessmentItemID']).cumcount()\n",
    "train['shift'] = train.groupby(['userID', 'assessmentItemID'])['answerCode'].shift().fillna(0)\n",
    "train['past_q_correct'] = train.groupby(['userID', 'assessmentItemID'])['shift'].cumsum()\n",
    "train['question_acc'] = (train['past_q_correct']/train['past_q_count'])"
   ]
  },
  {
   "cell_type": "markdown",
   "id": "dd10d893-5e70-421f-b4a5-47b0c5f24505",
   "metadata": {},
   "source": [
    "# 5. 시간에 따른 시험지 별 정답률 avg acc\n",
    "- 유저 단위가 아니라 시험지 단위로 시험지 별 정답률 avg acc 만듭니다. (시간의 흐름에 따른)\n",
    "- test_acc column을 대체합니다."
   ]
  },
  {
   "cell_type": "code",
   "execution_count": 101,
   "id": "5e75534b-d3e3-4a24-a1a1-2cbf1e9e63de",
   "metadata": {},
   "outputs": [],
   "source": [
    "train['past_t_count'] = train.groupby(['userID', 'testId']).cumcount()\n",
    "train['shift'] = train.groupby(['userID', 'testId'])['answerCode'].shift().fillna(0)\n",
    "train['past_t_correct'] = train.groupby(['userID', 'testId'])['shift'].cumsum()\n",
    "train['test_acc'] = (train['past_t_correct']/train['past_t_count'])"
   ]
  },
  {
   "cell_type": "markdown",
   "id": "dff01a21-d535-4a1d-8545-4eddbb57ad4f",
   "metadata": {},
   "source": [
    "# 6. 시간에 따른 누적 time user mean, time user median\n",
    "- time_user_median, time_user_mean을 대체합니다. (name : elapsed_time_mean, elapsed_time_median)"
   ]
  },
  {
   "cell_type": "code",
   "execution_count": 108,
   "id": "bee4264e-3044-4127-8bb8-0e08377e90b6",
   "metadata": {},
   "outputs": [],
   "source": [
    "train = train.assign(elapsed_time_mean=train.groupby(['userID'], sort=False)['elapsed_time'].transform(lambda x: x.expanding().mean()))\n",
    "train = train.assign(elapsed_time_median=train.groupby(['userID'], sort=False)['elapsed_time'].transform(lambda x: x.expanding().median()))"
   ]
  },
  {
   "cell_type": "markdown",
   "id": "058b7fdd-dff7-4177-9830-71112f65621a",
   "metadata": {},
   "source": [
    "# 7. 시간에 따른 누적 time question median\n",
    "- time_question_median을 대체합니다."
   ]
  },
  {
   "cell_type": "code",
   "execution_count": 125,
   "id": "048c8b3a-8cb8-4ac7-9bc2-af6db0809591",
   "metadata": {},
   "outputs": [],
   "source": [
    "train = train.assign(time_question_median=train.groupby(['assessmentItemID'], sort=False)['elapsed_time'].transform(lambda x: x.expanding().median()))"
   ]
  },
  {
   "cell_type": "markdown",
   "id": "0b3ed6c2-d4d9-4367-bf33-b7049b5cd04f",
   "metadata": {},
   "source": [
    "# 8. 경험치 exp_test, exp_tag, exp_question\n",
    "- exp_test, exp_tag, exp_question를 수정합니다 (0부터 시작하도록)"
   ]
  },
  {
   "cell_type": "code",
   "execution_count": 117,
   "id": "a2a146a1-f87e-4666-9814-cc9625487c26",
   "metadata": {},
   "outputs": [],
   "source": [
    "train['exp_test'] = train['exp_test']-1\n",
    "train['exp_tag'] = train['exp_tag']-1\n",
    "train['exp_question'] = train['exp_question']-1"
   ]
  },
  {
   "cell_type": "markdown",
   "id": "9f4422c5-75ff-458c-8b96-16bb0f6b18a2",
   "metadata": {},
   "source": [
    "# 9. 최근 3개 문제의 평균 풀이 시간"
   ]
  },
  {
   "cell_type": "code",
   "execution_count": 142,
   "id": "5b46726f-3cbd-46d3-8d2b-53b0d1124096",
   "metadata": {},
   "outputs": [],
   "source": [
    "train['time_mean_3'] = train.groupby('userID')['elapsed_time'].rolling(3).mean().values"
   ]
  },
  {
   "cell_type": "code",
   "execution_count": 143,
   "id": "edfbfb25-0e00-4422-9ec9-212e92da4248",
   "metadata": {},
   "outputs": [
    {
     "data": {
      "text/plain": [
       "0                NaN\n",
       "1                NaN\n",
       "2           8.666667\n",
       "3          19.666667\n",
       "4          28.000000\n",
       "             ...    \n",
       "2526695    32.666667\n",
       "2526696    19.333333\n",
       "2526697    11.666667\n",
       "2526698    19.000000\n",
       "2526699    43.333333\n",
       "Name: time_mean_3, Length: 2526700, dtype: float64"
      ]
     },
     "execution_count": 143,
     "metadata": {},
     "output_type": "execute_result"
    }
   ],
   "source": [
    "train['time_mean_3']"
   ]
  },
  {
   "cell_type": "markdown",
   "id": "f6b6a4a0-b01a-440d-87c3-820428eeb9bd",
   "metadata": {},
   "source": [
    "# 10. elapsed_time을 범주화\n",
    "- low, medium, high로 나눔"
   ]
  },
  {
   "cell_type": "code",
   "execution_count": 147,
   "id": "3aeaef6d-024f-4ffc-8a96-610c142c121a",
   "metadata": {},
   "outputs": [
    {
     "data": {
      "text/plain": [
       "(17.0, 43.8536700043535)"
      ]
     },
     "execution_count": 147,
     "metadata": {},
     "output_type": "execute_result"
    }
   ],
   "source": [
    "train['elapsed_time'].median(), train['elapsed_time'].mean()"
   ]
  },
  {
   "cell_type": "code",
   "execution_count": 166,
   "id": "ea6ac898-4b07-482e-aae8-8db3218821b8",
   "metadata": {},
   "outputs": [],
   "source": [
    "# train['elapsed_time_cat'] = [ 'low' if x <= train['elapsed_time'].median() else 'medium' if x<=train['elapsed_time'].mean() else 'high' for x in train['elapsed_time']]"
   ]
  },
  {
   "cell_type": "markdown",
   "id": "1b213b65-263d-46e9-9971-5feb2a349b11",
   "metadata": {},
   "source": [
    "# 11. 필요 없는 column들 제거합니다"
   ]
  },
  {
   "cell_type": "code",
   "execution_count": 139,
   "id": "312f38dd-de55-4d05-8010-adf5795ab6af",
   "metadata": {},
   "outputs": [],
   "source": [
    "train = train.drop(['time_user_median', 'time_user_mean'], axis=1)"
   ]
  },
  {
   "cell_type": "code",
   "execution_count": 144,
   "id": "7e38c112-6494-46d4-9379-27c3413c1c41",
   "metadata": {},
   "outputs": [
    {
     "data": {
      "text/plain": [
       "Index(['userID', 'assessmentItemID', 'testId', 'answerCode', 'Timestamp',\n",
       "       'post_Timestamp', 'week_num', 'time_question_median', 'KnowledgeTag',\n",
       "       'test_cat', 'test_id', 'question_number', 'question_numslen',\n",
       "       'test_month', 'test_day', 'test_hour', 'test_acc', 'tag_acc',\n",
       "       'question_acc', 'month_acc', 'hour_acc', 'exp_test', 'exp_tag',\n",
       "       'exp_question', 'ans_cumsum', 'continuous_test', 'elapsed_time',\n",
       "       'ans_cumavg', 'elapsed_time_mean', 'elapsed_time_median',\n",
       "       'time_mean_3'],\n",
       "      dtype='object')"
      ]
     },
     "execution_count": 144,
     "metadata": {},
     "output_type": "execute_result"
    }
   ],
   "source": [
    "train.columns"
   ]
  },
  {
   "cell_type": "code",
   "execution_count": 169,
   "id": "a9e9993f-9cab-4cf0-8eab-3dd539c54866",
   "metadata": {},
   "outputs": [],
   "source": [
    "train.to_csv('.level2_dkt_recsys-level2-recsys-01/data/traintest_v2.1.csv', index=False)"
   ]
  },
  {
   "cell_type": "code",
   "execution_count": null,
   "id": "a668d806-e22a-4129-8332-ae3324d3caf9",
   "metadata": {},
   "outputs": [],
   "source": []
  }
 ],
 "metadata": {
  "kernelspec": {
   "display_name": "Python 3 (ipykernel)",
   "language": "python",
   "name": "python3"
  },
  "language_info": {
   "codemirror_mode": {
    "name": "ipython",
    "version": 3
   },
   "file_extension": ".py",
   "mimetype": "text/x-python",
   "name": "python",
   "nbconvert_exporter": "python",
   "pygments_lexer": "ipython3",
   "version": "3.8.5"
  }
 },
 "nbformat": 4,
 "nbformat_minor": 5
}
