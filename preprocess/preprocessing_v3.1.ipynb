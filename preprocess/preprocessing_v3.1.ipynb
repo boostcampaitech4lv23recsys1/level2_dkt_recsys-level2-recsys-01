{
 "cells": [
  {
   "cell_type": "code",
   "execution_count": null,
   "metadata": {},
   "outputs": [],
   "source": [
    "import pandas as pd\n",
    "import numpy as np\n",
    "\n",
    "train_origin = pd.read_csv('../data/traintest_v3.0.csv')"
   ]
  },
  {
   "cell_type": "markdown",
   "metadata": {},
   "source": [
    "# Data Version 3.1\n",
    "\n",
    "- assementItemID, testId 정답률 추가\n",
    "- 문제 풀이 시작한 시간 numeric feature로 사용할 수 있도록 숫자로 변환 (Timestamp_hour, Timestamp_day, Timestamp_week)"
   ]
  },
  {
   "cell_type": "code",
   "execution_count": null,
   "metadata": {},
   "outputs": [],
   "source": [
    "timestamp = pd.to_datetime(train_origin['Timestamp'])\n",
    "train_origin['Timestamp_hour'] = timestamp.astype(int) // 1e9 // 3600\n",
    "train_origin['Timestamp_hour'] -= train_origin['Timestamp_hour'].min()\n",
    "train_origin['Timestamp_hour'] = train_origin['Timestamp_hour'].astype(int)\n",
    "train_origin['Timestamp_day'] = timestamp.apply(lambda x: x.day_of_year)\n",
    "train_origin['Timestamp_week'] = timestamp.apply(lambda x: x.week)\n",
    "\n",
    "\n",
    "train = train_origin[['userID', 'Timestamp','answerCode', 'assessmentItemID', 'test_cat', 'question_number', 'KnowledgeTag', 'week_num', 'testId']].copy()\n",
    "train = train[train['answerCode'] != -1]\n",
    "\n",
    "def aC_mean(train, train_origin, column):\n",
    "    col2ac = train.groupby(column)['answerCode'].mean().to_dict()\n",
    "    train_origin[f'{column}_aC_mean'] = train_origin[column].map(col2ac)\n",
    "    return train_origin\n",
    "\n",
    "aC_mean(train, train_origin, 'assessmentItemID')\n",
    "aC_mean(train, train_origin, 'test_cat')\n",
    "aC_mean(train, train_origin, 'question_number')\n",
    "aC_mean(train, train_origin, 'KnowledgeTag')\n",
    "aC_mean(train, train_origin, 'week_num')\n",
    "aC_mean(train, train_origin, 'testId')\n"
   ]
  },
  {
   "cell_type": "code",
   "execution_count": null,
   "metadata": {},
   "outputs": [],
   "source": [
    "train_origin.to_csv('../data/traintest_v3.1.csv', index=False)"
   ]
  }
 ],
 "metadata": {
  "kernelspec": {
   "display_name": "Python 3.8.5 ('base')",
   "language": "python",
   "name": "python3"
  },
  "language_info": {
   "codemirror_mode": {
    "name": "ipython",
    "version": 3
   },
   "file_extension": ".py",
   "mimetype": "text/x-python",
   "name": "python",
   "nbconvert_exporter": "python",
   "pygments_lexer": "ipython3",
   "version": "3.8.5"
  },
  "orig_nbformat": 4,
  "vscode": {
   "interpreter": {
    "hash": "d4d1e4263499bec80672ea0156c357c1ee493ec2b1c70f0acce89fc37c4a6abe"
   }
  }
 },
 "nbformat": 4,
 "nbformat_minor": 2
}
