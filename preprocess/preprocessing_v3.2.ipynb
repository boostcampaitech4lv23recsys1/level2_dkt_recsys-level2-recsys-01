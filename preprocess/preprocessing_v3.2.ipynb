{
 "cells": [
  {
   "cell_type": "code",
   "execution_count": null,
   "metadata": {},
   "outputs": [],
   "source": [
    "import pandas as pd\n",
    "import numpy as np\n",
    "from tqdm import tqdm\n",
    "\n",
    "data = pd.read_csv('../data/traintest_v3.1.csv')"
   ]
  },
  {
   "cell_type": "code",
   "execution_count": null,
   "metadata": {},
   "outputs": [],
   "source": [
    "user_item = data[['userID', 'assessmentItemID', 'KnowledgeTag', 'testId', 'test_cat', 'question_number', 'answerCode']].copy()\n",
    "user_item = user_item[user_item['answerCode'] != -1]"
   ]
  },
  {
   "cell_type": "code",
   "execution_count": null,
   "metadata": {},
   "outputs": [],
   "source": [
    "def get_phi(theta, beta, c=0.2):\n",
    "    return c + (1-c) / (1+ np.exp(-(theta-beta)))\n",
    "\n",
    "def learning_rate_theta(nb_answers):\n",
    "    return max(0.3 / (1 + 0.01 * nb_answers), 0.04)\n",
    "\n",
    "def learning_rate_beta(nb_answers):\n",
    "    return 1 / (1 + 0.05 * nb_answers)\n",
    "\n",
    "def get_new_theta(is_correct, theta, beta, nb_answers, c=0.2):\n",
    "    return theta + learning_rate_theta(nb_answers) * (is_correct - get_phi(theta, beta, c))\n",
    "\n",
    "def get_new_beta(is_correct, theta, beta, nb_answers, c=0.2):\n",
    "    return beta - learning_rate_beta(nb_answers) * (is_correct - get_phi(theta, beta, c))\n",
    "\n",
    "user_params = {user:{'theta': 0, \"nb_answers\": 0} for user in user_item['userID'].unique()}\n",
    "item_params = {item:{'beta': 0, \"nb_answers\": 0} for item in user_item['assessmentItemID'].unique()}\n",
    "tag_params = {tag:{'beta': 0, \"nb_answers\": 0} for tag in user_item['KnowledgeTag'].unique()}\n",
    "testid_params = {testid:{'beta': 0, \"nb_answers\": 0} for testid in user_item['testId'].unique()}\n",
    "testcat_params = {testcat:{'beta': 0, \"nb_answers\": 0} for testcat in user_item['test_cat'].unique()}\n",
    "question_number_params = {question_number:{'beta': 0, \"nb_answers\": 0} for question_number in user_item['question_number'].unique()}\n",
    "\n",
    "\n",
    "for i, row in tqdm(user_item.iterrows()):\n",
    "    user = row['userID']\n",
    "    item = row['assessmentItemID']\n",
    "    tag = row['KnowledgeTag']\n",
    "    testid = row['testId']\n",
    "    testcat = row['test_cat']\n",
    "    question_number = row['question_number']\n",
    "    answer = row['answerCode']\n",
    "\n",
    "    theta = user_params[user]['theta']\n",
    "    beta_1 = item_params[item]['beta']\n",
    "    beta_2 = tag_params[tag]['beta']\n",
    "    beta_3 = testid_params[testid]['beta']\n",
    "    beta_4 = testcat_params[testcat]['beta']\n",
    "    beta_5 = question_number_params[question_number]['beta']\n",
    "\n",
    "    user_nb_answers = user_params[user]['nb_answers']\n",
    "    nb_answers_1 = item_params[item]['nb_answers']\n",
    "    nb_answers_2 = tag_params[tag]['nb_answers']\n",
    "    nb_answers_3 = testid_params[testid]['nb_answers']\n",
    "    nb_answers_4 = testcat_params[testcat]['nb_answers']\n",
    "    nb_answers_5 = question_number_params[question_number]['nb_answers']\n",
    "\n",
    "    user_params[user]['theta'] = get_new_theta(answer, theta, beta_1, user_nb_answers)\n",
    "    item_params[item]['beta'] = get_new_beta(answer, theta, beta_1, nb_answers_1)\n",
    "    tag_params[tag]['beta'] = get_new_beta(answer, theta, beta_2, nb_answers_2)\n",
    "    testid_params[testid]['beta'] = get_new_beta(answer, theta, beta_3, nb_answers_3)\n",
    "    testcat_params[testcat]['beta'] = get_new_beta(answer, theta, beta_4, nb_answers_4)\n",
    "    question_number_params[question_number]['beta'] = get_new_beta(answer, theta, beta_5, nb_answers_5)\n",
    "\n",
    "    user_params[user]['nb_answers'] += 1\n",
    "    item_params[item]['nb_answers'] += 1\n",
    "    tag_params[tag]['nb_answers'] += 1\n",
    "    testid_params[testid]['nb_answers'] += 1\n",
    "    testcat_params[testcat]['nb_answers'] += 1\n",
    "    question_number_params[question_number]['nb_answers'] += 1\n",
    "\n",
    "data['user_params'] = data['userID'].map(user_params)\n",
    "data['item_params'] = data['assessmentItemID'].map(item_params)\n",
    "data['tag_params'] = data['KnowledgeTag'].map(tag_params)\n",
    "data['testid_params'] = data['testId'].map(testid_params)\n",
    "data['testcat_params'] = data['test_cat'].map(testcat_params)\n",
    "data['question_number_params'] = data['question_number'].map(question_number_params)\n",
    "\n",
    "data['userID_theta'] = data['user_params'].apply(lambda x: x['theta'])\n",
    "data['assessmentItemID_beta'] = data['item_params'].apply(lambda x: x['beta'])\n",
    "data['KnowledgeTag_beta'] = data['tag_params'].apply(lambda x: x['beta'])\n",
    "data['testId_beta'] = data['testid_params'].apply(lambda x: x['beta'])\n",
    "data['test_cat_beta'] = data['testcat_params'].apply(lambda x: x['beta'])\n",
    "data['question_number_beta'] = data['question_number_params'].apply(lambda x: x['beta'])\n",
    "\n",
    "data.drop(['user_params', 'item_params', 'tag_params', 'testid_params', 'testcat_params', 'question_number_params'], axis=1, inplace=True)"
   ]
  },
  {
   "cell_type": "code",
   "execution_count": null,
   "metadata": {},
   "outputs": [],
   "source": [
    "data.to_csv('../data/traintest_v3.2.csv', index=False)"
   ]
  }
 ],
 "metadata": {
  "kernelspec": {
   "display_name": "Python 3.8.15 ('dkt')",
   "language": "python",
   "name": "python3"
  },
  "language_info": {
   "codemirror_mode": {
    "name": "ipython",
    "version": 3
   },
   "file_extension": ".py",
   "mimetype": "text/x-python",
   "name": "python",
   "nbconvert_exporter": "python",
   "pygments_lexer": "ipython3",
   "version": "3.8.15"
  },
  "orig_nbformat": 4,
  "vscode": {
   "interpreter": {
    "hash": "09d4b5de27b89318d6e35b29f9634657110a12e6b33fcea780feda7aad3e9c4b"
   }
  }
 },
 "nbformat": 4,
 "nbformat_minor": 2
}
