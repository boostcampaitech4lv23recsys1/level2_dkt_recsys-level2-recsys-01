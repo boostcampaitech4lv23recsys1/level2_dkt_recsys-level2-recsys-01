{
 "cells": [
  {
   "cell_type": "code",
   "execution_count": null,
   "metadata": {
    "collapsed": true,
    "pycharm": {
     "is_executing": true
    }
   },
   "outputs": [],
   "source": [
    "import pandas as pd\n",
    "import seaborn as sns\n",
    "import matplotlib.pyplot as plt"
   ]
  },
  {
   "cell_type": "code",
   "execution_count": null,
   "metadata": {
    "collapsed": false
   },
   "outputs": [],
   "source": [
    "train = pd.read_csv('data/train_data.csv')\n",
    "test = pd.read_csv('data/test_data.csv')"
   ]
  },
  {
   "cell_type": "markdown",
   "metadata": {
    "collapsed": false
   },
   "source": [
    "# 1. 전체 유저에 대해 문항 번호별로 정답률의 차이가 있는가?"
   ]
  },
  {
   "cell_type": "code",
   "execution_count": null,
   "metadata": {
    "collapsed": false
   },
   "outputs": [],
   "source": [
    "problem_number = train['assessmentItemID'].apply(lambda x: x[8:10]).map(int)\n",
    "problem_number.max() # 최대 13번 문제까지 존재"
   ]
  },
  {
   "cell_type": "code",
   "execution_count": null,
   "metadata": {
    "collapsed": false
   },
   "outputs": [],
   "source": [
    "train['nums'] = train['assessmentItemID'].apply(lambda x: x[8:10]).map(int) # 문제 번호 column인 nums 생성\n",
    "accuracy = train.groupby(['nums'])['answerCode'].mean() # 문제 번호별 정답률인 accuracy\n",
    "accuracy\n",
    "plt.plot(accuracy)"
   ]
  },
  {
   "cell_type": "markdown",
   "metadata": {
    "collapsed": false
   },
   "source": [
    "- 문항 번호별로 정답률의 차이 존재\n",
    "- 1번에서 정답률이 가장 높고, 13번에서 정답률이 가장 낮음\n",
    "- 문항번호가 커질수록 정답률이 감소하는 경향을 보임"
   ]
  },
  {
   "cell_type": "markdown",
   "metadata": {
    "collapsed": false
   },
   "source": [
    "# 2. 유저별로 푼 카테고리의 분포가 다른가? 분포상의 차이가 있는가?"
   ]
  },
  {
   "cell_type": "code",
   "execution_count": null,
   "metadata": {
    "collapsed": false
   },
   "outputs": [],
   "source": [
    "train['cat'] = train['assessmentItemID'].apply(lambda x: x[2:3]).map(int) # 대분류 column인 cat 생성"
   ]
  },
  {
   "cell_type": "code",
   "execution_count": null,
   "metadata": {
    "collapsed": false
   },
   "outputs": [],
   "source": [
    "catindex = train.groupby('userID')['cat'].value_counts().index # (userID, cat) multi index 형태의 key\n",
    "catvalue = train.groupby('userID')['cat'].value_counts().values # [개수] 형태의 value\n",
    "\n",
    "# multi indx를 풀기 위해서 .get_level_values() 사용\n",
    "# 각 유저가 어떤 카테고리를 몇 번 만났는가?\n",
    "user_cat_try = pd.DataFrame({'userID': catindex.get_level_values(0), 'cat' : catindex.get_level_values(1), 'try' : catvalue})\n",
    "user_cat_try # try는 cat을 만난 홋수"
   ]
  },
  {
   "cell_type": "code",
   "execution_count": null,
   "metadata": {
    "collapsed": false
   },
   "outputs": [],
   "source": [
    "# 각 유저가 카테고리를 만나 어느 정도의 정답률을 보이는가?\n",
    "usercatansidx = train.groupby(['userID', 'cat'])['answerCode'].mean().index\n",
    "usercatansval = train.groupby(['userID', 'cat'])['answerCode'].mean().values\n",
    "user_cat_ans = pd.DataFrame({'userID': usercatansidx.get_level_values(0), 'cat' : usercatansidx.get_level_values(1), 'ans' : usercatansval})\n",
    "user_cat_ans # ans는 정답률을 의미하는 column"
   ]
  },
  {
   "cell_type": "code",
   "execution_count": null,
   "metadata": {
    "collapsed": false
   },
   "outputs": [],
   "source": [
    "# 위 두 경우를 merge\n",
    "ucta = pd.merge(left = user_cat_try, right = user_cat_ans, on = ['userID', 'cat'], how = 'left')\n",
    "ucta # 유저가 만난 cat 수와 그에 따른 정답률\n",
    "# 실제로 1번 user는 cat 9를 만나 318번 맞고, 34번 틀림"
   ]
  },
  {
   "cell_type": "markdown",
   "metadata": {
    "collapsed": false
   },
   "source": [
    "- 유저별 마주친 cat과, 이를 만났을 때의 정답률을 구함\n",
    "- cat이 높은 문제(어려운 문제로 추정)를 오히려 잘 푸는 학생들도 존재\n",
    "- 또한 학생들이 만나는 cat의 수가 한정적인 것이 확인됨\n",
    "- 다만, sequential하게 정답률을 나타내야만 추이를 보고 feature로 사용할 수 있을 듯 (은혜 누님의 tag별 정답률과 같은 맥락)"
   ]
  },
  {
   "cell_type": "code",
   "execution_count": null,
   "metadata": {
    "collapsed": false
   },
   "outputs": [],
   "source": [
    "userID_cat = ucta.groupby(['userID'])['cat'].apply(list).apply(str).to_dict() # user가 만나는 cat의 종류를 str 형태로 뽑음\n",
    "userid = pd.DataFrame(userID_cat.keys(), columns = ['userID'])\n",
    "catkind = pd.DataFrame(userID_cat.values(), columns = ['cat_kind']) # cat_kind는 마주친 cat의 종류\n",
    "ucta_kind = pd.concat([userid, catkind], axis = 1) # userID별 cat_kind dataframe 생성\n",
    "ucta_kind['cat_len'] = ucta_kind['cat_kind'].apply(lambda x: len(x) / 3).astype(int) # str 형태의 cat_kind를 3으로 나눠 길이에 따라 개수를 뽑는 것이 가능. cat_len column에 저장\n",
    "ucta_kind # 유저가 경험한 cat 종류와 그 개수"
   ]
  },
  {
   "cell_type": "code",
   "execution_count": null,
   "metadata": {
    "collapsed": false
   },
   "outputs": [],
   "source": [
    "print(ucta_kind['cat_len'].max()) # 3개\n",
    "print(ucta_kind['cat_len'].min()) # 1개\n",
    "\n",
    "print(len(ucta_kind[ucta_kind['cat_len'] == 3])) # 4458명\n",
    "print(len(ucta_kind[ucta_kind['cat_len'] == 2])) # 2138명\n",
    "print(len(ucta_kind[ucta_kind['cat_len'] == 1])) # 102명\n",
    "# 왜 만나는 cat 수가 다른 것일까?"
   ]
  },
  {
   "cell_type": "markdown",
   "metadata": {
    "collapsed": false
   },
   "source": [
    "- 각 유저마다 1개부터 3개의 cat을 경험하였음\n",
    "- 3개 경험 4458명, 2개 경험 2138명, 1개 경험 102명\n",
    "- 특정한 cat의 조합을 만나는 것일까? 왜 사람마다 만나는 cat의 수가 다를까?"
   ]
  },
  {
   "cell_type": "code",
   "execution_count": null,
   "metadata": {
    "collapsed": false
   },
   "outputs": [],
   "source": [
    "# 9C3의 조합 개수... 모두 보는 것은 일단 보류, 3개 cat을 보는 학생들은 어떤 cat을 가장 많이 볼까 먼저 알아보자\n",
    "len3_nums = []\n",
    "for i in range(1, 10):\n",
    "    len3_nums.append(len(ucta_kind[(ucta_kind['cat_kind'].str.contains(f'{i}')) & (ucta_kind['cat_len'] == 3)]))\n",
    "plt.plot(range(1,10), len3_nums)"
   ]
  },
  {
   "cell_type": "markdown",
   "metadata": {
    "collapsed": false
   },
   "source": [
    "- cat을 3개 만나는 학생들은 4번 cat을 가장 많이 만나고 이후 점차 감소"
   ]
  },
  {
   "cell_type": "code",
   "execution_count": null,
   "metadata": {
    "collapsed": false
   },
   "outputs": [],
   "source": [
    "len2_nums = []\n",
    "for i in range(1, 10):\n",
    "    len2_nums.append(len(ucta_kind[(ucta_kind['cat_kind'].str.contains(f'{i}')) & (ucta_kind['cat_len'] == 2)]))\n",
    "plt.plot(range(1,10), len2_nums)"
   ]
  },
  {
   "cell_type": "markdown",
   "metadata": {
    "collapsed": false
   },
   "source": [
    "- cat을 2개 만나는 학생들은 4번 cat을 가장 많이 만나고 이후 점차 감소"
   ]
  },
  {
   "cell_type": "code",
   "execution_count": null,
   "metadata": {
    "collapsed": false
   },
   "outputs": [],
   "source": [
    "len1_nums = []\n",
    "for i in range(1, 10):\n",
    "    len1_nums.append(len(ucta_kind[(ucta_kind['cat_kind'].str.contains(f'{i}')) & (ucta_kind['cat_len'] == 1)]))\n",
    "plt.plot(range(1,10), len1_nums)"
   ]
  },
  {
   "cell_type": "markdown",
   "metadata": {
    "collapsed": false
   },
   "source": [
    "- cat을 1개 만나는 학생들은 4번 cat을 가장 많이 만나고, 이후 감소하다가 8번에서 살짝 반등하였으나 큰 경향은 위 두 그래프와 동일"
   ]
  },
  {
   "cell_type": "code",
   "execution_count": null,
   "metadata": {
    "collapsed": false
   },
   "outputs": [],
   "source": [
    "len_all = []\n",
    "for i in range(1, 10):\n",
    "    len_all.append(len(ucta_kind[(ucta_kind['cat_kind'].str.contains(f'{i}'))]))\n",
    "plt.plot(range(1,10), len_all)"
   ]
  },
  {
   "cell_type": "markdown",
   "metadata": {
    "collapsed": false
   },
   "source": [
    "- 길이에 무관하게 유저가 만난 cat의 종류를 찍어 봐도 경향성은 동일함"
   ]
  },
  {
   "cell_type": "code",
   "execution_count": null,
   "metadata": {
    "collapsed": false
   },
   "outputs": [],
   "source": [
    "# 전체 train data에서 cat을 센다면?\n",
    "nums = []\n",
    "for i in range(1, 10):\n",
    "    nums.append(len(train[train['cat'] == i]))\n",
    "plt.plot(range(1,10), nums)"
   ]
  },
  {
   "cell_type": "markdown",
   "metadata": {
    "collapsed": false
   },
   "source": [
    "- train에서 cat별 수를 세보면 1-8은 거의 동일, 9번만 매우 낮은 수치임\n",
    "- 하지만 유저 별로 만난 cat의 종류를 조사하면 4가 가장 높은 산봉우리 모양\n",
    "- 이는 train data에서 산재되어 있는 cat이 하나로 합쳐지면서 생기는 괴리\n",
    "   - ex) 1번 유저는 train data에서 cat으로 1, 1, 4, 7, 7, 7, 7 문제를 풀었음 -> 만난 cat은 [1, 4, 7] 3개\n",
    "- 다만, **4번의 경우에는 웬만한 학생들에게 출제되어 수가 높지만, 다른 번호들(특히 높은 번호들)은 출제되지 않은 경우가 많아서 낮은 경향을 보임**"
   ]
  },
  {
   "cell_type": "markdown",
   "metadata": {
    "collapsed": false
   },
   "source": [
    "# 3. 출제되는 cat의 특정 조합만 나오는 것인가?"
   ]
  },
  {
   "cell_type": "code",
   "execution_count": null,
   "metadata": {
    "collapsed": false
   },
   "outputs": [],
   "source": [
    "##### 이 부분은 필요 없습니다! 오름차순 정렬이 힘들어서 user_cat_ans로 확인을 위해 넣은 코드입니다!\n",
    "aaa = user_cat_ans.groupby(['userID'])['cat'].apply(list).apply(str).to_dict()\n",
    "bbb = pd.DataFrame(aaa.keys(), columns = ['userID'])\n",
    "ccc = pd.DataFrame(aaa.values(), columns = ['cat_kind'])\n",
    "ddd = pd.concat([bbb, ccc], axis = 1)\n",
    "ddd['cat_len'] = ddd['cat_kind'].apply(lambda x: len(x) / 3).astype(int)"
   ]
  },
  {
   "cell_type": "code",
   "execution_count": null,
   "metadata": {
    "collapsed": false
   },
   "outputs": [],
   "source": [
    "# 3개 cat을 마주친 학생들이 거의 동일한 cat 조합을 마주치는지 알아보자\n",
    "from itertools import combinations\n",
    "len3_kind = []\n",
    "temp = list(combinations([1,2,3,4,5,6,7,8,9], 3))\n",
    "for x in temp:\n",
    "    i, j, k = str(x[0]), str(x[1]), str(x[2])\n",
    "    len3_kind.append(len(ddd[(ddd['cat_kind'].str.contains(f'{i}, {j}, {k}'))]))\n",
    "plt.plot(range(len(temp)), len3_kind) # 튜플 형태로 축 이름 쓸 수 없어서 번호로 바꿈"
   ]
  },
  {
   "cell_type": "markdown",
   "metadata": {
    "collapsed": false
   },
   "source": [
    "- 특정한 조합만 나오는 것은 아니지만, 모든 조합이 고른 분포로 나오는 것도 아님\n",
    "   - (1,2,3)과 (1,2,4)가 나오는 횟수가 다르다는 의미\n",
    "   - 잘 안 나오는 조합과 잘 나오는 조합은 확실히 구분이 됨\n"
   ]
  },
  {
   "cell_type": "code",
   "execution_count": null,
   "metadata": {
    "collapsed": false
   },
   "outputs": [],
   "source": [
    "# 2개 cat을 마주친 학생들이 거의 동일한 cat 조합을 마주치는지 알아보자\n",
    "from itertools import combinations\n",
    "len2_kind = []\n",
    "temp2 = list(combinations([1,2,3,4,5,6,7,8,9], 2))\n",
    "for x in temp2:\n",
    "    i, j= str(x[0]), str(x[1])\n",
    "    len2_kind.append(len(ddd[(ddd['cat_kind'].str.contains(f'{i}, {j}'))]))\n",
    "plt.plot(range(len(temp2)), len2_kind) # 튜플 형태로 축 이름 쓸 수 없어서 번호로 바꿈"
   ]
  },
  {
   "cell_type": "markdown",
   "metadata": {
    "collapsed": false
   },
   "source": [
    "- 마찬가지로 특정한 조합만 나오는 것은 아니지만, 모든 조합이 고른 분포로 나오는 것도 아님\n",
    "   - 잘 나오는 조합과 잘 나오지 않는 조합의 차이가 명확함"
   ]
  },
  {
   "cell_type": "code",
   "execution_count": null,
   "metadata": {
    "collapsed": false
   },
   "outputs": [],
   "source": [
    "# 1개 cat을 마주친 학생들이 거의 동일한 cat 조합을 마주치는지 알아보자\n",
    "from itertools import combinations\n",
    "len1_kind = []\n",
    "temp3 = list(combinations([1,2,3,4,5,6,7,8,9], 1))\n",
    "for x in temp3:\n",
    "    i = str(x[0])\n",
    "    len1_kind.append(len(ddd[(ddd['cat_kind'].str.contains(f'{i}'))]))\n",
    "plt.plot(range(len(temp3)), len1_kind) # 튜플 형태로 축 이름 쓸 수 없어서 번호로 바꿈"
   ]
  },
  {
   "cell_type": "markdown",
   "metadata": {
    "collapsed": false
   },
   "source": [
    "- 이건 당연히 위에서 이미 그린 그래프와 같음"
   ]
  },
  {
   "cell_type": "markdown",
   "metadata": {
    "collapsed": false
   },
   "source": [
    "# 4. 결론\n",
    "## 1. 전체 유저에 대해 문항 번호별로 정답률의 차이가 있는가?\n",
    "- 있다. 거의 명확한 선형 관계를 가짐.\n",
    "- 문항 번호가 높을수록 정답률은 감소\n",
    "## 2. 유저별로 푼 카테고리의 분포가 다른가? 분포상의 차이가 있는가?\n",
    "- 다르다. 유저마다 1개 - 3개의 cat만 풀었음.\n",
    "- 개인으로 봤을 때 cat이 높다고 해서 정답률이 떨어지지 않을 수 있음\n",
    "- 유저들은 4번 cat을 가장 많이 경헝했고, 4번을 기준으로 유저들의 나머지 cat 경험 횟수는 산봉우리 형태로 감소\n",
    "## 3. 출제되는 cat의 특정 조합만 나오는 것인가?\n",
    "- 아니다. 모든 조합이 출제되긴 함.\n",
    "- 다만, 잘 나오는 조합과 잘 나오지 않는 조합의 차이는 명확함\n",
    "- 모든 조합이 출제되긴 한다는 점에서, 조합의 패턴이 있다기 보다는 단순히 1-9 cat의 출제 차이에 따른 조합의 등장 차이라고 생각됨(실제로 유저가 경험한 cat 종류와 수는 달랐기 때문)"
   ]
  },
  {
   "cell_type": "code",
   "execution_count": null,
   "metadata": {
    "collapsed": false
   },
   "outputs": [],
   "source": [
    "train = pd.read_csv('./data/train_data.csv')\n",
    "test = pd.read_csv('./data/test_data.csv')\n",
    "sub = pd.read_csv('./data/sample_submission.csv')\n",
    "\n",
    "train_origin = pd.read_csv('./data/train_data.csv')\n",
    "test_origin = pd.read_csv('./data/test_data.csv')\n",
    "sub_origin = pd.read_csv('./data/sample_submission.csv')"
   ]
  },
  {
   "cell_type": "markdown",
   "metadata": {
    "collapsed": false
   },
   "source": [
    "# 1. Feature Instruction\n",
    "- userID 사용자의 고유번호입니다. 총 7,442명의 고유 사용자가 있으며, train/test셋은 이 userID를 기준으로 90/10의 비율로 나누어졌습니다.\n",
    "\n",
    "- assessmentItemID 문항의 고유번호입니다. 총 9,454개의 고유 문항이 있습니다. 이 일련 번호에 대한 규칙은 DKT 2강 EDA에서 다루었으니 강의 들어보시면 좋을 것 같습니다.\n",
    "\n",
    "- testId 시험지의 고유번호입니다. 문항과 시험지의 관계는 아래 그림을 참고하여 이해하시면 됩니다. 총 1,537개의 고유한 시험지가 있습니다.\n",
    "\n",
    "- answerCode 사용자가 해당 문항을 맞췄는지 여부에 대한 이진 데이터이며 0은 사용자가 해당 문항을 틀린 것, 1은 사용자가 해당 문항을 맞춘 것입니다.\n",
    "\n",
    "- Timestamp 사용자가 해당문항을 풀기 시작한 시점의 데이터입니다.\n",
    "\n",
    "- KnowledgeTag 문항 당 하나씩 배정되는 태그로, 일종의 중분류 역할을 합니다. 태그 자체의 정보는 비식별화 되어있지만, 문항을 군집화하는데 사용할 수 있습니다. 912개의 고유 태그가 존재합니다.\n",
    "    - Test data에 대해서도 마찬가지이며, 이 때 Timestamp상 가장 마지막에 푼 문항의 answerCode는 모두 -1로 표시되어 있습니다. **_여러분들의 과제는 이 -1로 처리되어 있는 interaction의 정답 여부를 맞추는 것입니다._**"
   ]
  },
  {
   "cell_type": "markdown",
   "metadata": {
    "collapsed": false
   },
   "source": [
    "# 2. 기본 전처리\n",
    "- testId\n",
    "    - 모두 공통이므로 제거:\n",
    "        - 맨 앞 A, 가운데 000, 첫번째 세번재 0\n",
    "    - test_num:\n",
    "        - 마지막 세개 (test ID)\n",
    "    - test_cat:\n",
    "        - 테스트 대분류\n",
    "- assessmentItemID\n",
    "    - questionID\n",
    "        - 모두 공통이므로 제거:\n",
    "            - 맨 앞 A\n",
    "        - test_num 및 test_cat으로 있기 때문에 제거\n",
    "            - test_ID\n",
    "- elapsed time 만들기"
   ]
  },
  {
   "cell_type": "markdown",
   "metadata": {
    "collapsed": false
   },
   "source": [
    "### testId"
   ]
  },
  {
   "cell_type": "code",
   "execution_count": null,
   "metadata": {
    "collapsed": false
   },
   "outputs": [],
   "source": [
    "# train testID column 쪼개기\n",
    "train['test_num'] = train['testId'].apply(lambda x : x[-3:])\n",
    "train['test_cat'] = train['testId'].apply(lambda x : x[2])\n",
    "# train = train.drop(['testId'], axis=1)\n"
   ]
  },
  {
   "cell_type": "markdown",
   "metadata": {
    "collapsed": false
   },
   "source": [
    "### assessmentItemID"
   ]
  },
  {
   "cell_type": "code",
   "execution_count": null,
   "metadata": {
    "collapsed": false
   },
   "outputs": [],
   "source": [
    "# train assessmentID 쪼개기\n",
    "train['questionID'] = train['assessmentItemID'].apply(lambda x : x[-3:])\n",
    "train['question_answer'] = train['questionID'].apply(str) + '_' + train['answerCode'].apply(str)"
   ]
  },
  {
   "cell_type": "code",
   "execution_count": null,
   "metadata": {
    "collapsed": false
   },
   "outputs": [],
   "source": [
    "user2question = train.groupby(by=['userID', 'test_num'])['question_answer'].apply(list).to_dict() # user의 시험지 별 푼 문제와 정답 딕셔너리"
   ]
  },
  {
   "cell_type": "markdown",
   "metadata": {
    "collapsed": false
   },
   "source": [
    "### Timestamp -> elapsed time"
   ]
  },
  {
   "cell_type": "code",
   "execution_count": null,
   "metadata": {
    "collapsed": false
   },
   "outputs": [],
   "source": [
    "# elapsed time: 문제 푸는데 소요 된 시간\n",
    "train['Timestamp'] = pd.to_datetime(train['Timestamp'])\n",
    "train['elapsed_time'] = train['Timestamp'].astype(int)\n",
    "\n",
    "tmp = list(train['elapsed_time'].diff() // 10**9)\n",
    "tmp.append(99999)\n",
    "train['elapsed_time'] = tmp[1:]"
   ]
  },
  {
   "cell_type": "code",
   "execution_count": null,
   "metadata": {
    "collapsed": false
   },
   "outputs": [],
   "source": [
    "# user 또는 시험지가 바뀔 때 값이 잘못 들어가서 그 경우를 -1로 바꿔줌\n",
    "# -> 이 경우에는 user가 같은 시험지를 풀었을 때 값을 고려 못 해줌\n",
    "train['Timestamp'] = train['Timestamp'].astype(str)\n",
    "tmp_dict = train.groupby(['userID', 'testId'])['Timestamp'].max().to_frame().reset_index()\n",
    "tmp_dict['rev_time'] = -1\n",
    "tmp_dict = tmp_dict.set_index(['userID', 'testId', 'Timestamp']).to_dict()\n",
    "tmp_dict = tmp_dict['rev_time']\n",
    "train['tmp'] = tuple(zip(train.userID, train.testId, train.Timestamp))\n",
    "train['tmp'] = train['tmp'].map(tmp_dict)\n",
    "train['tmp'] = train['tmp'].fillna(train['elapsed_time'])\n",
    "train['elapsed_time'] = train['tmp']\n",
    "train.drop(['tmp'], axis=1, inplace=True)"
   ]
  },
  {
   "cell_type": "code",
   "execution_count": null,
   "metadata": {
    "collapsed": false
   },
   "outputs": [],
   "source": [
    "train['elapsed_time'].value_counts().sort_index() # 총 369284개가 -1"
   ]
  },
  {
   "cell_type": "markdown",
   "metadata": {
    "collapsed": false
   },
   "source": [
    "- 한 유저가 동일한 시험지를 두 번 이상 풀었을 경우를 고려 못 해줌 => 고려 필요\n",
    "- 한 유저가 동일한 시험지를 연속해서 풀었을 수도 있음 => 확인 필요 => 288번 있음"
   ]
  },
  {
   "cell_type": "code",
   "execution_count": null,
   "metadata": {
    "collapsed": false
   },
   "outputs": [],
   "source": [
    "train.sort_values('elapsed_time', ascending=False).head(20)\n",
    "train[(train['userID'] == 4492 )& (train['testId']=='A060000152')]"
   ]
  },
  {
   "cell_type": "markdown",
   "metadata": {
    "collapsed": false
   },
   "source": [
    "- 연속해서 동일한 시험지를 푼 경우가 있는지 확인 => 있음 (아래 for문 -> 288명)"
   ]
  },
  {
   "cell_type": "code",
   "execution_count": null,
   "metadata": {
    "collapsed": false
   },
   "outputs": [],
   "source": [
    "# 그 전에 모든 시험지에 1번이 있는지 확인 필요 -> 1번이 한번 나왔는데 또 나오면 그 타임스템프와 그 앞 타임스템프를 저장할 계획\n",
    "train.groupby(['testId'])['questionID'].value_counts().head(20) # 흠 일단은 다 있는듯 한데 확인은 따로 해봐야 할 것 같음\n",
    "train.groupby(['testId'])['questionID'].nunique().value_counts() # 문제 2개만 있는 애들 존재\n",
    "\n",
    "# 문제는 1번 부터 시작하는가?\n",
    "exam = train.groupby(['testId'])['questionID'].unique().reset_index()\n",
    "exam[exam['questionID'].apply(len)==2] #001, 002\n",
    "train.groupby(['testId'])['questionID'].sum().apply(lambda x : x[:3]).value_counts() # ㄴㄴ\n",
    "train.groupby(['testId'])['questionID'].sum().apply(lambda x : x[:6]).value_counts() # 그럼 최소한 오름차순인가? ㄴㄴ 8->7, 6->5, 7->5 등 다양함\n",
    "\n",
    "exam['len'] = exam['questionID'].apply(len)\n",
    "exam[exam['len']==4] # 걍 처음만 아닌게 아니라 끝에 1이 들어간 경우도 있고 아주 엉망 진창임"
   ]
  },
  {
   "cell_type": "code",
   "execution_count": null,
   "metadata": {
    "collapsed": false
   },
   "outputs": [],
   "source": [
    "test2len = { key:value for key, value in zip(exam['testId'], exam['len'])}\n",
    "train['question_len'] = train['testId'].map(test2len) # test별 question 개수 칼럼 붙여줌\n",
    "\n",
    "# 연속해서 동일한 시험지를 푼 경우 확인 => (len(same_test)==289)\n",
    "tmp = 1\n",
    "same_test = []\n",
    "for i in tqdm(range(1,len(train))):\n",
    "    cur_test = train['testId'][i]\n",
    "    prev_test = train['testId'][i-1]\n",
    "    if cur_test == prev_test:\n",
    "        tmp += 1\n",
    "        if tmp > train['question_len'][i]:\n",
    "            same_test.extend([i-1])\n",
    "            tmp = 1\n",
    "    else:\n",
    "        tmp = 1\n",
    "\n",
    "# 위 코드를 for문 안 쓰고 해보려고 했으나.. 이렇게 하면 걍 모든 두번 이상 푼 애들이 다 모여버림 인덱스도 못 따옴 => 엥?? 이게 원래 하려던거 아닌가?\n",
    "checking_double_test = train.groupby(['userID', 'testId', 'question_len'])['assessmentItemID'].count().reset_index().set_index(['userID', 'testId'])\n",
    "checking_double_test['result'] = checking_double_test['question_len'] < checking_double_test['assessmentItemID']\n",
    "checking_double_test = checking_double_test[checking_double_test['result']==True].reset_index()\n",
    "checking_double_test\n"
   ]
  },
  {
   "cell_type": "code",
   "execution_count": null,
   "metadata": {
    "collapsed": false
   },
   "outputs": [],
   "source": [
    "# 전부 2배 혹은 3배임 => 두 번 이상 푼 애들은 시험지에 제공되는 모든 문제  다  풂\n",
    "checking_double_test['double'] = (checking_double_test['question_len'] * 2 == checking_double_test['assessmentItemID']) | (checking_double_test['question_len'] * 3 == checking_double_test['assessmentItemID'])\n",
    "checking_double_test[checking_double_test['double'] == False]"
   ]
  },
  {
   "cell_type": "code",
   "execution_count": null,
   "metadata": {
    "collapsed": false
   },
   "outputs": [],
   "source": [
    "train['tmp'] = tuple(zip(train['userID'], train['testId'])) # userID랑 testId 쌍의 column 생성\n",
    "user2test= checking_double_test.groupby(by=['userID', 'testId'])['question_len'].sum().to_dict() # (userID, testId):question_len 형태의 dictionary\n",
    "train['tmp_q'] = train['tmp'].map(user2test)\n"
   ]
  },
  {
   "cell_type": "code",
   "execution_count": null,
   "metadata": {
    "collapsed": false
   },
   "outputs": [],
   "source": [
    "# question_cnt = list(checking_double_test['question_len'].cumsum()-1)\n",
    "# # question_cnt = train.groupby('tmp')['tmp_q'].mean().apply(lambda x : str(x).replace('nan', '0')).astype(float).astype(int).cumsum().unique().tolist()\n",
    "# question_cnt = question_cnt[1:]\n",
    "# question_cnt = [ value-1 for value in question_cnt]\n",
    "#  checking_double_test의 testId순서랑 train의 TestId 순서가 달라서 이렇게 하면 안 됨\n",
    "\n",
    "question_cnt_tmp = train[train['tmp_q'].notnull()].reset_index()\n",
    "question_cnt_tmp"
   ]
  },
  {
   "cell_type": "code",
   "execution_count": null,
   "metadata": {
    "collapsed": false
   },
   "outputs": [],
   "source": [
    "question_cnt_tmp = train[train['tmp_q'].notnull()].reset_index()\n",
    "question_cnt = [6]\n",
    "while sum(question_cnt) < list(checking_double_test['question_len'].cumsum())[-1]:\n",
    "    question_cnt.append(question_cnt_tmp['tmp_q'][sum(question_cnt)])\n",
    "question_cnt = (pd.Series(question_cnt).cumsum()-1).astype(int)\n",
    "\n",
    "train[train['tmp_q'].isna()==False][['elapsed_time']].reset_index().iloc[question_cnt] # 뭐지 왜 중간 부터 인덱싱이 안 맞지"
   ]
  },
  {
   "cell_type": "markdown",
   "metadata": {
    "collapsed": false
   },
   "source": [
    "- 왠지는 모르겠는데 인덱싱이 안 맞아서 해결이 안 됨\n",
    "- 전처리 친구들에게 맡긴다...~"
   ]
  },
  {
   "cell_type": "code",
   "execution_count": null,
   "metadata": {
    "collapsed": false
   },
   "outputs": [],
   "source": [
    "train.loc[same_test, 'elapsed_time'] = -1 # 이거는 한 테스트를 연속으로 푼 애들 -1로 바꾸는거"
   ]
  },
  {
   "cell_type": "markdown",
   "metadata": {
    "collapsed": false
   },
   "source": [
    "# 3. EDA"
   ]
  },
  {
   "cell_type": "markdown",
   "metadata": {
    "collapsed": false
   },
   "source": [
    "### 한 테스트를 보는데 얼마의 시간이 소요되는지 확인 (median)"
   ]
  },
  {
   "cell_type": "code",
   "execution_count": null,
   "metadata": {
    "collapsed": false
   },
   "outputs": [],
   "source": [
    "# 평균적으로 한 테스트를 보는데 얼마의 시간이 소요되는지 확인\n",
    "train['Timestamp'] = pd.to_datetime(train['Timestamp'])\n",
    "train.groupby(by=['userID', 'testId'])['Timestamp'].apply(lambda x : max(x) - min(x))\n",
    "\n",
    "tmp = train.groupby(by=['userID', 'testId'])['Timestamp'].apply(lambda x : max(x) - min(x)).to_frame().groupby('testId').median()\n",
    "tmp['Timestamp'].max() #15분 이상 걸린 애들 다 -1로 밀어도 될듯 (한 시험 전체를 푸는데 max 14분인데 한 문제를 푸는데 15분 이상이 걸렸다는건 이상치임)"
   ]
  },
  {
   "cell_type": "markdown",
   "metadata": {
    "collapsed": false
   },
   "source": [
    "- 한 테스트를 보는데 15분 정도 소요됨 => 한 문제에 15분 이상 걸린 애들은 -1로 밀어도 되지 않을까? 하는 생각\n",
    "- 근데 밀려고 했으나 진짜로 15분 정도 썼다면? 한 문제에? -> threshold를 지정해서 밀던가 아니면 한 테스트가 아니라 문제 하나를 푸는데 소요한 mediandmf qhkqhwk"
   ]
  },
  {
   "cell_type": "markdown",
   "metadata": {
    "collapsed": false
   },
   "source": [
    "### 한 문제당 15분 이상 소요한 애들의 정답 비율"
   ]
  },
  {
   "cell_type": "code",
   "execution_count": null,
   "metadata": {
    "collapsed": false
   },
   "outputs": [],
   "source": [
    "# 한 문제 15분 이상 걸린 애들의 정답 비율\n",
    "train[train['elapsed_time'] > 900]['answerCode'].value_counts()"
   ]
  },
  {
   "cell_type": "markdown",
   "metadata": {
    "collapsed": false
   },
   "source": [
    "### 한 문제를 푸는데 얼마의 시간이 소요되는지 (median) -> 27 초"
   ]
  },
  {
   "cell_type": "code",
   "execution_count": null,
   "metadata": {
    "collapsed": false
   },
   "outputs": [],
   "source": [
    "# 문제별 소요 시간 median\n",
    "tmp = train.groupby(['userID', 'assessmentItemID'])['elapsed_time'].max().to_frame().groupby('assessmentItemID').median().reset_index()\n",
    "tmp = tmp['elapsed_time']\n",
    "tmp = [ value for value in tmp if value != -1.0]\n",
    "np.median(tmp)\n"
   ]
  },
  {
   "cell_type": "markdown",
   "metadata": {
    "collapsed": false
   },
   "source": [
    "- 문제 푼 시간이 오래 걸린 애들은 전처리가 필요하겠다\n",
    "- 어떻게 할 것인가?\n",
    "    1. 동일한 문제를 푼 다른 애들의 평균 값과 해당 유저의 평균 소요 시간을 반영한 가중평균\n",
    "    2. 특정한 값 (ex. 200)으로 Threshold주고 그 값으로 밀자"
   ]
  },
  {
   "cell_type": "code",
   "execution_count": null,
   "metadata": {
    "collapsed": false
   },
   "outputs": [],
   "source": [
    "# # 문제 푼 시간이 오래 걸리면 99999로 바꿈 -> 동일한 문제를 푼 다른 애들의 평균 값과 해당 유저의 평균 값을 반영한 값 or 200으로 threshold\n",
    "# time_outlier = 200\n",
    "# train.loc[train[train['elapsed_time']>time_outlier].index, 'elapsed_time'] = 99999\n",
    "# # VER1. 200으로 threshold\n",
    "# train.loc[train[train['elapsed_time']>99999].index, 'elapsed_time'] = time_outlier\n",
    "# # VER2. 알아서 하세요.. 문제 평균값이랑 유저 평균 값 고려해서 하는건..."
   ]
  },
  {
   "cell_type": "markdown",
   "metadata": {
    "collapsed": false
   },
   "source": [
    "### 한 유저가 같은 시험지를 두 번 이상 푼 적 있나?"
   ]
  },
  {
   "cell_type": "code",
   "execution_count": null,
   "metadata": {
    "collapsed": false
   },
   "outputs": [],
   "source": [
    "train.groupby(['userID', 'assessmentItemID'])['testId'].count().value_counts() # 같은 시험지를 3번 까지 푼 애들도 있음"
   ]
  },
  {
   "cell_type": "markdown",
   "metadata": {
    "collapsed": false
   },
   "source": [
    "### knowledgetag는 시험지 별로 균일하게 분포하는가? -> 아니요"
   ]
  },
  {
   "cell_type": "code",
   "execution_count": null,
   "metadata": {
    "collapsed": false
   },
   "outputs": [],
   "source": [
    "# tag는 시험지 별로 균일하게 분포 하는가? => 아닌 것 같음 한 시험지가 한 태그로 다 밀려 있는 경우도 있음\n",
    "train.groupby(\"testId\")[\"KnowledgeTag\"].value_counts().to_frame()"
   ]
  },
  {
   "cell_type": "markdown",
   "metadata": {
    "collapsed": false
   },
   "source": [
    "### knowledgetag의 개수는 시험지의 카테고리 별로 균일하게 분포하는가? -> 아니요"
   ]
  },
  {
   "cell_type": "code",
   "execution_count": null,
   "metadata": {
    "collapsed": false
   },
   "outputs": [],
   "source": [
    "tmp = train.groupby(\"test_cat\")[\"KnowledgeTag\"].value_counts().rename('KnolwedgeTagCnt').reset_index()\n",
    "tmp = dict(zip(tmp.test_cat, tmp.KnowledgeTag))\n",
    "\n",
    "sns.barplot(x = list(tmp.keys()), y = list(tmp.values()))"
   ]
  },
  {
   "cell_type": "markdown",
   "metadata": {
    "collapsed": false
   },
   "source": [
    "### 그렇다면 카테고리별 시험지 자체의 개수는? -> 9번 카테고리 빼고 꽤나 균일하게 분포함"
   ]
  },
  {
   "cell_type": "code",
   "execution_count": null,
   "metadata": {
    "collapsed": false
   },
   "outputs": [],
   "source": [
    "tmp = train.groupby('test_cat')['KnowledgeTag'].count()\n",
    "sns.barplot(x = tmp.index, y = tmp.values)"
   ]
  },
  {
   "cell_type": "markdown",
   "metadata": {
    "collapsed": false
   },
   "source": [
    "### 개수 대비 knowledge tag의 분포 => 이건 이렇게 계산하면 안 될 거 같은데.... 나 바보라 모르겠어ㅜㅜ"
   ]
  },
  {
   "cell_type": "code",
   "execution_count": null,
   "metadata": {
    "collapsed": false
   },
   "outputs": [],
   "source": [
    "tmp = train.groupby(\"test_cat\")[\"KnowledgeTag\"].value_counts().rename('KnolwedgeTagCnt').reset_index()\n",
    "tmp = dict(zip(tmp.test_cat, tmp.KnowledgeTag))\n",
    "cnt = train.groupby('test_cat')['KnowledgeTag'].count()\n",
    "tmp = { key:cnt/value for (key, value), cnt in zip(tmp.items(), cnt)} ; tmp"
   ]
  },
  {
   "cell_type": "markdown",
   "metadata": {
    "collapsed": false
   },
   "source": [
    "### knowledgetag는 고유한 category를 갖는가?"
   ]
  },
  {
   "cell_type": "code",
   "execution_count": null,
   "metadata": {
    "collapsed": false
   },
   "outputs": [],
   "source": [
    "tmp1, tmp2, tmp3, tmp4, tmp5, tmp6, tmp7, tmp8, tmp9 = train.groupby(\"test_cat\")[\"KnowledgeTag\"].unique().apply(set)\n",
    "tmp = [tmp1, tmp2, tmp3, tmp4, tmp5, tmp6, tmp7, tmp8, tmp9]"
   ]
  },
  {
   "cell_type": "code",
   "execution_count": null,
   "metadata": {
    "collapsed": false
   },
   "outputs": [],
   "source": [
    "for i, a in enumerate(tmp):\n",
    "    for j, b in enumerate(tmp):\n",
    "        if a == b:\n",
    "            continue\n",
    "        if a.intersection(b) != set():\n",
    "            print(i+1, j+1)\n",
    "            print(a.intersection(b))"
   ]
  },
  {
   "cell_type": "markdown",
   "metadata": {
    "collapsed": false
   },
   "source": [
    "- 7863번 knowledgetag 제외 모두 고유한 category를 가짐"
   ]
  },
  {
   "cell_type": "markdown",
   "metadata": {
    "collapsed": false
   },
   "source": [
    "### test cat의 분포 및 cat에 따른 정답율?"
   ]
  },
  {
   "cell_type": "code",
   "execution_count": null,
   "metadata": {
    "collapsed": false
   },
   "outputs": [],
   "source": [
    "# test의 cat의 분포 및 정답률 그래프\n",
    "fig,ax1 = plt.subplots()\n",
    "ax1.bar(range(1,10), train.value_counts('test_cat').sort_index())\n",
    "ax2 = ax1.twinx()\n",
    "ax2.plot(range(1,10), train.groupby('test_cat')['answerCode'].mean(), c = 'red')\n",
    "plt.show()"
   ]
  },
  {
   "cell_type": "code",
   "execution_count": null,
   "metadata": {
    "collapsed": false
   },
   "outputs": [],
   "source": [
    "train = pd.read_csv('./data/train_data.csv')\n",
    "test = pd.read_csv('./data/test_data.csv')\n",
    "sub = pd.read_csv('./data/sample_submission.csv')\n",
    "\n",
    "# 시간 차이(문제 푸는데 걸린 시간) 계산\n",
    "train['Timestamp'] = pd.to_datetime(train['Timestamp'])\n",
    "train['elapsed_time'] = train['Timestamp'].astype(int)\n",
    "train['elapsed_time'] = train['elapsed_time'].diff().shift(-1) // 10**9\n",
    "\n",
    "# 바뀌는 순간 포착 (testid, userid 둘중 하나가 바뀌는 순간 포착)\n",
    "train['testId2'] = train['testId'].apply(lambda x: x[1:])\n",
    "train['testId2'] = (train['testId2'] + train['userID'].astype(str)).astype(int)\n",
    "train['changed_point'] = train['testId2'].diff().shift(-1)\n",
    "train['changed_point'] = train['changed_point'].apply(lambda x: False if x == 0 else True)\n",
    "train.drop('testId2', axis=1, inplace=True)\n",
    "\n",
    "# 카테고리 컬럼 추가\n",
    "train['test_cat'] = train['testId'].apply(lambda x: x[2])\n",
    "\n",
    "# 문제 번호 컬럼 추가\n",
    "train['question_number'] = train['assessmentItemID'].apply(lambda x: x[8:10]).map(int)"
   ]
  },
  {
   "cell_type": "code",
   "execution_count": null,
   "metadata": {
    "collapsed": false
   },
   "outputs": [],
   "source": [
    "# elapsed_time이 너무 큰 경우, threshold를 걸어줄 수도 있다.\n",
    "THRESHOLD_TIME = 200\n",
    "train['elapsed_time_threshold'] = train['elapsed_time'].apply(lambda x: min(x, THRESHOLD_TIME))\n",
    "\n",
    "\n",
    "# train data를 주어진 column에 대해서 groupby 하는 함수\n",
    "def make_groupby(train: pd.DataFrame, group: str) -> pd.DataFrame:\n",
    "    \"\"\"\n",
    "        answerCode: 정답률\n",
    "        count: 행이 등장한 횟수\n",
    "        time_mean: 걸린 시간 평균\n",
    "        time_median: 걸린 시간 중간값\n",
    "        time_threshold_mean: threshold 적용 후 평균\n",
    "        time_threshold_median: threshold 적용 후 중간 값(time_median 이랑 동일할듯...)\n",
    "    \"\"\"\n",
    "    df = train.groupby(group)['answerCode'].mean().to_frame()\n",
    "    df['count'] = train.groupby(group)['answerCode'].count()\n",
    "\n",
    "    # 시간에 대한 계산을 할 때는 제일 마지막 문제(시간 계산이 이상하게 나오는 경우)는 제외하고 계산한다.\n",
    "    df['time_mean'] = train[~train['changed_point']].groupby(group)['elapsed_time'].mean()\n",
    "    df['time_median'] = train[~train['changed_point']].groupby(group)['elapsed_time'].median()\n",
    "    df['time_threshold_mean'] = train[~train['changed_point']].groupby(group)['elapsed_time_threshold'].mean()\n",
    "    df['time_threshold_median'] = train[~train['changed_point']].groupby(group)['elapsed_time_threshold'].median()\n",
    "\n",
    "    return df\n",
    "\n",
    "exam = make_groupby(train, 'testId')\n",
    "tag = make_groupby(train, 'KnowledgeTag')\n",
    "problem = make_groupby(train, 'assessmentItemID')\n",
    "category = make_groupby(train, 'test_cat')\n",
    "problem_13 = make_groupby(train, 'question_number')\n",
    "user = make_groupby(train, 'userID')\n"
   ]
  },
  {
   "cell_type": "code",
   "execution_count": null,
   "metadata": {
    "collapsed": false
   },
   "outputs": [],
   "source": [
    "# 위에서 make_groupby로 만든 df들 그래프로 그려보기\n",
    "def plot_multi(df: pd.DataFrame) -> None:\n",
    "    fig, (axs) = plt.subplots(nrows=2, ncols=3, figsize=(50, 20))\n",
    "    axs[0][0].plot(df['answerCode'])\n",
    "    axs[0][0].set_title('answerCode')\n",
    "\n",
    "    axs[0][1].plot(df['count'])\n",
    "    axs[0][1].set_title('count')\n",
    "\n",
    "    axs[0][2].plot(df['time_mean'])\n",
    "    axs[0][2].set_title('time_mean')\n",
    "\n",
    "    axs[1][0].plot(df['time_median'])\n",
    "    axs[1][0].set_title('time_median')\n",
    "\n",
    "    axs[1][1].plot(df['time_threshold_median'])\n",
    "    axs[1][1].set_title('time_threshold_median')\n",
    "\n",
    "    axs[1][2].plot(df['time_threshold_median'])\n",
    "    axs[1][2].set_title('time_threshold_median')\n",
    "\n",
    "    plt.xlabel(df.index.name)\n",
    "    plt.show()\n",
    "\n",
    "plot_multi(problem_13)"
   ]
  },
  {
   "cell_type": "code",
   "execution_count": null,
   "metadata": {
    "collapsed": false
   },
   "outputs": [],
   "source": [
    "train = pd.read_csv('input/data/train_data.csv')\n",
    "test = pd.read_csv('input/data/test_data.csv')\n",
    "sub = pd.read_csv('input/data/sample_submission.csv')"
   ]
  },
  {
   "cell_type": "code",
   "execution_count": null,
   "metadata": {
    "collapsed": false
   },
   "outputs": [],
   "source": [
    "train[\"Timestamp\"] = train[\"Timestamp\"].astype(\"str\")\n",
    "date_info = train[\"Timestamp\"].str.split(\" \")\n",
    "\n",
    "train[\"날짜\"] = date_info.str.get(0)\n",
    "train[\"시간\"] = date_info.str.get(1)\n",
    "dates = train[\"날짜\"].str.split(\"-\")\n",
    "times = train[\"시간\"].str.split(\":\")\n",
    "\n",
    "train[\"year\"] = dates.str.get(0)\n",
    "train[\"month\"] = dates.str.get(1)\n",
    "train[\"day\"] = dates.str.get(2)\n",
    "train[\"hour\"] = times.str.get(0)\n",
    "train[\"minute\"] = times.str.get(1)\n",
    "train[\"second\"] = times.str.get(2)\n",
    "\n",
    "train[\"hour\"] = train[\"hour\"].astype(int)"
   ]
  },
  {
   "cell_type": "code",
   "execution_count": null,
   "metadata": {
    "collapsed": false
   },
   "outputs": [],
   "source": [
    "train"
   ]
  },
  {
   "cell_type": "code",
   "execution_count": null,
   "metadata": {
    "collapsed": false
   },
   "outputs": [],
   "source": [
    "train[\"year\"].unique()"
   ]
  },
  {
   "cell_type": "markdown",
   "metadata": {
    "collapsed": false
   },
   "source": [
    "## 시간대별 문제 개수"
   ]
  },
  {
   "cell_type": "code",
   "execution_count": null,
   "metadata": {
    "collapsed": false
   },
   "outputs": [],
   "source": [
    "sns.lineplot(train['hour'].value_counts())"
   ]
  },
  {
   "cell_type": "markdown",
   "metadata": {
    "collapsed": false
   },
   "source": [
    "## 시간대별 정답률"
   ]
  },
  {
   "cell_type": "code",
   "execution_count": null,
   "metadata": {
    "collapsed": false
   },
   "outputs": [],
   "source": [
    "sns.lineplot(train.groupby(\"hour\")[\"answerCode\"].mean())"
   ]
  },
  {
   "cell_type": "markdown",
   "metadata": {
    "collapsed": false
   },
   "source": [
    "## 월별 정답률"
   ]
  },
  {
   "cell_type": "code",
   "execution_count": null,
   "metadata": {
    "collapsed": false
   },
   "outputs": [],
   "source": [
    "sns.lineplot(train.groupby(\"month\")[\"answerCode\"].mean())"
   ]
  },
  {
   "cell_type": "markdown",
   "metadata": {
    "collapsed": false
   },
   "source": [
    "## 월별 문제수"
   ]
  },
  {
   "cell_type": "code",
   "execution_count": null,
   "metadata": {
    "collapsed": false
   },
   "outputs": [],
   "source": [
    "sns.lineplot(train['month'].value_counts().sort_index())"
   ]
  },
  {
   "cell_type": "code",
   "execution_count": null,
   "metadata": {
    "collapsed": false
   },
   "outputs": [],
   "source": [
    "import numpy as np\n",
    "import pandas as pd\n",
    "import matplotlib.pyplot as plt\n",
    "# import seaborn as sns"
   ]
  },
  {
   "cell_type": "code",
   "execution_count": null,
   "metadata": {
    "collapsed": false
   },
   "outputs": [],
   "source": [
    "train = pd.read_csv('train_data.csv')"
   ]
  },
  {
   "cell_type": "code",
   "execution_count": null,
   "metadata": {
    "collapsed": false
   },
   "outputs": [],
   "source": [
    "# 유저별 태그별 푼 문제 수\n",
    "by_tag = train.groupby(['userID', 'KnowledgeTag'])['Timestamp'].count()\n",
    "by_tag"
   ]
  },
  {
   "cell_type": "markdown",
   "metadata": {
    "collapsed": false
   },
   "source": [
    "언뜻 보기엔 시간 순으로 정답률을 보기엔 문제 수가 너무 적어보인다. 가장 많이 푼 유저를 찾아 태그별 문제 수의 분포를 봐야겠다."
   ]
  },
  {
   "cell_type": "code",
   "execution_count": null,
   "metadata": {
    "collapsed": false
   },
   "outputs": [],
   "source": [
    "# 유저 별 푼 문제 수\n",
    "train.groupby('userID')['assessmentItemID'].count().sort_values()"
   ]
  },
  {
   "cell_type": "code",
   "execution_count": null,
   "metadata": {
    "collapsed": false
   },
   "outputs": [],
   "source": [
    "fig, ax = plt.subplots()\n",
    "ax.boxplot(by_tag.loc[730])\n",
    "plt.show()"
   ]
  },
  {
   "cell_type": "markdown",
   "metadata": {
    "collapsed": false
   },
   "source": [
    "문제를 가장 많이 푼 유저기준으로 보아도 시간별 정답률을 구하기엔 문제 수의 분포가 너무 적은 쪽에 몰려있는 듯 하다. 만약 문제를 얼마 풀지 않은 유저 기준으로는 더더욱이나 시간별 정답률을 구하기 힘들어보인다."
   ]
  },
  {
   "cell_type": "markdown",
   "metadata": {
    "collapsed": false
   },
   "source": [
    "그래서 유저를 고려하지 않고 태그별 시간 순서 정답률을 구해보았다."
   ]
  },
  {
   "cell_type": "code",
   "execution_count": null,
   "metadata": {
    "collapsed": false
   },
   "outputs": [],
   "source": [
    "# 태그별 시간 순서 answerCode\n",
    "by_tag = train.groupby(['KnowledgeTag', 'Timestamp'])['answerCode'].sum().to_frame()\n",
    "by_tag"
   ]
  },
  {
   "cell_type": "code",
   "execution_count": null,
   "metadata": {
    "collapsed": false
   },
   "outputs": [],
   "source": [
    "# 정답률을 구하기 위해 cumsum을 진행하며 total # of solved를 누적해줄 column 생성\n",
    "by_tag['num_solved'] = 1\n",
    "by_tag"
   ]
  },
  {
   "cell_type": "code",
   "execution_count": null,
   "metadata": {
    "collapsed": false
   },
   "outputs": [],
   "source": [
    "by_tag = by_tag.groupby(level=0).cumsum()\n",
    "by_tag['accuracy'] = by_tag['answerCode'] / by_tag['num_solved']\n",
    "by_tag"
   ]
  },
  {
   "cell_type": "code",
   "execution_count": null,
   "metadata": {
    "collapsed": false
   },
   "outputs": [],
   "source": [
    "# 가장 많이 풀린 태그 찾기\n",
    "train.groupby('KnowledgeTag')['assessmentItemID'].count().sort_values()"
   ]
  },
  {
   "cell_type": "code",
   "execution_count": null,
   "metadata": {
    "collapsed": false
   },
   "outputs": [],
   "source": [
    "# 필요없는 column drop하고 가장 많이 풀린 태그 정보 불러와 저장\n",
    "by_tag = by_tag.drop(['answerCode', 'num_solved'], axis=1)\n",
    "by_tag_7597 = by_tag.loc[7597] ; by_tag_7597"
   ]
  },
  {
   "cell_type": "code",
   "execution_count": null,
   "metadata": {
    "collapsed": false
   },
   "outputs": [],
   "source": [
    "by_tag_7597.plot(figsize=(11, 5))\n",
    "\n",
    "plt.title('Tag 7597\\'s accuracy by time' )\n",
    "plt.gcf().autofmt_xdate()\n",
    "plt.show()"
   ]
  },
  {
   "cell_type": "markdown",
   "metadata": {
    "collapsed": false
   },
   "source": [
    "태그를 풀면 풀수록 모든 유저가 답을 계속 맞추지 않는 이상 정답률은 낮아질 수 밖에 없는 듯 하다."
   ]
  }
 ],
 "metadata": {
  "kernelspec": {
   "display_name": "Python 3.8.5 ('base')",
   "language": "python",
   "name": "python3"
  },
  "language_info": {
   "codemirror_mode": {
    "name": "ipython",
    "version": 3
   },
   "file_extension": ".py",
   "mimetype": "text/x-python",
   "name": "python",
   "nbconvert_exporter": "python",
   "pygments_lexer": "ipython3",
   "version": "3.8.5"
  },
  "vscode": {
   "interpreter": {
    "hash": "d4d1e4263499bec80672ea0156c357c1ee493ec2b1c70f0acce89fc37c4a6abe"
   }
  }
 },
 "nbformat": 4,
 "nbformat_minor": 0
}
