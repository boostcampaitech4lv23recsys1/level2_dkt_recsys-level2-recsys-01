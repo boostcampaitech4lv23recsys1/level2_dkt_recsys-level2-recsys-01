{
 "cells": [
  {
   "cell_type": "code",
   "execution_count": null,
   "metadata": {},
   "outputs": [],
   "source": [
    "import pandas as pd\n",
    "import numpy as np\n",
    "\n",
    "train_origin = pd.read_csv('../data/traintest_v2.2.csv')"
   ]
  },
  {
   "cell_type": "code",
   "execution_count": null,
   "metadata": {},
   "outputs": [],
   "source": [
    "train_origin.shape"
   ]
  },
  {
   "cell_type": "markdown",
   "metadata": {},
   "source": [
    "# Data Version 3.0\n",
    "\n",
    "- 각 문제, tag, cat 등등 소요시간 잘못된 것 수정\n"
   ]
  },
  {
   "cell_type": "code",
   "execution_count": null,
   "metadata": {},
   "outputs": [],
   "source": [
    "train = train_origin[['userID', 'Timestamp', 'assessmentItemID', 'test_cat', 'question_number', 'KnowledgeTag', 'week_num', 'testId']].copy()\n",
    "train['post_Timestamp'] = train.groupby(['userID', 'testId'])['Timestamp'].shift(-1)\n",
    "train = train.dropna(axis=0)\n",
    "train['Timestamp'] = pd.to_datetime(train['Timestamp'])\n",
    "train['post_Timestamp'] = pd.to_datetime(train['post_Timestamp'])\n",
    "train['elapsed_time_now'] = (train['post_Timestamp'].astype(int) - train['Timestamp'].astype(int)) // 1e9\n",
    "train['elapsed_time_now'] = train['elapsed_time_now'].astype(int)\n",
    "\n",
    "train['elapsed_time_now'] = train['elapsed_time_now'].apply(lambda x: max(0, min(x, 600)))\n",
    "train['elapsed_time_now_log'] = np.log(train['elapsed_time_now'] + 1)\n",
    "\n",
    "\n"
   ]
  },
  {
   "cell_type": "code",
   "execution_count": null,
   "metadata": {},
   "outputs": [],
   "source": [
    "def et_mean_std(train, train_origin, column):\n",
    "    col2mean = train.groupby(column)['elapsed_time_now_log'].mean().to_dict()\n",
    "    col2std = train.groupby(column)['elapsed_time_now_log'].std().to_dict()\n",
    "\n",
    "    train_origin[f'{column}_et_std'] = train_origin[column].map(col2mean)\n",
    "    train_origin[f'{column}_et_mean'] = train_origin[column].map(col2std)\n",
    "    return train_origin\n",
    "\n",
    "et_mean_std(train, train_origin, 'assessmentItemID')\n",
    "et_mean_std(train, train_origin, 'test_cat')\n",
    "et_mean_std(train, train_origin, 'question_number')\n",
    "et_mean_std(train, train_origin, 'KnowledgeTag')\n",
    "et_mean_std(train, train_origin, 'week_num')\n",
    "et_mean_std(train, train_origin, 'testId')\n"
   ]
  },
  {
   "cell_type": "code",
   "execution_count": null,
   "metadata": {},
   "outputs": [],
   "source": [
    "train_origin['KnowledgeTag_et_mean'].fillna(np.mean(train_origin['KnowledgeTag_et_mean']), inplace=True)\n",
    "train_origin['KnowledgeTag_et_std'].fillna(np.mean(train_origin['KnowledgeTag_et_std']), inplace=True)\n",
    "train_origin['assessmentItemID_et_std'].fillna(np.mean(train_origin['assessmentItemID_et_std']), inplace=True)\n",
    "train_origin['assessmentItemID_et_mean'].fillna(np.mean(train_origin['assessmentItemID_et_mean']), inplace=True)"
   ]
  },
  {
   "cell_type": "code",
   "execution_count": null,
   "metadata": {},
   "outputs": [],
   "source": [
    "train_origin.to_csv('../data/traintest_v3.0.csv', index=False)"
   ]
  },
  {
   "cell_type": "code",
   "execution_count": null,
   "metadata": {},
   "outputs": [],
   "source": [
    "import pandas as pd\n",
    "import numpy as np\n",
    "\n",
    "train_origin = pd.read_csv('../data/traintest_v3.0.csv')\n",
    "train_origin.shape"
   ]
  }
 ],
 "metadata": {
  "kernelspec": {
   "display_name": "Python 3.8.5 ('base')",
   "language": "python",
   "name": "python3"
  },
  "language_info": {
   "codemirror_mode": {
    "name": "ipython",
    "version": 3
   },
   "file_extension": ".py",
   "mimetype": "text/x-python",
   "name": "python",
   "nbconvert_exporter": "python",
   "pygments_lexer": "ipython3",
   "version": "3.8.5"
  },
  "orig_nbformat": 4,
  "vscode": {
   "interpreter": {
    "hash": "d4d1e4263499bec80672ea0156c357c1ee493ec2b1c70f0acce89fc37c4a6abe"
   }
  }
 },
 "nbformat": 4,
 "nbformat_minor": 2
}
