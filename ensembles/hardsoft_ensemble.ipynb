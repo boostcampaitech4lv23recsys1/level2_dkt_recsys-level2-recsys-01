{
 "cells": [
  {
   "cell_type": "code",
   "execution_count": 14,
   "metadata": {},
   "outputs": [],
   "source": [
    "import pandas as pd\n",
    "import numpy as np\n",
    "import glob\n",
    "from datetime import datetime"
   ]
  },
  {
   "cell_type": "code",
   "execution_count": 7,
   "metadata": {},
   "outputs": [],
   "source": [
    "# ensemble할 파일 가져오기\n",
    "input_csv = list()\n",
    "for file in glob.glob(\"../ensembles_inference/*.csv\"):\n",
    "    df = pd.read_csv(file)\n",
    "    input_csv.append(df[[\"prediction\"]])\n",
    "csv_nums = len(input_csv)"
   ]
  },
  {
   "cell_type": "code",
   "execution_count": 8,
   "metadata": {},
   "outputs": [],
   "source": [
    "# prediction 열의 value만 취하기\n",
    "input_sum = list()\n",
    "for df in input_csv:\n",
    "    input_sum.append(list(df[\"prediction\"].iloc[:744].values))"
   ]
  },
  {
   "cell_type": "code",
   "execution_count": null,
   "metadata": {},
   "outputs": [],
   "source": [
    "output_np = np.array(input_sum).T # (test 문제 수 x  csv 개수) -> (csv 개수 x test 문제 수)\n",
    "\n",
    "result = []\n",
    "for row in output_np[:]: # 한 행(문제)씩 살핌\n",
    "    print(type(row))\n",
    "    ans = np.where(row > 0.5,1,0) # 0.5를 넘기면 1, 넘기지 못하면 0\n",
    "    if ans.sum() > csv_nums//2: # ans에 sum을 취해 1의 개수 세기\n",
    "        value = np.average(row[np.where(ans == 1)]) # 1의 개수가 더 많으면 0.5 보다 큰 확률의 평균\n",
    "    elif ans.sum() < csv_nums//2:\n",
    "        value = np.average(row[np.where(ans == 0)]) # 0의 개수가 더 많으면 0.5 보다 작은 확률의 평균\n",
    "    else:\n",
    "        value = np.average(row) # 1과 0의 개수가 동일한 경우 전체 평균\n",
    "    result.append(value)\n",
    "df['prediction'] = result"
   ]
  },
  {
   "cell_type": "code",
   "execution_count": 24,
   "metadata": {},
   "outputs": [],
   "source": [
    "now = \"_\".join(str(datetime.now()).split())[:-10]\n",
    "df.to_csv(f\"../ensembles_submit/{now}_hs_ensemble.csv\", index_label=\"id\")"
   ]
  }
 ],
 "metadata": {
  "kernelspec": {
   "display_name": "Python 3.8.15 ('idle')",
   "language": "python",
   "name": "python3"
  },
  "language_info": {
   "codemirror_mode": {
    "name": "ipython",
    "version": 3
   },
   "file_extension": ".py",
   "mimetype": "text/x-python",
   "name": "python",
   "nbconvert_exporter": "python",
   "pygments_lexer": "ipython3",
   "version": "3.8.15"
  },
  "orig_nbformat": 4,
  "vscode": {
   "interpreter": {
    "hash": "82083a258d99d44070836dd77b43d6e437653d871fa975f86863c05a7971ca64"
   }
  }
 },
 "nbformat": 4,
 "nbformat_minor": 2
}
